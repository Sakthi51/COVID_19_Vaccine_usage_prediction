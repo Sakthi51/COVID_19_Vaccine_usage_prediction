{
  "nbformat": 4,
  "nbformat_minor": 5,
  "metadata": {
    "kernelspec": {
      "display_name": "Python 3",
      "language": "python",
      "name": "python3"
    },
    "language_info": {
      "codemirror_mode": {
        "name": "ipython",
        "version": 3
      },
      "file_extension": ".py",
      "mimetype": "text/x-python",
      "name": "python",
      "nbconvert_exporter": "python",
      "pygments_lexer": "ipython3",
      "version": "3.8.8"
    },
    "colab": {
      "name": "39120080_PORKODI_S_Project_Covid19_Prediction_.ipynb",
      "provenance": [],
      "collapsed_sections": [],
      "include_colab_link": true
    }
  },
  "cells": [
    {
      "cell_type": "markdown",
      "metadata": {
        "id": "view-in-github",
        "colab_type": "text"
      },
      "source": [
        "<a href=\"https://colab.research.google.com/github/Porkodi177/Covid19-Prediction/blob/main/39120080_PORKODI_S_Project_Covid19_Prediction_.ipynb\" target=\"_parent\"><img src=\"https://colab.research.google.com/assets/colab-badge.svg\" alt=\"Open In Colab\"/></a>"
      ]
    },
    {
      "cell_type": "code",
      "metadata": {
        "id": "f45f6db9"
      },
      "source": [
        "import pandas as pd\n",
        "import numpy as np\n",
        "import matplotlib.pyplot as plt\n",
        "import seaborn as sns\n",
        "import sklearn"
      ],
      "id": "f45f6db9",
      "execution_count": null,
      "outputs": []
    },
    {
      "cell_type": "code",
      "metadata": {
        "id": "911e04b8"
      },
      "source": [
        "data = pd.read_csv('/content/h1n1_vaccine_prediction.csv')"
      ],
      "id": "911e04b8",
      "execution_count": null,
      "outputs": []
    },
    {
      "cell_type": "code",
      "metadata": {
        "colab": {
          "base_uri": "https://localhost:8080/"
        },
        "id": "cdb86b4a",
        "outputId": "e891f83f-f110-4d58-9db4-8fee86680265"
      },
      "source": [
        "data.dtypes"
      ],
      "id": "cdb86b4a",
      "execution_count": null,
      "outputs": [
        {
          "output_type": "execute_result",
          "data": {
            "text/plain": [
              "unique_id                      int64\n",
              "h1n1_worry                   float64\n",
              "h1n1_awareness               float64\n",
              "antiviral_medication         float64\n",
              "contact_avoidance            float64\n",
              "bought_face_mask             float64\n",
              "wash_hands_frequently        float64\n",
              "avoid_large_gatherings       float64\n",
              "reduced_outside_home_cont    float64\n",
              "avoid_touch_face             float64\n",
              "dr_recc_h1n1_vacc            float64\n",
              "dr_recc_seasonal_vacc        float64\n",
              "chronic_medic_condition      float64\n",
              "cont_child_undr_6_mnths      float64\n",
              "is_health_worker             float64\n",
              "has_health_insur             float64\n",
              "is_h1n1_vacc_effective       float64\n",
              "is_h1n1_risky                float64\n",
              "sick_from_h1n1_vacc          float64\n",
              "is_seas_vacc_effective       float64\n",
              "is_seas_risky                float64\n",
              "sick_from_seas_vacc          float64\n",
              "age_bracket                   object\n",
              "qualification                 object\n",
              "race                          object\n",
              "sex                           object\n",
              "income_level                  object\n",
              "marital_status                object\n",
              "housing_status                object\n",
              "employment                    object\n",
              "census_msa                    object\n",
              "no_of_adults                 float64\n",
              "no_of_children               float64\n",
              "h1n1_vaccine                   int64\n",
              "dtype: object"
            ]
          },
          "metadata": {},
          "execution_count": 3
        }
      ]
    },
    {
      "cell_type": "code",
      "metadata": {
        "id": "0e397b79"
      },
      "source": [
        "data = data.drop(columns=['unique_id'])"
      ],
      "id": "0e397b79",
      "execution_count": null,
      "outputs": []
    },
    {
      "cell_type": "code",
      "metadata": {
        "colab": {
          "base_uri": "https://localhost:8080/"
        },
        "id": "9WYNAaCDnizc",
        "outputId": "c606e4a4-c8cc-4c24-e923-a6e4a71bba6a"
      },
      "source": [
        "data.columns"
      ],
      "id": "9WYNAaCDnizc",
      "execution_count": null,
      "outputs": [
        {
          "output_type": "execute_result",
          "data": {
            "text/plain": [
              "Index(['h1n1_worry', 'h1n1_awareness', 'antiviral_medication',\n",
              "       'contact_avoidance', 'bought_face_mask', 'wash_hands_frequently',\n",
              "       'avoid_large_gatherings', 'reduced_outside_home_cont',\n",
              "       'avoid_touch_face', 'dr_recc_h1n1_vacc', 'dr_recc_seasonal_vacc',\n",
              "       'chronic_medic_condition', 'cont_child_undr_6_mnths',\n",
              "       'is_health_worker', 'has_health_insur', 'is_h1n1_vacc_effective',\n",
              "       'is_h1n1_risky', 'sick_from_h1n1_vacc', 'is_seas_vacc_effective',\n",
              "       'is_seas_risky', 'sick_from_seas_vacc', 'age_bracket', 'qualification',\n",
              "       'race', 'sex', 'income_level', 'marital_status', 'housing_status',\n",
              "       'employment', 'census_msa', 'no_of_adults', 'no_of_children',\n",
              "       'h1n1_vaccine'],\n",
              "      dtype='object')"
            ]
          },
          "metadata": {},
          "execution_count": 5
        }
      ]
    },
    {
      "cell_type": "code",
      "metadata": {
        "id": "c9906973"
      },
      "source": [
        "data_category_column = data.columns[data.dtypes=='object'] #Which of the columns are category type"
      ],
      "id": "c9906973",
      "execution_count": null,
      "outputs": []
    },
    {
      "cell_type": "code",
      "metadata": {
        "id": "a3532522"
      },
      "source": [
        "data_numeric_column = data.columns[data.dtypes!='object'] #Which of the columns are of numeric type"
      ],
      "id": "a3532522",
      "execution_count": null,
      "outputs": []
    },
    {
      "cell_type": "code",
      "metadata": {
        "colab": {
          "base_uri": "https://localhost:8080/"
        },
        "id": "_8LF0tqXGRfS",
        "outputId": "7990cc1e-5a09-494c-f3ce-c76042a624ec"
      },
      "source": [
        "print(data_category_column) #Names of category columns"
      ],
      "id": "_8LF0tqXGRfS",
      "execution_count": null,
      "outputs": [
        {
          "output_type": "stream",
          "name": "stdout",
          "text": [
            "Index(['age_bracket', 'qualification', 'race', 'sex', 'income_level',\n",
            "       'marital_status', 'housing_status', 'employment', 'census_msa'],\n",
            "      dtype='object')\n"
          ]
        }
      ]
    },
    {
      "cell_type": "code",
      "metadata": {
        "colab": {
          "base_uri": "https://localhost:8080/"
        },
        "id": "105ZRl93GUHf",
        "outputId": "6a1343cf-23b6-4eb2-c47d-3c5a04d35a52"
      },
      "source": [
        "print(data_numeric_column) #Names of numeric columns"
      ],
      "id": "105ZRl93GUHf",
      "execution_count": null,
      "outputs": [
        {
          "output_type": "stream",
          "name": "stdout",
          "text": [
            "Index(['h1n1_worry', 'h1n1_awareness', 'antiviral_medication',\n",
            "       'contact_avoidance', 'bought_face_mask', 'wash_hands_frequently',\n",
            "       'avoid_large_gatherings', 'reduced_outside_home_cont',\n",
            "       'avoid_touch_face', 'dr_recc_h1n1_vacc', 'dr_recc_seasonal_vacc',\n",
            "       'chronic_medic_condition', 'cont_child_undr_6_mnths',\n",
            "       'is_health_worker', 'has_health_insur', 'is_h1n1_vacc_effective',\n",
            "       'is_h1n1_risky', 'sick_from_h1n1_vacc', 'is_seas_vacc_effective',\n",
            "       'is_seas_risky', 'sick_from_seas_vacc', 'no_of_adults',\n",
            "       'no_of_children', 'h1n1_vaccine'],\n",
            "      dtype='object')\n"
          ]
        }
      ]
    },
    {
      "cell_type": "markdown",
      "metadata": {
        "id": "_P4lvtXooIyg"
      },
      "source": [
        "Create data sub sets"
      ],
      "id": "_P4lvtXooIyg"
    },
    {
      "cell_type": "code",
      "metadata": {
        "id": "f3943300"
      },
      "source": [
        "data_category = data[data_category_column]  #Category Data"
      ],
      "id": "f3943300",
      "execution_count": null,
      "outputs": []
    },
    {
      "cell_type": "code",
      "metadata": {
        "id": "14e1b5b4"
      },
      "source": [
        "data_numeric = data[data_numeric_column]   #Numeric Data"
      ],
      "id": "14e1b5b4",
      "execution_count": null,
      "outputs": []
    },
    {
      "cell_type": "code",
      "metadata": {
        "colab": {
          "base_uri": "https://localhost:8080/"
        },
        "id": "j5SvHD5voXfs",
        "outputId": "4e3bbe3c-6f62-4c11-a3f5-6abbd8306f46"
      },
      "source": [
        "data_category.shape"
      ],
      "id": "j5SvHD5voXfs",
      "execution_count": null,
      "outputs": [
        {
          "output_type": "execute_result",
          "data": {
            "text/plain": [
              "(26707, 9)"
            ]
          },
          "metadata": {},
          "execution_count": 12
        }
      ]
    },
    {
      "cell_type": "code",
      "metadata": {
        "colab": {
          "base_uri": "https://localhost:8080/"
        },
        "id": "JTveQY4OocJP",
        "outputId": "ff6e8788-d46e-4c48-92c1-1ac804c21e32"
      },
      "source": [
        "data_numeric.shape"
      ],
      "id": "JTveQY4OocJP",
      "execution_count": null,
      "outputs": [
        {
          "output_type": "execute_result",
          "data": {
            "text/plain": [
              "(26707, 24)"
            ]
          },
          "metadata": {},
          "execution_count": 13
        }
      ]
    },
    {
      "cell_type": "code",
      "metadata": {
        "colab": {
          "base_uri": "https://localhost:8080/",
          "height": 206
        },
        "id": "1a4HsNXYokC8",
        "outputId": "d09c6bce-2fb9-4063-8c7f-e043110004ff"
      },
      "source": [
        "data_category.head()"
      ],
      "id": "1a4HsNXYokC8",
      "execution_count": null,
      "outputs": [
        {
          "output_type": "execute_result",
          "data": {
            "text/html": [
              "<div>\n",
              "<style scoped>\n",
              "    .dataframe tbody tr th:only-of-type {\n",
              "        vertical-align: middle;\n",
              "    }\n",
              "\n",
              "    .dataframe tbody tr th {\n",
              "        vertical-align: top;\n",
              "    }\n",
              "\n",
              "    .dataframe thead th {\n",
              "        text-align: right;\n",
              "    }\n",
              "</style>\n",
              "<table border=\"1\" class=\"dataframe\">\n",
              "  <thead>\n",
              "    <tr style=\"text-align: right;\">\n",
              "      <th></th>\n",
              "      <th>age_bracket</th>\n",
              "      <th>qualification</th>\n",
              "      <th>race</th>\n",
              "      <th>sex</th>\n",
              "      <th>income_level</th>\n",
              "      <th>marital_status</th>\n",
              "      <th>housing_status</th>\n",
              "      <th>employment</th>\n",
              "      <th>census_msa</th>\n",
              "    </tr>\n",
              "  </thead>\n",
              "  <tbody>\n",
              "    <tr>\n",
              "      <th>0</th>\n",
              "      <td>55 - 64 Years</td>\n",
              "      <td>&lt; 12 Years</td>\n",
              "      <td>White</td>\n",
              "      <td>Female</td>\n",
              "      <td>Below Poverty</td>\n",
              "      <td>Not Married</td>\n",
              "      <td>Own</td>\n",
              "      <td>Not in Labor Force</td>\n",
              "      <td>Non-MSA</td>\n",
              "    </tr>\n",
              "    <tr>\n",
              "      <th>1</th>\n",
              "      <td>35 - 44 Years</td>\n",
              "      <td>12 Years</td>\n",
              "      <td>White</td>\n",
              "      <td>Male</td>\n",
              "      <td>Below Poverty</td>\n",
              "      <td>Not Married</td>\n",
              "      <td>Rent</td>\n",
              "      <td>Employed</td>\n",
              "      <td>MSA, Not Principle  City</td>\n",
              "    </tr>\n",
              "    <tr>\n",
              "      <th>2</th>\n",
              "      <td>18 - 34 Years</td>\n",
              "      <td>College Graduate</td>\n",
              "      <td>White</td>\n",
              "      <td>Male</td>\n",
              "      <td>&lt;= $75,000, Above Poverty</td>\n",
              "      <td>Not Married</td>\n",
              "      <td>Own</td>\n",
              "      <td>Employed</td>\n",
              "      <td>MSA, Not Principle  City</td>\n",
              "    </tr>\n",
              "    <tr>\n",
              "      <th>3</th>\n",
              "      <td>65+ Years</td>\n",
              "      <td>12 Years</td>\n",
              "      <td>White</td>\n",
              "      <td>Female</td>\n",
              "      <td>Below Poverty</td>\n",
              "      <td>Not Married</td>\n",
              "      <td>Rent</td>\n",
              "      <td>Not in Labor Force</td>\n",
              "      <td>MSA, Principle City</td>\n",
              "    </tr>\n",
              "    <tr>\n",
              "      <th>4</th>\n",
              "      <td>45 - 54 Years</td>\n",
              "      <td>Some College</td>\n",
              "      <td>White</td>\n",
              "      <td>Female</td>\n",
              "      <td>&lt;= $75,000, Above Poverty</td>\n",
              "      <td>Married</td>\n",
              "      <td>Own</td>\n",
              "      <td>Employed</td>\n",
              "      <td>MSA, Not Principle  City</td>\n",
              "    </tr>\n",
              "  </tbody>\n",
              "</table>\n",
              "</div>"
            ],
            "text/plain": [
              "     age_bracket  ...                census_msa\n",
              "0  55 - 64 Years  ...                   Non-MSA\n",
              "1  35 - 44 Years  ...  MSA, Not Principle  City\n",
              "2  18 - 34 Years  ...  MSA, Not Principle  City\n",
              "3      65+ Years  ...       MSA, Principle City\n",
              "4  45 - 54 Years  ...  MSA, Not Principle  City\n",
              "\n",
              "[5 rows x 9 columns]"
            ]
          },
          "metadata": {},
          "execution_count": 14
        }
      ]
    },
    {
      "cell_type": "code",
      "metadata": {
        "colab": {
          "base_uri": "https://localhost:8080/",
          "height": 226
        },
        "id": "fO5PXRaaosGx",
        "outputId": "d6f686f5-5483-4ce9-a43e-1bd24fcb521a"
      },
      "source": [
        "data_numeric.head()"
      ],
      "id": "fO5PXRaaosGx",
      "execution_count": null,
      "outputs": [
        {
          "output_type": "execute_result",
          "data": {
            "text/html": [
              "<div>\n",
              "<style scoped>\n",
              "    .dataframe tbody tr th:only-of-type {\n",
              "        vertical-align: middle;\n",
              "    }\n",
              "\n",
              "    .dataframe tbody tr th {\n",
              "        vertical-align: top;\n",
              "    }\n",
              "\n",
              "    .dataframe thead th {\n",
              "        text-align: right;\n",
              "    }\n",
              "</style>\n",
              "<table border=\"1\" class=\"dataframe\">\n",
              "  <thead>\n",
              "    <tr style=\"text-align: right;\">\n",
              "      <th></th>\n",
              "      <th>h1n1_worry</th>\n",
              "      <th>h1n1_awareness</th>\n",
              "      <th>antiviral_medication</th>\n",
              "      <th>contact_avoidance</th>\n",
              "      <th>bought_face_mask</th>\n",
              "      <th>wash_hands_frequently</th>\n",
              "      <th>avoid_large_gatherings</th>\n",
              "      <th>reduced_outside_home_cont</th>\n",
              "      <th>avoid_touch_face</th>\n",
              "      <th>dr_recc_h1n1_vacc</th>\n",
              "      <th>dr_recc_seasonal_vacc</th>\n",
              "      <th>chronic_medic_condition</th>\n",
              "      <th>cont_child_undr_6_mnths</th>\n",
              "      <th>is_health_worker</th>\n",
              "      <th>has_health_insur</th>\n",
              "      <th>is_h1n1_vacc_effective</th>\n",
              "      <th>is_h1n1_risky</th>\n",
              "      <th>sick_from_h1n1_vacc</th>\n",
              "      <th>is_seas_vacc_effective</th>\n",
              "      <th>is_seas_risky</th>\n",
              "      <th>sick_from_seas_vacc</th>\n",
              "      <th>no_of_adults</th>\n",
              "      <th>no_of_children</th>\n",
              "      <th>h1n1_vaccine</th>\n",
              "    </tr>\n",
              "  </thead>\n",
              "  <tbody>\n",
              "    <tr>\n",
              "      <th>0</th>\n",
              "      <td>1.0</td>\n",
              "      <td>0.0</td>\n",
              "      <td>0.0</td>\n",
              "      <td>0.0</td>\n",
              "      <td>0.0</td>\n",
              "      <td>0.0</td>\n",
              "      <td>0.0</td>\n",
              "      <td>1.0</td>\n",
              "      <td>1.0</td>\n",
              "      <td>0.0</td>\n",
              "      <td>0.0</td>\n",
              "      <td>0.0</td>\n",
              "      <td>0.0</td>\n",
              "      <td>0.0</td>\n",
              "      <td>1.0</td>\n",
              "      <td>3.0</td>\n",
              "      <td>1.0</td>\n",
              "      <td>2.0</td>\n",
              "      <td>2.0</td>\n",
              "      <td>1.0</td>\n",
              "      <td>2.0</td>\n",
              "      <td>0.0</td>\n",
              "      <td>0.0</td>\n",
              "      <td>0</td>\n",
              "    </tr>\n",
              "    <tr>\n",
              "      <th>1</th>\n",
              "      <td>3.0</td>\n",
              "      <td>2.0</td>\n",
              "      <td>0.0</td>\n",
              "      <td>1.0</td>\n",
              "      <td>0.0</td>\n",
              "      <td>1.0</td>\n",
              "      <td>0.0</td>\n",
              "      <td>1.0</td>\n",
              "      <td>1.0</td>\n",
              "      <td>0.0</td>\n",
              "      <td>0.0</td>\n",
              "      <td>0.0</td>\n",
              "      <td>0.0</td>\n",
              "      <td>0.0</td>\n",
              "      <td>1.0</td>\n",
              "      <td>5.0</td>\n",
              "      <td>4.0</td>\n",
              "      <td>4.0</td>\n",
              "      <td>4.0</td>\n",
              "      <td>2.0</td>\n",
              "      <td>4.0</td>\n",
              "      <td>0.0</td>\n",
              "      <td>0.0</td>\n",
              "      <td>0</td>\n",
              "    </tr>\n",
              "    <tr>\n",
              "      <th>2</th>\n",
              "      <td>1.0</td>\n",
              "      <td>1.0</td>\n",
              "      <td>0.0</td>\n",
              "      <td>1.0</td>\n",
              "      <td>0.0</td>\n",
              "      <td>0.0</td>\n",
              "      <td>0.0</td>\n",
              "      <td>0.0</td>\n",
              "      <td>0.0</td>\n",
              "      <td>NaN</td>\n",
              "      <td>NaN</td>\n",
              "      <td>1.0</td>\n",
              "      <td>0.0</td>\n",
              "      <td>0.0</td>\n",
              "      <td>NaN</td>\n",
              "      <td>3.0</td>\n",
              "      <td>1.0</td>\n",
              "      <td>1.0</td>\n",
              "      <td>4.0</td>\n",
              "      <td>1.0</td>\n",
              "      <td>2.0</td>\n",
              "      <td>2.0</td>\n",
              "      <td>0.0</td>\n",
              "      <td>0</td>\n",
              "    </tr>\n",
              "    <tr>\n",
              "      <th>3</th>\n",
              "      <td>1.0</td>\n",
              "      <td>1.0</td>\n",
              "      <td>0.0</td>\n",
              "      <td>1.0</td>\n",
              "      <td>0.0</td>\n",
              "      <td>1.0</td>\n",
              "      <td>1.0</td>\n",
              "      <td>0.0</td>\n",
              "      <td>0.0</td>\n",
              "      <td>0.0</td>\n",
              "      <td>1.0</td>\n",
              "      <td>1.0</td>\n",
              "      <td>0.0</td>\n",
              "      <td>0.0</td>\n",
              "      <td>NaN</td>\n",
              "      <td>3.0</td>\n",
              "      <td>3.0</td>\n",
              "      <td>5.0</td>\n",
              "      <td>5.0</td>\n",
              "      <td>4.0</td>\n",
              "      <td>1.0</td>\n",
              "      <td>0.0</td>\n",
              "      <td>0.0</td>\n",
              "      <td>0</td>\n",
              "    </tr>\n",
              "    <tr>\n",
              "      <th>4</th>\n",
              "      <td>2.0</td>\n",
              "      <td>1.0</td>\n",
              "      <td>0.0</td>\n",
              "      <td>1.0</td>\n",
              "      <td>0.0</td>\n",
              "      <td>1.0</td>\n",
              "      <td>1.0</td>\n",
              "      <td>0.0</td>\n",
              "      <td>1.0</td>\n",
              "      <td>0.0</td>\n",
              "      <td>0.0</td>\n",
              "      <td>0.0</td>\n",
              "      <td>0.0</td>\n",
              "      <td>0.0</td>\n",
              "      <td>NaN</td>\n",
              "      <td>3.0</td>\n",
              "      <td>3.0</td>\n",
              "      <td>2.0</td>\n",
              "      <td>3.0</td>\n",
              "      <td>1.0</td>\n",
              "      <td>4.0</td>\n",
              "      <td>1.0</td>\n",
              "      <td>0.0</td>\n",
              "      <td>0</td>\n",
              "    </tr>\n",
              "  </tbody>\n",
              "</table>\n",
              "</div>"
            ],
            "text/plain": [
              "   h1n1_worry  h1n1_awareness  ...  no_of_children  h1n1_vaccine\n",
              "0         1.0             0.0  ...             0.0             0\n",
              "1         3.0             2.0  ...             0.0             0\n",
              "2         1.0             1.0  ...             0.0             0\n",
              "3         1.0             1.0  ...             0.0             0\n",
              "4         2.0             1.0  ...             0.0             0\n",
              "\n",
              "[5 rows x 24 columns]"
            ]
          },
          "metadata": {},
          "execution_count": 15
        }
      ]
    },
    {
      "cell_type": "markdown",
      "metadata": {
        "id": "XdGap0gEoQx4"
      },
      "source": [
        "Check for missing data"
      ],
      "id": "XdGap0gEoQx4"
    },
    {
      "cell_type": "code",
      "metadata": {
        "colab": {
          "base_uri": "https://localhost:8080/"
        },
        "id": "06cedc39",
        "outputId": "9599723b-a444-4252-e69e-19045ab756df"
      },
      "source": [
        "data_category.isna().sum().sort_values(ascending=False)"
      ],
      "id": "06cedc39",
      "execution_count": null,
      "outputs": [
        {
          "output_type": "execute_result",
          "data": {
            "text/plain": [
              "income_level      4423\n",
              "housing_status    2042\n",
              "employment        1463\n",
              "marital_status    1408\n",
              "qualification     1407\n",
              "census_msa           0\n",
              "sex                  0\n",
              "race                 0\n",
              "age_bracket          0\n",
              "dtype: int64"
            ]
          },
          "metadata": {},
          "execution_count": 16
        }
      ]
    },
    {
      "cell_type": "code",
      "metadata": {
        "colab": {
          "base_uri": "https://localhost:8080/"
        },
        "id": "8cbdebb5",
        "outputId": "8a001734-c9f7-4845-8246-df4ad05dde1b"
      },
      "source": [
        "data_numeric.isna().sum().sort_values(ascending=False)"
      ],
      "id": "8cbdebb5",
      "execution_count": null,
      "outputs": [
        {
          "output_type": "execute_result",
          "data": {
            "text/plain": [
              "has_health_insur             12274\n",
              "dr_recc_h1n1_vacc             2160\n",
              "dr_recc_seasonal_vacc         2160\n",
              "chronic_medic_condition        971\n",
              "cont_child_undr_6_mnths        820\n",
              "is_health_worker               804\n",
              "sick_from_seas_vacc            537\n",
              "is_seas_risky                  514\n",
              "is_seas_vacc_effective         462\n",
              "sick_from_h1n1_vacc            395\n",
              "is_h1n1_vacc_effective         391\n",
              "is_h1n1_risky                  388\n",
              "no_of_children                 249\n",
              "no_of_adults                   249\n",
              "contact_avoidance              208\n",
              "avoid_touch_face               128\n",
              "h1n1_awareness                 116\n",
              "h1n1_worry                      92\n",
              "avoid_large_gatherings          87\n",
              "reduced_outside_home_cont       82\n",
              "antiviral_medication            71\n",
              "wash_hands_frequently           42\n",
              "bought_face_mask                19\n",
              "h1n1_vaccine                     0\n",
              "dtype: int64"
            ]
          },
          "metadata": {},
          "execution_count": 17
        }
      ]
    },
    {
      "cell_type": "markdown",
      "metadata": {
        "id": "7078ed9d"
      },
      "source": [
        "Categorical imputation using lambda function\n",
        "lambda x: x.fillna(x.value_counts().index[0]"
      ],
      "id": "7078ed9d"
    },
    {
      "cell_type": "code",
      "metadata": {
        "colab": {
          "base_uri": "https://localhost:8080/",
          "height": 321
        },
        "id": "iw21tpEeqVes",
        "outputId": "46f2e598-9848-496b-dab9-f4331f2def0e"
      },
      "source": [
        "#For Sample\n",
        "y = pd.DataFrame(['Male','Male',np.NaN,np.NaN,np.NaN,'Female','Male'])\n",
        "\n",
        "print(y.value_counts())\n",
        "\n",
        "y=y.apply(lambda x: x.fillna(x.value_counts().index[0]))\n",
        "\n",
        "y"
      ],
      "id": "iw21tpEeqVes",
      "execution_count": null,
      "outputs": [
        {
          "output_type": "stream",
          "name": "stdout",
          "text": [
            "Male      3\n",
            "Female    1\n",
            "dtype: int64\n"
          ]
        },
        {
          "output_type": "execute_result",
          "data": {
            "text/html": [
              "<div>\n",
              "<style scoped>\n",
              "    .dataframe tbody tr th:only-of-type {\n",
              "        vertical-align: middle;\n",
              "    }\n",
              "\n",
              "    .dataframe tbody tr th {\n",
              "        vertical-align: top;\n",
              "    }\n",
              "\n",
              "    .dataframe thead th {\n",
              "        text-align: right;\n",
              "    }\n",
              "</style>\n",
              "<table border=\"1\" class=\"dataframe\">\n",
              "  <thead>\n",
              "    <tr style=\"text-align: right;\">\n",
              "      <th></th>\n",
              "      <th>0</th>\n",
              "    </tr>\n",
              "  </thead>\n",
              "  <tbody>\n",
              "    <tr>\n",
              "      <th>0</th>\n",
              "      <td>Male</td>\n",
              "    </tr>\n",
              "    <tr>\n",
              "      <th>1</th>\n",
              "      <td>Male</td>\n",
              "    </tr>\n",
              "    <tr>\n",
              "      <th>2</th>\n",
              "      <td>Male</td>\n",
              "    </tr>\n",
              "    <tr>\n",
              "      <th>3</th>\n",
              "      <td>Male</td>\n",
              "    </tr>\n",
              "    <tr>\n",
              "      <th>4</th>\n",
              "      <td>Male</td>\n",
              "    </tr>\n",
              "    <tr>\n",
              "      <th>5</th>\n",
              "      <td>Female</td>\n",
              "    </tr>\n",
              "    <tr>\n",
              "      <th>6</th>\n",
              "      <td>Male</td>\n",
              "    </tr>\n",
              "  </tbody>\n",
              "</table>\n",
              "</div>"
            ],
            "text/plain": [
              "        0\n",
              "0    Male\n",
              "1    Male\n",
              "2    Male\n",
              "3    Male\n",
              "4    Male\n",
              "5  Female\n",
              "6    Male"
            ]
          },
          "metadata": {},
          "execution_count": 18
        }
      ]
    },
    {
      "cell_type": "code",
      "metadata": {
        "id": "fb6bd492"
      },
      "source": [
        "data_clean_category = data_category.apply(lambda x: x.fillna(x.value_counts().index[0]))"
      ],
      "id": "fb6bd492",
      "execution_count": null,
      "outputs": []
    },
    {
      "cell_type": "code",
      "metadata": {
        "colab": {
          "base_uri": "https://localhost:8080/"
        },
        "id": "c4395033",
        "outputId": "c3fe2045-67ab-4a36-cbf9-f4fd0911d9f6"
      },
      "source": [
        "data_clean_category.isna().sum().sort_values(ascending=False)"
      ],
      "id": "c4395033",
      "execution_count": null,
      "outputs": [
        {
          "output_type": "execute_result",
          "data": {
            "text/plain": [
              "census_msa        0\n",
              "employment        0\n",
              "housing_status    0\n",
              "marital_status    0\n",
              "income_level      0\n",
              "sex               0\n",
              "race              0\n",
              "qualification     0\n",
              "age_bracket       0\n",
              "dtype: int64"
            ]
          },
          "metadata": {},
          "execution_count": 20
        }
      ]
    },
    {
      "cell_type": "code",
      "metadata": {
        "colab": {
          "base_uri": "https://localhost:8080/"
        },
        "id": "6fouViEcuIv2",
        "outputId": "6e5e5116-62a2-4371-ea1b-d9f771569574"
      },
      "source": [
        "data_clean_category.dtypes"
      ],
      "id": "6fouViEcuIv2",
      "execution_count": null,
      "outputs": [
        {
          "output_type": "execute_result",
          "data": {
            "text/plain": [
              "age_bracket       object\n",
              "qualification     object\n",
              "race              object\n",
              "sex               object\n",
              "income_level      object\n",
              "marital_status    object\n",
              "housing_status    object\n",
              "employment        object\n",
              "census_msa        object\n",
              "dtype: object"
            ]
          },
          "metadata": {},
          "execution_count": 21
        }
      ]
    },
    {
      "cell_type": "markdown",
      "metadata": {
        "id": "low3lbZvuax0"
      },
      "source": [
        "Use a Loop to convert all object columns to category"
      ],
      "id": "low3lbZvuax0"
    },
    {
      "cell_type": "code",
      "metadata": {
        "id": "6e07f086"
      },
      "source": [
        "for column in data_clean_category.columns:\n",
        "    data_clean_category[column] = data_clean_category[column].astype('category')"
      ],
      "id": "6e07f086",
      "execution_count": null,
      "outputs": []
    },
    {
      "cell_type": "code",
      "metadata": {
        "colab": {
          "base_uri": "https://localhost:8080/"
        },
        "id": "3992a07d",
        "outputId": "a28a98bd-576e-48bd-fb65-2a05aa8692cc"
      },
      "source": [
        "data_clean_category.dtypes"
      ],
      "id": "3992a07d",
      "execution_count": null,
      "outputs": [
        {
          "output_type": "execute_result",
          "data": {
            "text/plain": [
              "age_bracket       category\n",
              "qualification     category\n",
              "race              category\n",
              "sex               category\n",
              "income_level      category\n",
              "marital_status    category\n",
              "housing_status    category\n",
              "employment        category\n",
              "census_msa        category\n",
              "dtype: object"
            ]
          },
          "metadata": {},
          "execution_count": 23
        }
      ]
    },
    {
      "cell_type": "code",
      "metadata": {
        "colab": {
          "base_uri": "https://localhost:8080/",
          "height": 206
        },
        "id": "LRmsoLxxvCrO",
        "outputId": "118cdd18-2bd0-4603-9c4c-dafa09a96bce"
      },
      "source": [
        "data_clean_category.head()"
      ],
      "id": "LRmsoLxxvCrO",
      "execution_count": null,
      "outputs": [
        {
          "output_type": "execute_result",
          "data": {
            "text/html": [
              "<div>\n",
              "<style scoped>\n",
              "    .dataframe tbody tr th:only-of-type {\n",
              "        vertical-align: middle;\n",
              "    }\n",
              "\n",
              "    .dataframe tbody tr th {\n",
              "        vertical-align: top;\n",
              "    }\n",
              "\n",
              "    .dataframe thead th {\n",
              "        text-align: right;\n",
              "    }\n",
              "</style>\n",
              "<table border=\"1\" class=\"dataframe\">\n",
              "  <thead>\n",
              "    <tr style=\"text-align: right;\">\n",
              "      <th></th>\n",
              "      <th>age_bracket</th>\n",
              "      <th>qualification</th>\n",
              "      <th>race</th>\n",
              "      <th>sex</th>\n",
              "      <th>income_level</th>\n",
              "      <th>marital_status</th>\n",
              "      <th>housing_status</th>\n",
              "      <th>employment</th>\n",
              "      <th>census_msa</th>\n",
              "    </tr>\n",
              "  </thead>\n",
              "  <tbody>\n",
              "    <tr>\n",
              "      <th>0</th>\n",
              "      <td>55 - 64 Years</td>\n",
              "      <td>&lt; 12 Years</td>\n",
              "      <td>White</td>\n",
              "      <td>Female</td>\n",
              "      <td>Below Poverty</td>\n",
              "      <td>Not Married</td>\n",
              "      <td>Own</td>\n",
              "      <td>Not in Labor Force</td>\n",
              "      <td>Non-MSA</td>\n",
              "    </tr>\n",
              "    <tr>\n",
              "      <th>1</th>\n",
              "      <td>35 - 44 Years</td>\n",
              "      <td>12 Years</td>\n",
              "      <td>White</td>\n",
              "      <td>Male</td>\n",
              "      <td>Below Poverty</td>\n",
              "      <td>Not Married</td>\n",
              "      <td>Rent</td>\n",
              "      <td>Employed</td>\n",
              "      <td>MSA, Not Principle  City</td>\n",
              "    </tr>\n",
              "    <tr>\n",
              "      <th>2</th>\n",
              "      <td>18 - 34 Years</td>\n",
              "      <td>College Graduate</td>\n",
              "      <td>White</td>\n",
              "      <td>Male</td>\n",
              "      <td>&lt;= $75,000, Above Poverty</td>\n",
              "      <td>Not Married</td>\n",
              "      <td>Own</td>\n",
              "      <td>Employed</td>\n",
              "      <td>MSA, Not Principle  City</td>\n",
              "    </tr>\n",
              "    <tr>\n",
              "      <th>3</th>\n",
              "      <td>65+ Years</td>\n",
              "      <td>12 Years</td>\n",
              "      <td>White</td>\n",
              "      <td>Female</td>\n",
              "      <td>Below Poverty</td>\n",
              "      <td>Not Married</td>\n",
              "      <td>Rent</td>\n",
              "      <td>Not in Labor Force</td>\n",
              "      <td>MSA, Principle City</td>\n",
              "    </tr>\n",
              "    <tr>\n",
              "      <th>4</th>\n",
              "      <td>45 - 54 Years</td>\n",
              "      <td>Some College</td>\n",
              "      <td>White</td>\n",
              "      <td>Female</td>\n",
              "      <td>&lt;= $75,000, Above Poverty</td>\n",
              "      <td>Married</td>\n",
              "      <td>Own</td>\n",
              "      <td>Employed</td>\n",
              "      <td>MSA, Not Principle  City</td>\n",
              "    </tr>\n",
              "  </tbody>\n",
              "</table>\n",
              "</div>"
            ],
            "text/plain": [
              "     age_bracket  ...                census_msa\n",
              "0  55 - 64 Years  ...                   Non-MSA\n",
              "1  35 - 44 Years  ...  MSA, Not Principle  City\n",
              "2  18 - 34 Years  ...  MSA, Not Principle  City\n",
              "3      65+ Years  ...       MSA, Principle City\n",
              "4  45 - 54 Years  ...  MSA, Not Principle  City\n",
              "\n",
              "[5 rows x 9 columns]"
            ]
          },
          "metadata": {},
          "execution_count": 24
        }
      ]
    },
    {
      "cell_type": "markdown",
      "metadata": {
        "id": "f448db9b"
      },
      "source": [
        "Numeric columns missing value imputation"
      ],
      "id": "f448db9b"
    },
    {
      "cell_type": "code",
      "metadata": {
        "colab": {
          "base_uri": "https://localhost:8080/",
          "height": 226
        },
        "id": "yp2hTvAFvarG",
        "outputId": "6a28e237-fe98-46fe-ca26-06542664f661"
      },
      "source": [
        "data_numeric.head()"
      ],
      "id": "yp2hTvAFvarG",
      "execution_count": null,
      "outputs": [
        {
          "output_type": "execute_result",
          "data": {
            "text/html": [
              "<div>\n",
              "<style scoped>\n",
              "    .dataframe tbody tr th:only-of-type {\n",
              "        vertical-align: middle;\n",
              "    }\n",
              "\n",
              "    .dataframe tbody tr th {\n",
              "        vertical-align: top;\n",
              "    }\n",
              "\n",
              "    .dataframe thead th {\n",
              "        text-align: right;\n",
              "    }\n",
              "</style>\n",
              "<table border=\"1\" class=\"dataframe\">\n",
              "  <thead>\n",
              "    <tr style=\"text-align: right;\">\n",
              "      <th></th>\n",
              "      <th>h1n1_worry</th>\n",
              "      <th>h1n1_awareness</th>\n",
              "      <th>antiviral_medication</th>\n",
              "      <th>contact_avoidance</th>\n",
              "      <th>bought_face_mask</th>\n",
              "      <th>wash_hands_frequently</th>\n",
              "      <th>avoid_large_gatherings</th>\n",
              "      <th>reduced_outside_home_cont</th>\n",
              "      <th>avoid_touch_face</th>\n",
              "      <th>dr_recc_h1n1_vacc</th>\n",
              "      <th>dr_recc_seasonal_vacc</th>\n",
              "      <th>chronic_medic_condition</th>\n",
              "      <th>cont_child_undr_6_mnths</th>\n",
              "      <th>is_health_worker</th>\n",
              "      <th>has_health_insur</th>\n",
              "      <th>is_h1n1_vacc_effective</th>\n",
              "      <th>is_h1n1_risky</th>\n",
              "      <th>sick_from_h1n1_vacc</th>\n",
              "      <th>is_seas_vacc_effective</th>\n",
              "      <th>is_seas_risky</th>\n",
              "      <th>sick_from_seas_vacc</th>\n",
              "      <th>no_of_adults</th>\n",
              "      <th>no_of_children</th>\n",
              "      <th>h1n1_vaccine</th>\n",
              "    </tr>\n",
              "  </thead>\n",
              "  <tbody>\n",
              "    <tr>\n",
              "      <th>0</th>\n",
              "      <td>1.0</td>\n",
              "      <td>0.0</td>\n",
              "      <td>0.0</td>\n",
              "      <td>0.0</td>\n",
              "      <td>0.0</td>\n",
              "      <td>0.0</td>\n",
              "      <td>0.0</td>\n",
              "      <td>1.0</td>\n",
              "      <td>1.0</td>\n",
              "      <td>0.0</td>\n",
              "      <td>0.0</td>\n",
              "      <td>0.0</td>\n",
              "      <td>0.0</td>\n",
              "      <td>0.0</td>\n",
              "      <td>1.0</td>\n",
              "      <td>3.0</td>\n",
              "      <td>1.0</td>\n",
              "      <td>2.0</td>\n",
              "      <td>2.0</td>\n",
              "      <td>1.0</td>\n",
              "      <td>2.0</td>\n",
              "      <td>0.0</td>\n",
              "      <td>0.0</td>\n",
              "      <td>0</td>\n",
              "    </tr>\n",
              "    <tr>\n",
              "      <th>1</th>\n",
              "      <td>3.0</td>\n",
              "      <td>2.0</td>\n",
              "      <td>0.0</td>\n",
              "      <td>1.0</td>\n",
              "      <td>0.0</td>\n",
              "      <td>1.0</td>\n",
              "      <td>0.0</td>\n",
              "      <td>1.0</td>\n",
              "      <td>1.0</td>\n",
              "      <td>0.0</td>\n",
              "      <td>0.0</td>\n",
              "      <td>0.0</td>\n",
              "      <td>0.0</td>\n",
              "      <td>0.0</td>\n",
              "      <td>1.0</td>\n",
              "      <td>5.0</td>\n",
              "      <td>4.0</td>\n",
              "      <td>4.0</td>\n",
              "      <td>4.0</td>\n",
              "      <td>2.0</td>\n",
              "      <td>4.0</td>\n",
              "      <td>0.0</td>\n",
              "      <td>0.0</td>\n",
              "      <td>0</td>\n",
              "    </tr>\n",
              "    <tr>\n",
              "      <th>2</th>\n",
              "      <td>1.0</td>\n",
              "      <td>1.0</td>\n",
              "      <td>0.0</td>\n",
              "      <td>1.0</td>\n",
              "      <td>0.0</td>\n",
              "      <td>0.0</td>\n",
              "      <td>0.0</td>\n",
              "      <td>0.0</td>\n",
              "      <td>0.0</td>\n",
              "      <td>NaN</td>\n",
              "      <td>NaN</td>\n",
              "      <td>1.0</td>\n",
              "      <td>0.0</td>\n",
              "      <td>0.0</td>\n",
              "      <td>NaN</td>\n",
              "      <td>3.0</td>\n",
              "      <td>1.0</td>\n",
              "      <td>1.0</td>\n",
              "      <td>4.0</td>\n",
              "      <td>1.0</td>\n",
              "      <td>2.0</td>\n",
              "      <td>2.0</td>\n",
              "      <td>0.0</td>\n",
              "      <td>0</td>\n",
              "    </tr>\n",
              "    <tr>\n",
              "      <th>3</th>\n",
              "      <td>1.0</td>\n",
              "      <td>1.0</td>\n",
              "      <td>0.0</td>\n",
              "      <td>1.0</td>\n",
              "      <td>0.0</td>\n",
              "      <td>1.0</td>\n",
              "      <td>1.0</td>\n",
              "      <td>0.0</td>\n",
              "      <td>0.0</td>\n",
              "      <td>0.0</td>\n",
              "      <td>1.0</td>\n",
              "      <td>1.0</td>\n",
              "      <td>0.0</td>\n",
              "      <td>0.0</td>\n",
              "      <td>NaN</td>\n",
              "      <td>3.0</td>\n",
              "      <td>3.0</td>\n",
              "      <td>5.0</td>\n",
              "      <td>5.0</td>\n",
              "      <td>4.0</td>\n",
              "      <td>1.0</td>\n",
              "      <td>0.0</td>\n",
              "      <td>0.0</td>\n",
              "      <td>0</td>\n",
              "    </tr>\n",
              "    <tr>\n",
              "      <th>4</th>\n",
              "      <td>2.0</td>\n",
              "      <td>1.0</td>\n",
              "      <td>0.0</td>\n",
              "      <td>1.0</td>\n",
              "      <td>0.0</td>\n",
              "      <td>1.0</td>\n",
              "      <td>1.0</td>\n",
              "      <td>0.0</td>\n",
              "      <td>1.0</td>\n",
              "      <td>0.0</td>\n",
              "      <td>0.0</td>\n",
              "      <td>0.0</td>\n",
              "      <td>0.0</td>\n",
              "      <td>0.0</td>\n",
              "      <td>NaN</td>\n",
              "      <td>3.0</td>\n",
              "      <td>3.0</td>\n",
              "      <td>2.0</td>\n",
              "      <td>3.0</td>\n",
              "      <td>1.0</td>\n",
              "      <td>4.0</td>\n",
              "      <td>1.0</td>\n",
              "      <td>0.0</td>\n",
              "      <td>0</td>\n",
              "    </tr>\n",
              "  </tbody>\n",
              "</table>\n",
              "</div>"
            ],
            "text/plain": [
              "   h1n1_worry  h1n1_awareness  ...  no_of_children  h1n1_vaccine\n",
              "0         1.0             0.0  ...             0.0             0\n",
              "1         3.0             2.0  ...             0.0             0\n",
              "2         1.0             1.0  ...             0.0             0\n",
              "3         1.0             1.0  ...             0.0             0\n",
              "4         2.0             1.0  ...             0.0             0\n",
              "\n",
              "[5 rows x 24 columns]"
            ]
          },
          "metadata": {},
          "execution_count": 25
        }
      ]
    },
    {
      "cell_type": "code",
      "metadata": {
        "colab": {
          "base_uri": "https://localhost:8080/"
        },
        "id": "LngDOCFevhZP",
        "outputId": "63d898a0-89de-4d8a-a965-0127e96b8f02"
      },
      "source": [
        "data_numeric.dtypes"
      ],
      "id": "LngDOCFevhZP",
      "execution_count": null,
      "outputs": [
        {
          "output_type": "execute_result",
          "data": {
            "text/plain": [
              "h1n1_worry                   float64\n",
              "h1n1_awareness               float64\n",
              "antiviral_medication         float64\n",
              "contact_avoidance            float64\n",
              "bought_face_mask             float64\n",
              "wash_hands_frequently        float64\n",
              "avoid_large_gatherings       float64\n",
              "reduced_outside_home_cont    float64\n",
              "avoid_touch_face             float64\n",
              "dr_recc_h1n1_vacc            float64\n",
              "dr_recc_seasonal_vacc        float64\n",
              "chronic_medic_condition      float64\n",
              "cont_child_undr_6_mnths      float64\n",
              "is_health_worker             float64\n",
              "has_health_insur             float64\n",
              "is_h1n1_vacc_effective       float64\n",
              "is_h1n1_risky                float64\n",
              "sick_from_h1n1_vacc          float64\n",
              "is_seas_vacc_effective       float64\n",
              "is_seas_risky                float64\n",
              "sick_from_seas_vacc          float64\n",
              "no_of_adults                 float64\n",
              "no_of_children               float64\n",
              "h1n1_vaccine                   int64\n",
              "dtype: object"
            ]
          },
          "metadata": {},
          "execution_count": 26
        }
      ]
    },
    {
      "cell_type": "code",
      "metadata": {
        "id": "kaXakRaqxOLA"
      },
      "source": [
        "data_clean_numeric = data_numeric.apply(lambda x: x.fillna(x.value_counts().index[0]))"
      ],
      "id": "kaXakRaqxOLA",
      "execution_count": null,
      "outputs": []
    },
    {
      "cell_type": "code",
      "metadata": {
        "colab": {
          "base_uri": "https://localhost:8080/",
          "height": 226
        },
        "id": "KPo4G8f7xVSA",
        "outputId": "b31b22fc-f2ec-41cf-ad30-a8230a30791a"
      },
      "source": [
        "data_clean_numeric.head()"
      ],
      "id": "KPo4G8f7xVSA",
      "execution_count": null,
      "outputs": [
        {
          "output_type": "execute_result",
          "data": {
            "text/html": [
              "<div>\n",
              "<style scoped>\n",
              "    .dataframe tbody tr th:only-of-type {\n",
              "        vertical-align: middle;\n",
              "    }\n",
              "\n",
              "    .dataframe tbody tr th {\n",
              "        vertical-align: top;\n",
              "    }\n",
              "\n",
              "    .dataframe thead th {\n",
              "        text-align: right;\n",
              "    }\n",
              "</style>\n",
              "<table border=\"1\" class=\"dataframe\">\n",
              "  <thead>\n",
              "    <tr style=\"text-align: right;\">\n",
              "      <th></th>\n",
              "      <th>h1n1_worry</th>\n",
              "      <th>h1n1_awareness</th>\n",
              "      <th>antiviral_medication</th>\n",
              "      <th>contact_avoidance</th>\n",
              "      <th>bought_face_mask</th>\n",
              "      <th>wash_hands_frequently</th>\n",
              "      <th>avoid_large_gatherings</th>\n",
              "      <th>reduced_outside_home_cont</th>\n",
              "      <th>avoid_touch_face</th>\n",
              "      <th>dr_recc_h1n1_vacc</th>\n",
              "      <th>dr_recc_seasonal_vacc</th>\n",
              "      <th>chronic_medic_condition</th>\n",
              "      <th>cont_child_undr_6_mnths</th>\n",
              "      <th>is_health_worker</th>\n",
              "      <th>has_health_insur</th>\n",
              "      <th>is_h1n1_vacc_effective</th>\n",
              "      <th>is_h1n1_risky</th>\n",
              "      <th>sick_from_h1n1_vacc</th>\n",
              "      <th>is_seas_vacc_effective</th>\n",
              "      <th>is_seas_risky</th>\n",
              "      <th>sick_from_seas_vacc</th>\n",
              "      <th>no_of_adults</th>\n",
              "      <th>no_of_children</th>\n",
              "      <th>h1n1_vaccine</th>\n",
              "    </tr>\n",
              "  </thead>\n",
              "  <tbody>\n",
              "    <tr>\n",
              "      <th>0</th>\n",
              "      <td>1.0</td>\n",
              "      <td>0.0</td>\n",
              "      <td>0.0</td>\n",
              "      <td>0.0</td>\n",
              "      <td>0.0</td>\n",
              "      <td>0.0</td>\n",
              "      <td>0.0</td>\n",
              "      <td>1.0</td>\n",
              "      <td>1.0</td>\n",
              "      <td>0.0</td>\n",
              "      <td>0.0</td>\n",
              "      <td>0.0</td>\n",
              "      <td>0.0</td>\n",
              "      <td>0.0</td>\n",
              "      <td>1.0</td>\n",
              "      <td>3.0</td>\n",
              "      <td>1.0</td>\n",
              "      <td>2.0</td>\n",
              "      <td>2.0</td>\n",
              "      <td>1.0</td>\n",
              "      <td>2.0</td>\n",
              "      <td>0.0</td>\n",
              "      <td>0.0</td>\n",
              "      <td>0</td>\n",
              "    </tr>\n",
              "    <tr>\n",
              "      <th>1</th>\n",
              "      <td>3.0</td>\n",
              "      <td>2.0</td>\n",
              "      <td>0.0</td>\n",
              "      <td>1.0</td>\n",
              "      <td>0.0</td>\n",
              "      <td>1.0</td>\n",
              "      <td>0.0</td>\n",
              "      <td>1.0</td>\n",
              "      <td>1.0</td>\n",
              "      <td>0.0</td>\n",
              "      <td>0.0</td>\n",
              "      <td>0.0</td>\n",
              "      <td>0.0</td>\n",
              "      <td>0.0</td>\n",
              "      <td>1.0</td>\n",
              "      <td>5.0</td>\n",
              "      <td>4.0</td>\n",
              "      <td>4.0</td>\n",
              "      <td>4.0</td>\n",
              "      <td>2.0</td>\n",
              "      <td>4.0</td>\n",
              "      <td>0.0</td>\n",
              "      <td>0.0</td>\n",
              "      <td>0</td>\n",
              "    </tr>\n",
              "    <tr>\n",
              "      <th>2</th>\n",
              "      <td>1.0</td>\n",
              "      <td>1.0</td>\n",
              "      <td>0.0</td>\n",
              "      <td>1.0</td>\n",
              "      <td>0.0</td>\n",
              "      <td>0.0</td>\n",
              "      <td>0.0</td>\n",
              "      <td>0.0</td>\n",
              "      <td>0.0</td>\n",
              "      <td>0.0</td>\n",
              "      <td>0.0</td>\n",
              "      <td>1.0</td>\n",
              "      <td>0.0</td>\n",
              "      <td>0.0</td>\n",
              "      <td>1.0</td>\n",
              "      <td>3.0</td>\n",
              "      <td>1.0</td>\n",
              "      <td>1.0</td>\n",
              "      <td>4.0</td>\n",
              "      <td>1.0</td>\n",
              "      <td>2.0</td>\n",
              "      <td>2.0</td>\n",
              "      <td>0.0</td>\n",
              "      <td>0</td>\n",
              "    </tr>\n",
              "    <tr>\n",
              "      <th>3</th>\n",
              "      <td>1.0</td>\n",
              "      <td>1.0</td>\n",
              "      <td>0.0</td>\n",
              "      <td>1.0</td>\n",
              "      <td>0.0</td>\n",
              "      <td>1.0</td>\n",
              "      <td>1.0</td>\n",
              "      <td>0.0</td>\n",
              "      <td>0.0</td>\n",
              "      <td>0.0</td>\n",
              "      <td>1.0</td>\n",
              "      <td>1.0</td>\n",
              "      <td>0.0</td>\n",
              "      <td>0.0</td>\n",
              "      <td>1.0</td>\n",
              "      <td>3.0</td>\n",
              "      <td>3.0</td>\n",
              "      <td>5.0</td>\n",
              "      <td>5.0</td>\n",
              "      <td>4.0</td>\n",
              "      <td>1.0</td>\n",
              "      <td>0.0</td>\n",
              "      <td>0.0</td>\n",
              "      <td>0</td>\n",
              "    </tr>\n",
              "    <tr>\n",
              "      <th>4</th>\n",
              "      <td>2.0</td>\n",
              "      <td>1.0</td>\n",
              "      <td>0.0</td>\n",
              "      <td>1.0</td>\n",
              "      <td>0.0</td>\n",
              "      <td>1.0</td>\n",
              "      <td>1.0</td>\n",
              "      <td>0.0</td>\n",
              "      <td>1.0</td>\n",
              "      <td>0.0</td>\n",
              "      <td>0.0</td>\n",
              "      <td>0.0</td>\n",
              "      <td>0.0</td>\n",
              "      <td>0.0</td>\n",
              "      <td>1.0</td>\n",
              "      <td>3.0</td>\n",
              "      <td>3.0</td>\n",
              "      <td>2.0</td>\n",
              "      <td>3.0</td>\n",
              "      <td>1.0</td>\n",
              "      <td>4.0</td>\n",
              "      <td>1.0</td>\n",
              "      <td>0.0</td>\n",
              "      <td>0</td>\n",
              "    </tr>\n",
              "  </tbody>\n",
              "</table>\n",
              "</div>"
            ],
            "text/plain": [
              "   h1n1_worry  h1n1_awareness  ...  no_of_children  h1n1_vaccine\n",
              "0         1.0             0.0  ...             0.0             0\n",
              "1         3.0             2.0  ...             0.0             0\n",
              "2         1.0             1.0  ...             0.0             0\n",
              "3         1.0             1.0  ...             0.0             0\n",
              "4         2.0             1.0  ...             0.0             0\n",
              "\n",
              "[5 rows x 24 columns]"
            ]
          },
          "metadata": {},
          "execution_count": 28
        }
      ]
    },
    {
      "cell_type": "code",
      "metadata": {
        "colab": {
          "base_uri": "https://localhost:8080/"
        },
        "id": "CDcSOyHixiNa",
        "outputId": "d233701b-b91c-42cd-9ae1-258428be4366"
      },
      "source": [
        "data_clean_numeric.isna().sum()"
      ],
      "id": "CDcSOyHixiNa",
      "execution_count": null,
      "outputs": [
        {
          "output_type": "execute_result",
          "data": {
            "text/plain": [
              "h1n1_worry                   0\n",
              "h1n1_awareness               0\n",
              "antiviral_medication         0\n",
              "contact_avoidance            0\n",
              "bought_face_mask             0\n",
              "wash_hands_frequently        0\n",
              "avoid_large_gatherings       0\n",
              "reduced_outside_home_cont    0\n",
              "avoid_touch_face             0\n",
              "dr_recc_h1n1_vacc            0\n",
              "dr_recc_seasonal_vacc        0\n",
              "chronic_medic_condition      0\n",
              "cont_child_undr_6_mnths      0\n",
              "is_health_worker             0\n",
              "has_health_insur             0\n",
              "is_h1n1_vacc_effective       0\n",
              "is_h1n1_risky                0\n",
              "sick_from_h1n1_vacc          0\n",
              "is_seas_vacc_effective       0\n",
              "is_seas_risky                0\n",
              "sick_from_seas_vacc          0\n",
              "no_of_adults                 0\n",
              "no_of_children               0\n",
              "h1n1_vaccine                 0\n",
              "dtype: int64"
            ]
          },
          "metadata": {},
          "execution_count": 29
        }
      ]
    },
    {
      "cell_type": "code",
      "metadata": {
        "colab": {
          "base_uri": "https://localhost:8080/"
        },
        "id": "hTKEMcejyF1b",
        "outputId": "37e104cd-e8a3-4c9a-b43d-0bbfd190e68e"
      },
      "source": [
        "data_clean_numeric.dtypes"
      ],
      "id": "hTKEMcejyF1b",
      "execution_count": null,
      "outputs": [
        {
          "output_type": "execute_result",
          "data": {
            "text/plain": [
              "h1n1_worry                   float64\n",
              "h1n1_awareness               float64\n",
              "antiviral_medication         float64\n",
              "contact_avoidance            float64\n",
              "bought_face_mask             float64\n",
              "wash_hands_frequently        float64\n",
              "avoid_large_gatherings       float64\n",
              "reduced_outside_home_cont    float64\n",
              "avoid_touch_face             float64\n",
              "dr_recc_h1n1_vacc            float64\n",
              "dr_recc_seasonal_vacc        float64\n",
              "chronic_medic_condition      float64\n",
              "cont_child_undr_6_mnths      float64\n",
              "is_health_worker             float64\n",
              "has_health_insur             float64\n",
              "is_h1n1_vacc_effective       float64\n",
              "is_h1n1_risky                float64\n",
              "sick_from_h1n1_vacc          float64\n",
              "is_seas_vacc_effective       float64\n",
              "is_seas_risky                float64\n",
              "sick_from_seas_vacc          float64\n",
              "no_of_adults                 float64\n",
              "no_of_children               float64\n",
              "h1n1_vaccine                   int64\n",
              "dtype: object"
            ]
          },
          "metadata": {},
          "execution_count": 30
        }
      ]
    },
    {
      "cell_type": "code",
      "metadata": {
        "id": "c33cd497"
      },
      "source": [
        "data_clean_numeric = data_clean_numeric.astype('category')"
      ],
      "id": "c33cd497",
      "execution_count": null,
      "outputs": []
    },
    {
      "cell_type": "code",
      "metadata": {
        "colab": {
          "base_uri": "https://localhost:8080/",
          "height": 226
        },
        "id": "4d941da3",
        "outputId": "2554cf0e-ec2a-41fb-98cb-e78ca34e50f8"
      },
      "source": [
        "data_clean_numeric.head()"
      ],
      "id": "4d941da3",
      "execution_count": null,
      "outputs": [
        {
          "output_type": "execute_result",
          "data": {
            "text/html": [
              "<div>\n",
              "<style scoped>\n",
              "    .dataframe tbody tr th:only-of-type {\n",
              "        vertical-align: middle;\n",
              "    }\n",
              "\n",
              "    .dataframe tbody tr th {\n",
              "        vertical-align: top;\n",
              "    }\n",
              "\n",
              "    .dataframe thead th {\n",
              "        text-align: right;\n",
              "    }\n",
              "</style>\n",
              "<table border=\"1\" class=\"dataframe\">\n",
              "  <thead>\n",
              "    <tr style=\"text-align: right;\">\n",
              "      <th></th>\n",
              "      <th>h1n1_worry</th>\n",
              "      <th>h1n1_awareness</th>\n",
              "      <th>antiviral_medication</th>\n",
              "      <th>contact_avoidance</th>\n",
              "      <th>bought_face_mask</th>\n",
              "      <th>wash_hands_frequently</th>\n",
              "      <th>avoid_large_gatherings</th>\n",
              "      <th>reduced_outside_home_cont</th>\n",
              "      <th>avoid_touch_face</th>\n",
              "      <th>dr_recc_h1n1_vacc</th>\n",
              "      <th>dr_recc_seasonal_vacc</th>\n",
              "      <th>chronic_medic_condition</th>\n",
              "      <th>cont_child_undr_6_mnths</th>\n",
              "      <th>is_health_worker</th>\n",
              "      <th>has_health_insur</th>\n",
              "      <th>is_h1n1_vacc_effective</th>\n",
              "      <th>is_h1n1_risky</th>\n",
              "      <th>sick_from_h1n1_vacc</th>\n",
              "      <th>is_seas_vacc_effective</th>\n",
              "      <th>is_seas_risky</th>\n",
              "      <th>sick_from_seas_vacc</th>\n",
              "      <th>no_of_adults</th>\n",
              "      <th>no_of_children</th>\n",
              "      <th>h1n1_vaccine</th>\n",
              "    </tr>\n",
              "  </thead>\n",
              "  <tbody>\n",
              "    <tr>\n",
              "      <th>0</th>\n",
              "      <td>1.0</td>\n",
              "      <td>0.0</td>\n",
              "      <td>0.0</td>\n",
              "      <td>0.0</td>\n",
              "      <td>0.0</td>\n",
              "      <td>0.0</td>\n",
              "      <td>0.0</td>\n",
              "      <td>1.0</td>\n",
              "      <td>1.0</td>\n",
              "      <td>0.0</td>\n",
              "      <td>0.0</td>\n",
              "      <td>0.0</td>\n",
              "      <td>0.0</td>\n",
              "      <td>0.0</td>\n",
              "      <td>1.0</td>\n",
              "      <td>3.0</td>\n",
              "      <td>1.0</td>\n",
              "      <td>2.0</td>\n",
              "      <td>2.0</td>\n",
              "      <td>1.0</td>\n",
              "      <td>2.0</td>\n",
              "      <td>0.0</td>\n",
              "      <td>0.0</td>\n",
              "      <td>0</td>\n",
              "    </tr>\n",
              "    <tr>\n",
              "      <th>1</th>\n",
              "      <td>3.0</td>\n",
              "      <td>2.0</td>\n",
              "      <td>0.0</td>\n",
              "      <td>1.0</td>\n",
              "      <td>0.0</td>\n",
              "      <td>1.0</td>\n",
              "      <td>0.0</td>\n",
              "      <td>1.0</td>\n",
              "      <td>1.0</td>\n",
              "      <td>0.0</td>\n",
              "      <td>0.0</td>\n",
              "      <td>0.0</td>\n",
              "      <td>0.0</td>\n",
              "      <td>0.0</td>\n",
              "      <td>1.0</td>\n",
              "      <td>5.0</td>\n",
              "      <td>4.0</td>\n",
              "      <td>4.0</td>\n",
              "      <td>4.0</td>\n",
              "      <td>2.0</td>\n",
              "      <td>4.0</td>\n",
              "      <td>0.0</td>\n",
              "      <td>0.0</td>\n",
              "      <td>0</td>\n",
              "    </tr>\n",
              "    <tr>\n",
              "      <th>2</th>\n",
              "      <td>1.0</td>\n",
              "      <td>1.0</td>\n",
              "      <td>0.0</td>\n",
              "      <td>1.0</td>\n",
              "      <td>0.0</td>\n",
              "      <td>0.0</td>\n",
              "      <td>0.0</td>\n",
              "      <td>0.0</td>\n",
              "      <td>0.0</td>\n",
              "      <td>0.0</td>\n",
              "      <td>0.0</td>\n",
              "      <td>1.0</td>\n",
              "      <td>0.0</td>\n",
              "      <td>0.0</td>\n",
              "      <td>1.0</td>\n",
              "      <td>3.0</td>\n",
              "      <td>1.0</td>\n",
              "      <td>1.0</td>\n",
              "      <td>4.0</td>\n",
              "      <td>1.0</td>\n",
              "      <td>2.0</td>\n",
              "      <td>2.0</td>\n",
              "      <td>0.0</td>\n",
              "      <td>0</td>\n",
              "    </tr>\n",
              "    <tr>\n",
              "      <th>3</th>\n",
              "      <td>1.0</td>\n",
              "      <td>1.0</td>\n",
              "      <td>0.0</td>\n",
              "      <td>1.0</td>\n",
              "      <td>0.0</td>\n",
              "      <td>1.0</td>\n",
              "      <td>1.0</td>\n",
              "      <td>0.0</td>\n",
              "      <td>0.0</td>\n",
              "      <td>0.0</td>\n",
              "      <td>1.0</td>\n",
              "      <td>1.0</td>\n",
              "      <td>0.0</td>\n",
              "      <td>0.0</td>\n",
              "      <td>1.0</td>\n",
              "      <td>3.0</td>\n",
              "      <td>3.0</td>\n",
              "      <td>5.0</td>\n",
              "      <td>5.0</td>\n",
              "      <td>4.0</td>\n",
              "      <td>1.0</td>\n",
              "      <td>0.0</td>\n",
              "      <td>0.0</td>\n",
              "      <td>0</td>\n",
              "    </tr>\n",
              "    <tr>\n",
              "      <th>4</th>\n",
              "      <td>2.0</td>\n",
              "      <td>1.0</td>\n",
              "      <td>0.0</td>\n",
              "      <td>1.0</td>\n",
              "      <td>0.0</td>\n",
              "      <td>1.0</td>\n",
              "      <td>1.0</td>\n",
              "      <td>0.0</td>\n",
              "      <td>1.0</td>\n",
              "      <td>0.0</td>\n",
              "      <td>0.0</td>\n",
              "      <td>0.0</td>\n",
              "      <td>0.0</td>\n",
              "      <td>0.0</td>\n",
              "      <td>1.0</td>\n",
              "      <td>3.0</td>\n",
              "      <td>3.0</td>\n",
              "      <td>2.0</td>\n",
              "      <td>3.0</td>\n",
              "      <td>1.0</td>\n",
              "      <td>4.0</td>\n",
              "      <td>1.0</td>\n",
              "      <td>0.0</td>\n",
              "      <td>0</td>\n",
              "    </tr>\n",
              "  </tbody>\n",
              "</table>\n",
              "</div>"
            ],
            "text/plain": [
              "  h1n1_worry h1n1_awareness  ... no_of_children h1n1_vaccine\n",
              "0        1.0            0.0  ...            0.0            0\n",
              "1        3.0            2.0  ...            0.0            0\n",
              "2        1.0            1.0  ...            0.0            0\n",
              "3        1.0            1.0  ...            0.0            0\n",
              "4        2.0            1.0  ...            0.0            0\n",
              "\n",
              "[5 rows x 24 columns]"
            ]
          },
          "metadata": {},
          "execution_count": 32
        }
      ]
    },
    {
      "cell_type": "code",
      "metadata": {
        "colab": {
          "base_uri": "https://localhost:8080/"
        },
        "id": "132b65c3",
        "outputId": "8f088562-1490-49d0-be34-a35381811cdc"
      },
      "source": [
        "data_clean_numeric['h1n1_worry'].value_counts()"
      ],
      "id": "132b65c3",
      "execution_count": null,
      "outputs": [
        {
          "output_type": "execute_result",
          "data": {
            "text/plain": [
              "2.0    10667\n",
              "1.0     8153\n",
              "3.0     4591\n",
              "0.0     3296\n",
              "Name: h1n1_worry, dtype: int64"
            ]
          },
          "metadata": {},
          "execution_count": 33
        }
      ]
    },
    {
      "cell_type": "code",
      "metadata": {
        "colab": {
          "base_uri": "https://localhost:8080/",
          "height": 321
        },
        "id": "9926fc74",
        "outputId": "9bbbec4d-5d6d-4fed-c114-003cd7a0ada0"
      },
      "source": [
        "category_count = data_clean_category.columns.value_counts()\n",
        "\n",
        "sns.barplot(category_count.index,category_count.values,alpha=0.9)\n",
        "\n",
        "plt.show()"
      ],
      "id": "9926fc74",
      "execution_count": null,
      "outputs": [
        {
          "output_type": "stream",
          "name": "stderr",
          "text": [
            "/usr/local/lib/python3.7/dist-packages/seaborn/_decorators.py:43: FutureWarning: Pass the following variables as keyword args: x, y. From version 0.12, the only valid positional argument will be `data`, and passing other arguments without an explicit keyword will result in an error or misinterpretation.\n",
            "  FutureWarning\n"
          ]
        },
        {
          "output_type": "display_data",
          "data": {
            "image/png": "[encoded data removed]",
            "text/plain": [
              "<Figure size 432x288 with 1 Axes>"
            ]
          },
          "metadata": {
            "needs_background": "light"
          }
        }
      ]
    },
    {
      "cell_type": "code",
      "metadata": {
        "colab": {
          "base_uri": "https://localhost:8080/",
          "height": 321
        },
        "id": "qXHh4TbJOY_W",
        "outputId": "f2b83a4a-fa60-48e2-8482-0c7faea17768"
      },
      "source": [
        "numeric_count = data_clean_numeric.columns.value_counts()\n",
        "\n",
        "sns.barplot(numeric_count.index,numeric_count.values,alpha=0.9)\n",
        "\n",
        "plt.show()"
      ],
      "id": "qXHh4TbJOY_W",
      "execution_count": null,
      "outputs": [
        {
          "output_type": "stream",
          "name": "stderr",
          "text": [
            "/usr/local/lib/python3.7/dist-packages/seaborn/_decorators.py:43: FutureWarning: Pass the following variables as keyword args: x, y. From version 0.12, the only valid positional argument will be `data`, and passing other arguments without an explicit keyword will result in an error or misinterpretation.\n",
            "  FutureWarning\n"
          ]
        },
        {
          "output_type": "display_data",
          "data": {
            "image/png": "[encoded data removed]",
            "text/plain": [
              "<Figure size 432x288 with 1 Axes>"
            ]
          },
          "metadata": {
            "needs_background": "light"
          }
        }
      ]
    },
    {
      "cell_type": "code",
      "metadata": {
        "colab": {
          "base_uri": "https://localhost:8080/"
        },
        "id": "1586da43",
        "outputId": "002378dc-adb2-49b4-8dba-836b28cb57c1"
      },
      "source": [
        "data_clean_category.columns"
      ],
      "id": "1586da43",
      "execution_count": null,
      "outputs": [
        {
          "output_type": "execute_result",
          "data": {
            "text/plain": [
              "Index(['age_bracket', 'qualification', 'race', 'sex', 'income_level',\n",
              "       'marital_status', 'housing_status', 'employment', 'census_msa'],\n",
              "      dtype='object')"
            ]
          },
          "metadata": {},
          "execution_count": 36
        }
      ]
    },
    {
      "cell_type": "code",
      "metadata": {
        "colab": {
          "base_uri": "https://localhost:8080/"
        },
        "id": "366ed28c",
        "outputId": "24b769dd-4667-4994-a85e-5428988ecdca"
      },
      "source": [
        "data_clean_numeric.columns"
      ],
      "id": "366ed28c",
      "execution_count": null,
      "outputs": [
        {
          "output_type": "execute_result",
          "data": {
            "text/plain": [
              "Index(['h1n1_worry', 'h1n1_awareness', 'antiviral_medication',\n",
              "       'contact_avoidance', 'bought_face_mask', 'wash_hands_frequently',\n",
              "       'avoid_large_gatherings', 'reduced_outside_home_cont',\n",
              "       'avoid_touch_face', 'dr_recc_h1n1_vacc', 'dr_recc_seasonal_vacc',\n",
              "       'chronic_medic_condition', 'cont_child_undr_6_mnths',\n",
              "       'is_health_worker', 'has_health_insur', 'is_h1n1_vacc_effective',\n",
              "       'is_h1n1_risky', 'sick_from_h1n1_vacc', 'is_seas_vacc_effective',\n",
              "       'is_seas_risky', 'sick_from_seas_vacc', 'no_of_adults',\n",
              "       'no_of_children', 'h1n1_vaccine'],\n",
              "      dtype='object')"
            ]
          },
          "metadata": {},
          "execution_count": 37
        }
      ]
    },
    {
      "cell_type": "code",
      "metadata": {
        "colab": {
          "base_uri": "https://localhost:8080/"
        },
        "id": "9af587c6",
        "outputId": "64d5fa48-7fe8-45f2-ff5b-ce40c4e6015e"
      },
      "source": [
        "data_clean_category.dtypes"
      ],
      "id": "9af587c6",
      "execution_count": null,
      "outputs": [
        {
          "output_type": "execute_result",
          "data": {
            "text/plain": [
              "age_bracket       category\n",
              "qualification     category\n",
              "race              category\n",
              "sex               category\n",
              "income_level      category\n",
              "marital_status    category\n",
              "housing_status    category\n",
              "employment        category\n",
              "census_msa        category\n",
              "dtype: object"
            ]
          },
          "metadata": {},
          "execution_count": 38
        }
      ]
    },
    {
      "cell_type": "code",
      "metadata": {
        "colab": {
          "base_uri": "https://localhost:8080/"
        },
        "id": "17755b5e",
        "outputId": "9a3b9d0a-4021-45b4-dc16-f3e6295bbf6d"
      },
      "source": [
        "data_clean_numeric.dtypes"
      ],
      "id": "17755b5e",
      "execution_count": null,
      "outputs": [
        {
          "output_type": "execute_result",
          "data": {
            "text/plain": [
              "h1n1_worry                   category\n",
              "h1n1_awareness               category\n",
              "antiviral_medication         category\n",
              "contact_avoidance            category\n",
              "bought_face_mask             category\n",
              "wash_hands_frequently        category\n",
              "avoid_large_gatherings       category\n",
              "reduced_outside_home_cont    category\n",
              "avoid_touch_face             category\n",
              "dr_recc_h1n1_vacc            category\n",
              "dr_recc_seasonal_vacc        category\n",
              "chronic_medic_condition      category\n",
              "cont_child_undr_6_mnths      category\n",
              "is_health_worker             category\n",
              "has_health_insur             category\n",
              "is_h1n1_vacc_effective       category\n",
              "is_h1n1_risky                category\n",
              "sick_from_h1n1_vacc          category\n",
              "is_seas_vacc_effective       category\n",
              "is_seas_risky                category\n",
              "sick_from_seas_vacc          category\n",
              "no_of_adults                 category\n",
              "no_of_children               category\n",
              "h1n1_vaccine                 category\n",
              "dtype: object"
            ]
          },
          "metadata": {},
          "execution_count": 39
        }
      ]
    },
    {
      "cell_type": "code",
      "metadata": {
        "colab": {
          "base_uri": "https://localhost:8080/",
          "height": 423
        },
        "id": "te29QUqKOvey",
        "outputId": "316baa66-b53a-4421-f150-e1d0ab04ccca"
      },
      "source": [
        "data_clean_category"
      ],
      "id": "te29QUqKOvey",
      "execution_count": null,
      "outputs": [
        {
          "output_type": "execute_result",
          "data": {
            "text/html": [
              "<div>\n",
              "<style scoped>\n",
              "    .dataframe tbody tr th:only-of-type {\n",
              "        vertical-align: middle;\n",
              "    }\n",
              "\n",
              "    .dataframe tbody tr th {\n",
              "        vertical-align: top;\n",
              "    }\n",
              "\n",
              "    .dataframe thead th {\n",
              "        text-align: right;\n",
              "    }\n",
              "</style>\n",
              "<table border=\"1\" class=\"dataframe\">\n",
              "  <thead>\n",
              "    <tr style=\"text-align: right;\">\n",
              "      <th></th>\n",
              "      <th>age_bracket</th>\n",
              "      <th>qualification</th>\n",
              "      <th>race</th>\n",
              "      <th>sex</th>\n",
              "      <th>income_level</th>\n",
              "      <th>marital_status</th>\n",
              "      <th>housing_status</th>\n",
              "      <th>employment</th>\n",
              "      <th>census_msa</th>\n",
              "    </tr>\n",
              "  </thead>\n",
              "  <tbody>\n",
              "    <tr>\n",
              "      <th>0</th>\n",
              "      <td>55 - 64 Years</td>\n",
              "      <td>&lt; 12 Years</td>\n",
              "      <td>White</td>\n",
              "      <td>Female</td>\n",
              "      <td>Below Poverty</td>\n",
              "      <td>Not Married</td>\n",
              "      <td>Own</td>\n",
              "      <td>Not in Labor Force</td>\n",
              "      <td>Non-MSA</td>\n",
              "    </tr>\n",
              "    <tr>\n",
              "      <th>1</th>\n",
              "      <td>35 - 44 Years</td>\n",
              "      <td>12 Years</td>\n",
              "      <td>White</td>\n",
              "      <td>Male</td>\n",
              "      <td>Below Poverty</td>\n",
              "      <td>Not Married</td>\n",
              "      <td>Rent</td>\n",
              "      <td>Employed</td>\n",
              "      <td>MSA, Not Principle  City</td>\n",
              "    </tr>\n",
              "    <tr>\n",
              "      <th>2</th>\n",
              "      <td>18 - 34 Years</td>\n",
              "      <td>College Graduate</td>\n",
              "      <td>White</td>\n",
              "      <td>Male</td>\n",
              "      <td>&lt;= $75,000, Above Poverty</td>\n",
              "      <td>Not Married</td>\n",
              "      <td>Own</td>\n",
              "      <td>Employed</td>\n",
              "      <td>MSA, Not Principle  City</td>\n",
              "    </tr>\n",
              "    <tr>\n",
              "      <th>3</th>\n",
              "      <td>65+ Years</td>\n",
              "      <td>12 Years</td>\n",
              "      <td>White</td>\n",
              "      <td>Female</td>\n",
              "      <td>Below Poverty</td>\n",
              "      <td>Not Married</td>\n",
              "      <td>Rent</td>\n",
              "      <td>Not in Labor Force</td>\n",
              "      <td>MSA, Principle City</td>\n",
              "    </tr>\n",
              "    <tr>\n",
              "      <th>4</th>\n",
              "      <td>45 - 54 Years</td>\n",
              "      <td>Some College</td>\n",
              "      <td>White</td>\n",
              "      <td>Female</td>\n",
              "      <td>&lt;= $75,000, Above Poverty</td>\n",
              "      <td>Married</td>\n",
              "      <td>Own</td>\n",
              "      <td>Employed</td>\n",
              "      <td>MSA, Not Principle  City</td>\n",
              "    </tr>\n",
              "    <tr>\n",
              "      <th>...</th>\n",
              "      <td>...</td>\n",
              "      <td>...</td>\n",
              "      <td>...</td>\n",
              "      <td>...</td>\n",
              "      <td>...</td>\n",
              "      <td>...</td>\n",
              "      <td>...</td>\n",
              "      <td>...</td>\n",
              "      <td>...</td>\n",
              "    </tr>\n",
              "    <tr>\n",
              "      <th>26702</th>\n",
              "      <td>65+ Years</td>\n",
              "      <td>Some College</td>\n",
              "      <td>White</td>\n",
              "      <td>Female</td>\n",
              "      <td>&lt;= $75,000, Above Poverty</td>\n",
              "      <td>Not Married</td>\n",
              "      <td>Own</td>\n",
              "      <td>Not in Labor Force</td>\n",
              "      <td>Non-MSA</td>\n",
              "    </tr>\n",
              "    <tr>\n",
              "      <th>26703</th>\n",
              "      <td>18 - 34 Years</td>\n",
              "      <td>College Graduate</td>\n",
              "      <td>White</td>\n",
              "      <td>Male</td>\n",
              "      <td>&lt;= $75,000, Above Poverty</td>\n",
              "      <td>Not Married</td>\n",
              "      <td>Rent</td>\n",
              "      <td>Employed</td>\n",
              "      <td>MSA, Principle City</td>\n",
              "    </tr>\n",
              "    <tr>\n",
              "      <th>26704</th>\n",
              "      <td>55 - 64 Years</td>\n",
              "      <td>Some College</td>\n",
              "      <td>White</td>\n",
              "      <td>Female</td>\n",
              "      <td>&lt;= $75,000, Above Poverty</td>\n",
              "      <td>Not Married</td>\n",
              "      <td>Own</td>\n",
              "      <td>Employed</td>\n",
              "      <td>MSA, Not Principle  City</td>\n",
              "    </tr>\n",
              "    <tr>\n",
              "      <th>26705</th>\n",
              "      <td>18 - 34 Years</td>\n",
              "      <td>Some College</td>\n",
              "      <td>Hispanic</td>\n",
              "      <td>Female</td>\n",
              "      <td>&lt;= $75,000, Above Poverty</td>\n",
              "      <td>Married</td>\n",
              "      <td>Rent</td>\n",
              "      <td>Employed</td>\n",
              "      <td>Non-MSA</td>\n",
              "    </tr>\n",
              "    <tr>\n",
              "      <th>26706</th>\n",
              "      <td>65+ Years</td>\n",
              "      <td>Some College</td>\n",
              "      <td>White</td>\n",
              "      <td>Male</td>\n",
              "      <td>&lt;= $75,000, Above Poverty</td>\n",
              "      <td>Married</td>\n",
              "      <td>Own</td>\n",
              "      <td>Not in Labor Force</td>\n",
              "      <td>MSA, Principle City</td>\n",
              "    </tr>\n",
              "  </tbody>\n",
              "</table>\n",
              "<p>26707 rows × 9 columns</p>\n",
              "</div>"
            ],
            "text/plain": [
              "         age_bracket  ...                census_msa\n",
              "0      55 - 64 Years  ...                   Non-MSA\n",
              "1      35 - 44 Years  ...  MSA, Not Principle  City\n",
              "2      18 - 34 Years  ...  MSA, Not Principle  City\n",
              "3          65+ Years  ...       MSA, Principle City\n",
              "4      45 - 54 Years  ...  MSA, Not Principle  City\n",
              "...              ...  ...                       ...\n",
              "26702      65+ Years  ...                   Non-MSA\n",
              "26703  18 - 34 Years  ...       MSA, Principle City\n",
              "26704  55 - 64 Years  ...  MSA, Not Principle  City\n",
              "26705  18 - 34 Years  ...                   Non-MSA\n",
              "26706      65+ Years  ...       MSA, Principle City\n",
              "\n",
              "[26707 rows x 9 columns]"
            ]
          },
          "metadata": {},
          "execution_count": 40
        }
      ]
    },
    {
      "cell_type": "code",
      "metadata": {
        "id": "84892d06"
      },
      "source": [
        "data_clean_category['age_bracket'] = data_clean_category['age_bracket'].cat.codes\n",
        "\n",
        "data_clean_category['qualification'] =data_clean_category['qualification'].cat.codes\n",
        "\n",
        "data_clean_category['race']=data_clean_category['race'].cat.codes\n",
        "\n",
        "data_clean_category['sex']=data_clean_category['sex'].cat.codes\n",
        "\n",
        "data_clean_category['income_level']=data_clean_category['income_level'].cat.codes\n",
        "\n",
        "data_clean_category['marital_status']=data_clean_category['marital_status'].cat.codes\n",
        "\n",
        "data_clean_category['housing_status']=data_clean_category['housing_status'].cat.codes\n",
        "\n",
        "data_clean_category['employment']=data_clean_category['employment'].cat.codes\n",
        "\n",
        "data_clean_category['census_msa'] = data_clean_category['census_msa'].cat.codes"
      ],
      "id": "84892d06",
      "execution_count": null,
      "outputs": []
    },
    {
      "cell_type": "code",
      "metadata": {
        "colab": {
          "base_uri": "https://localhost:8080/",
          "height": 206
        },
        "id": "07NgX9cZ1Hof",
        "outputId": "8b7ffe9f-aaa5-4066-d726-c8eb5697291e"
      },
      "source": [
        "data_clean_category.head()"
      ],
      "id": "07NgX9cZ1Hof",
      "execution_count": null,
      "outputs": [
        {
          "output_type": "execute_result",
          "data": {
            "text/html": [
              "<div>\n",
              "<style scoped>\n",
              "    .dataframe tbody tr th:only-of-type {\n",
              "        vertical-align: middle;\n",
              "    }\n",
              "\n",
              "    .dataframe tbody tr th {\n",
              "        vertical-align: top;\n",
              "    }\n",
              "\n",
              "    .dataframe thead th {\n",
              "        text-align: right;\n",
              "    }\n",
              "</style>\n",
              "<table border=\"1\" class=\"dataframe\">\n",
              "  <thead>\n",
              "    <tr style=\"text-align: right;\">\n",
              "      <th></th>\n",
              "      <th>age_bracket</th>\n",
              "      <th>qualification</th>\n",
              "      <th>race</th>\n",
              "      <th>sex</th>\n",
              "      <th>income_level</th>\n",
              "      <th>marital_status</th>\n",
              "      <th>housing_status</th>\n",
              "      <th>employment</th>\n",
              "      <th>census_msa</th>\n",
              "    </tr>\n",
              "  </thead>\n",
              "  <tbody>\n",
              "    <tr>\n",
              "      <th>0</th>\n",
              "      <td>3</td>\n",
              "      <td>1</td>\n",
              "      <td>3</td>\n",
              "      <td>0</td>\n",
              "      <td>2</td>\n",
              "      <td>1</td>\n",
              "      <td>0</td>\n",
              "      <td>1</td>\n",
              "      <td>2</td>\n",
              "    </tr>\n",
              "    <tr>\n",
              "      <th>1</th>\n",
              "      <td>1</td>\n",
              "      <td>0</td>\n",
              "      <td>3</td>\n",
              "      <td>1</td>\n",
              "      <td>2</td>\n",
              "      <td>1</td>\n",
              "      <td>1</td>\n",
              "      <td>0</td>\n",
              "      <td>0</td>\n",
              "    </tr>\n",
              "    <tr>\n",
              "      <th>2</th>\n",
              "      <td>0</td>\n",
              "      <td>2</td>\n",
              "      <td>3</td>\n",
              "      <td>1</td>\n",
              "      <td>0</td>\n",
              "      <td>1</td>\n",
              "      <td>0</td>\n",
              "      <td>0</td>\n",
              "      <td>0</td>\n",
              "    </tr>\n",
              "    <tr>\n",
              "      <th>3</th>\n",
              "      <td>4</td>\n",
              "      <td>0</td>\n",
              "      <td>3</td>\n",
              "      <td>0</td>\n",
              "      <td>2</td>\n",
              "      <td>1</td>\n",
              "      <td>1</td>\n",
              "      <td>1</td>\n",
              "      <td>1</td>\n",
              "    </tr>\n",
              "    <tr>\n",
              "      <th>4</th>\n",
              "      <td>2</td>\n",
              "      <td>3</td>\n",
              "      <td>3</td>\n",
              "      <td>0</td>\n",
              "      <td>0</td>\n",
              "      <td>0</td>\n",
              "      <td>0</td>\n",
              "      <td>0</td>\n",
              "      <td>0</td>\n",
              "    </tr>\n",
              "  </tbody>\n",
              "</table>\n",
              "</div>"
            ],
            "text/plain": [
              "   age_bracket  qualification  race  ...  housing_status  employment  census_msa\n",
              "0            3              1     3  ...               0           1           2\n",
              "1            1              0     3  ...               1           0           0\n",
              "2            0              2     3  ...               0           0           0\n",
              "3            4              0     3  ...               1           1           1\n",
              "4            2              3     3  ...               0           0           0\n",
              "\n",
              "[5 rows x 9 columns]"
            ]
          },
          "metadata": {},
          "execution_count": 42
        }
      ]
    },
    {
      "cell_type": "code",
      "metadata": {
        "colab": {
          "base_uri": "https://localhost:8080/"
        },
        "id": "40023c97",
        "outputId": "d27ac4dd-2d9e-4cb9-9fcc-e741f8b406f5"
      },
      "source": [
        "data_clean_numeric.isna().sum()"
      ],
      "id": "40023c97",
      "execution_count": null,
      "outputs": [
        {
          "output_type": "execute_result",
          "data": {
            "text/plain": [
              "h1n1_worry                   0\n",
              "h1n1_awareness               0\n",
              "antiviral_medication         0\n",
              "contact_avoidance            0\n",
              "bought_face_mask             0\n",
              "wash_hands_frequently        0\n",
              "avoid_large_gatherings       0\n",
              "reduced_outside_home_cont    0\n",
              "avoid_touch_face             0\n",
              "dr_recc_h1n1_vacc            0\n",
              "dr_recc_seasonal_vacc        0\n",
              "chronic_medic_condition      0\n",
              "cont_child_undr_6_mnths      0\n",
              "is_health_worker             0\n",
              "has_health_insur             0\n",
              "is_h1n1_vacc_effective       0\n",
              "is_h1n1_risky                0\n",
              "sick_from_h1n1_vacc          0\n",
              "is_seas_vacc_effective       0\n",
              "is_seas_risky                0\n",
              "sick_from_seas_vacc          0\n",
              "no_of_adults                 0\n",
              "no_of_children               0\n",
              "h1n1_vaccine                 0\n",
              "dtype: int64"
            ]
          },
          "metadata": {},
          "execution_count": 43
        }
      ]
    },
    {
      "cell_type": "code",
      "metadata": {
        "id": "UGDjWB781-FD"
      },
      "source": [
        "data_clean_numeric = data_clean_numeric.apply(lambda x: x.fillna(x.value_counts().index[0]))"
      ],
      "id": "UGDjWB781-FD",
      "execution_count": null,
      "outputs": []
    },
    {
      "cell_type": "code",
      "metadata": {
        "colab": {
          "base_uri": "https://localhost:8080/"
        },
        "id": "6CwiuVNm2VZy",
        "outputId": "a8405a29-ca5f-4953-f50b-cd263df1e592"
      },
      "source": [
        "data_clean_numeric.isna().sum()"
      ],
      "id": "6CwiuVNm2VZy",
      "execution_count": null,
      "outputs": [
        {
          "output_type": "execute_result",
          "data": {
            "text/plain": [
              "h1n1_worry                   0\n",
              "h1n1_awareness               0\n",
              "antiviral_medication         0\n",
              "contact_avoidance            0\n",
              "bought_face_mask             0\n",
              "wash_hands_frequently        0\n",
              "avoid_large_gatherings       0\n",
              "reduced_outside_home_cont    0\n",
              "avoid_touch_face             0\n",
              "dr_recc_h1n1_vacc            0\n",
              "dr_recc_seasonal_vacc        0\n",
              "chronic_medic_condition      0\n",
              "cont_child_undr_6_mnths      0\n",
              "is_health_worker             0\n",
              "has_health_insur             0\n",
              "is_h1n1_vacc_effective       0\n",
              "is_h1n1_risky                0\n",
              "sick_from_h1n1_vacc          0\n",
              "is_seas_vacc_effective       0\n",
              "is_seas_risky                0\n",
              "sick_from_seas_vacc          0\n",
              "no_of_adults                 0\n",
              "no_of_children               0\n",
              "h1n1_vaccine                 0\n",
              "dtype: int64"
            ]
          },
          "metadata": {},
          "execution_count": 45
        }
      ]
    },
    {
      "cell_type": "code",
      "metadata": {
        "colab": {
          "base_uri": "https://localhost:8080/"
        },
        "id": "p7cNfO5i2gEY",
        "outputId": "573dbaf6-2077-41a0-84c8-589d37f2594c"
      },
      "source": [
        "print(type(data_clean_category))\n",
        "print(type(data_clean_numeric))"
      ],
      "id": "p7cNfO5i2gEY",
      "execution_count": null,
      "outputs": [
        {
          "output_type": "stream",
          "name": "stdout",
          "text": [
            "<class 'pandas.core.frame.DataFrame'>\n",
            "<class 'pandas.core.frame.DataFrame'>\n"
          ]
        }
      ]
    },
    {
      "cell_type": "markdown",
      "metadata": {
        "id": "24133748"
      },
      "source": [
        "Merging all data"
      ],
      "id": "24133748"
    },
    {
      "cell_type": "markdown",
      "metadata": {
        "id": "iUbjYa8828kb"
      },
      "source": [
        "Integrating category data with numeric data"
      ],
      "id": "iUbjYa8828kb"
    },
    {
      "cell_type": "code",
      "metadata": {
        "colab": {
          "base_uri": "https://localhost:8080/",
          "height": 226
        },
        "id": "a8df8d04",
        "outputId": "aed80028-7fca-45e4-cf6a-bfb5a436f465"
      },
      "source": [
        "covid_data = pd.concat([data_clean_category,data_clean_numeric],\n",
        "                       join='outer',\n",
        "                      axis=1)\n",
        "\n",
        "covid_data.head()"
      ],
      "id": "a8df8d04",
      "execution_count": null,
      "outputs": [
        {
          "output_type": "execute_result",
          "data": {
            "text/html": [
              "<div>\n",
              "<style scoped>\n",
              "    .dataframe tbody tr th:only-of-type {\n",
              "        vertical-align: middle;\n",
              "    }\n",
              "\n",
              "    .dataframe tbody tr th {\n",
              "        vertical-align: top;\n",
              "    }\n",
              "\n",
              "    .dataframe thead th {\n",
              "        text-align: right;\n",
              "    }\n",
              "</style>\n",
              "<table border=\"1\" class=\"dataframe\">\n",
              "  <thead>\n",
              "    <tr style=\"text-align: right;\">\n",
              "      <th></th>\n",
              "      <th>age_bracket</th>\n",
              "      <th>qualification</th>\n",
              "      <th>race</th>\n",
              "      <th>sex</th>\n",
              "      <th>income_level</th>\n",
              "      <th>marital_status</th>\n",
              "      <th>housing_status</th>\n",
              "      <th>employment</th>\n",
              "      <th>census_msa</th>\n",
              "      <th>h1n1_worry</th>\n",
              "      <th>h1n1_awareness</th>\n",
              "      <th>antiviral_medication</th>\n",
              "      <th>contact_avoidance</th>\n",
              "      <th>bought_face_mask</th>\n",
              "      <th>wash_hands_frequently</th>\n",
              "      <th>avoid_large_gatherings</th>\n",
              "      <th>reduced_outside_home_cont</th>\n",
              "      <th>avoid_touch_face</th>\n",
              "      <th>dr_recc_h1n1_vacc</th>\n",
              "      <th>dr_recc_seasonal_vacc</th>\n",
              "      <th>chronic_medic_condition</th>\n",
              "      <th>cont_child_undr_6_mnths</th>\n",
              "      <th>is_health_worker</th>\n",
              "      <th>has_health_insur</th>\n",
              "      <th>is_h1n1_vacc_effective</th>\n",
              "      <th>is_h1n1_risky</th>\n",
              "      <th>sick_from_h1n1_vacc</th>\n",
              "      <th>is_seas_vacc_effective</th>\n",
              "      <th>is_seas_risky</th>\n",
              "      <th>sick_from_seas_vacc</th>\n",
              "      <th>no_of_adults</th>\n",
              "      <th>no_of_children</th>\n",
              "      <th>h1n1_vaccine</th>\n",
              "    </tr>\n",
              "  </thead>\n",
              "  <tbody>\n",
              "    <tr>\n",
              "      <th>0</th>\n",
              "      <td>3</td>\n",
              "      <td>1</td>\n",
              "      <td>3</td>\n",
              "      <td>0</td>\n",
              "      <td>2</td>\n",
              "      <td>1</td>\n",
              "      <td>0</td>\n",
              "      <td>1</td>\n",
              "      <td>2</td>\n",
              "      <td>1.0</td>\n",
              "      <td>0.0</td>\n",
              "      <td>0.0</td>\n",
              "      <td>0.0</td>\n",
              "      <td>0.0</td>\n",
              "      <td>0.0</td>\n",
              "      <td>0.0</td>\n",
              "      <td>1.0</td>\n",
              "      <td>1.0</td>\n",
              "      <td>0.0</td>\n",
              "      <td>0.0</td>\n",
              "      <td>0.0</td>\n",
              "      <td>0.0</td>\n",
              "      <td>0.0</td>\n",
              "      <td>1.0</td>\n",
              "      <td>3.0</td>\n",
              "      <td>1.0</td>\n",
              "      <td>2.0</td>\n",
              "      <td>2.0</td>\n",
              "      <td>1.0</td>\n",
              "      <td>2.0</td>\n",
              "      <td>0.0</td>\n",
              "      <td>0.0</td>\n",
              "      <td>0</td>\n",
              "    </tr>\n",
              "    <tr>\n",
              "      <th>1</th>\n",
              "      <td>1</td>\n",
              "      <td>0</td>\n",
              "      <td>3</td>\n",
              "      <td>1</td>\n",
              "      <td>2</td>\n",
              "      <td>1</td>\n",
              "      <td>1</td>\n",
              "      <td>0</td>\n",
              "      <td>0</td>\n",
              "      <td>3.0</td>\n",
              "      <td>2.0</td>\n",
              "      <td>0.0</td>\n",
              "      <td>1.0</td>\n",
              "      <td>0.0</td>\n",
              "      <td>1.0</td>\n",
              "      <td>0.0</td>\n",
              "      <td>1.0</td>\n",
              "      <td>1.0</td>\n",
              "      <td>0.0</td>\n",
              "      <td>0.0</td>\n",
              "      <td>0.0</td>\n",
              "      <td>0.0</td>\n",
              "      <td>0.0</td>\n",
              "      <td>1.0</td>\n",
              "      <td>5.0</td>\n",
              "      <td>4.0</td>\n",
              "      <td>4.0</td>\n",
              "      <td>4.0</td>\n",
              "      <td>2.0</td>\n",
              "      <td>4.0</td>\n",
              "      <td>0.0</td>\n",
              "      <td>0.0</td>\n",
              "      <td>0</td>\n",
              "    </tr>\n",
              "    <tr>\n",
              "      <th>2</th>\n",
              "      <td>0</td>\n",
              "      <td>2</td>\n",
              "      <td>3</td>\n",
              "      <td>1</td>\n",
              "      <td>0</td>\n",
              "      <td>1</td>\n",
              "      <td>0</td>\n",
              "      <td>0</td>\n",
              "      <td>0</td>\n",
              "      <td>1.0</td>\n",
              "      <td>1.0</td>\n",
              "      <td>0.0</td>\n",
              "      <td>1.0</td>\n",
              "      <td>0.0</td>\n",
              "      <td>0.0</td>\n",
              "      <td>0.0</td>\n",
              "      <td>0.0</td>\n",
              "      <td>0.0</td>\n",
              "      <td>0.0</td>\n",
              "      <td>0.0</td>\n",
              "      <td>1.0</td>\n",
              "      <td>0.0</td>\n",
              "      <td>0.0</td>\n",
              "      <td>1.0</td>\n",
              "      <td>3.0</td>\n",
              "      <td>1.0</td>\n",
              "      <td>1.0</td>\n",
              "      <td>4.0</td>\n",
              "      <td>1.0</td>\n",
              "      <td>2.0</td>\n",
              "      <td>2.0</td>\n",
              "      <td>0.0</td>\n",
              "      <td>0</td>\n",
              "    </tr>\n",
              "    <tr>\n",
              "      <th>3</th>\n",
              "      <td>4</td>\n",
              "      <td>0</td>\n",
              "      <td>3</td>\n",
              "      <td>0</td>\n",
              "      <td>2</td>\n",
              "      <td>1</td>\n",
              "      <td>1</td>\n",
              "      <td>1</td>\n",
              "      <td>1</td>\n",
              "      <td>1.0</td>\n",
              "      <td>1.0</td>\n",
              "      <td>0.0</td>\n",
              "      <td>1.0</td>\n",
              "      <td>0.0</td>\n",
              "      <td>1.0</td>\n",
              "      <td>1.0</td>\n",
              "      <td>0.0</td>\n",
              "      <td>0.0</td>\n",
              "      <td>0.0</td>\n",
              "      <td>1.0</td>\n",
              "      <td>1.0</td>\n",
              "      <td>0.0</td>\n",
              "      <td>0.0</td>\n",
              "      <td>1.0</td>\n",
              "      <td>3.0</td>\n",
              "      <td>3.0</td>\n",
              "      <td>5.0</td>\n",
              "      <td>5.0</td>\n",
              "      <td>4.0</td>\n",
              "      <td>1.0</td>\n",
              "      <td>0.0</td>\n",
              "      <td>0.0</td>\n",
              "      <td>0</td>\n",
              "    </tr>\n",
              "    <tr>\n",
              "      <th>4</th>\n",
              "      <td>2</td>\n",
              "      <td>3</td>\n",
              "      <td>3</td>\n",
              "      <td>0</td>\n",
              "      <td>0</td>\n",
              "      <td>0</td>\n",
              "      <td>0</td>\n",
              "      <td>0</td>\n",
              "      <td>0</td>\n",
              "      <td>2.0</td>\n",
              "      <td>1.0</td>\n",
              "      <td>0.0</td>\n",
              "      <td>1.0</td>\n",
              "      <td>0.0</td>\n",
              "      <td>1.0</td>\n",
              "      <td>1.0</td>\n",
              "      <td>0.0</td>\n",
              "      <td>1.0</td>\n",
              "      <td>0.0</td>\n",
              "      <td>0.0</td>\n",
              "      <td>0.0</td>\n",
              "      <td>0.0</td>\n",
              "      <td>0.0</td>\n",
              "      <td>1.0</td>\n",
              "      <td>3.0</td>\n",
              "      <td>3.0</td>\n",
              "      <td>2.0</td>\n",
              "      <td>3.0</td>\n",
              "      <td>1.0</td>\n",
              "      <td>4.0</td>\n",
              "      <td>1.0</td>\n",
              "      <td>0.0</td>\n",
              "      <td>0</td>\n",
              "    </tr>\n",
              "  </tbody>\n",
              "</table>\n",
              "</div>"
            ],
            "text/plain": [
              "   age_bracket  qualification  race  ...  no_of_adults  no_of_children  h1n1_vaccine\n",
              "0            3              1     3  ...           0.0             0.0             0\n",
              "1            1              0     3  ...           0.0             0.0             0\n",
              "2            0              2     3  ...           2.0             0.0             0\n",
              "3            4              0     3  ...           0.0             0.0             0\n",
              "4            2              3     3  ...           1.0             0.0             0\n",
              "\n",
              "[5 rows x 33 columns]"
            ]
          },
          "metadata": {},
          "execution_count": 47
        }
      ]
    },
    {
      "cell_type": "code",
      "metadata": {
        "id": "b700afe5"
      },
      "source": [
        "X = covid_data.iloc[:,:-1]\n",
        "\n",
        "y = covid_data.iloc[:,-1]"
      ],
      "id": "b700afe5",
      "execution_count": null,
      "outputs": []
    },
    {
      "cell_type": "code",
      "metadata": {
        "colab": {
          "base_uri": "https://localhost:8080/"
        },
        "id": "YdDxgqmQ4t2Y",
        "outputId": "d052e27a-6a9b-4730-8d17-6b88effeb192"
      },
      "source": [
        "X.shape,y.shape"
      ],
      "id": "YdDxgqmQ4t2Y",
      "execution_count": null,
      "outputs": [
        {
          "output_type": "execute_result",
          "data": {
            "text/plain": [
              "((26707, 32), (26707,))"
            ]
          },
          "metadata": {},
          "execution_count": 49
        }
      ]
    },
    {
      "cell_type": "code",
      "metadata": {
        "id": "wlFZkXfznZaf"
      },
      "source": [
        "X = pd.get_dummies(X)"
      ],
      "id": "wlFZkXfznZaf",
      "execution_count": null,
      "outputs": []
    },
    {
      "cell_type": "code",
      "metadata": {
        "colab": {
          "base_uri": "https://localhost:8080/"
        },
        "id": "fc5vwAng46m6",
        "outputId": "6dbeba67-ce40-47e1-a160-f19ef8ce7aaa"
      },
      "source": [
        "X.shape"
      ],
      "id": "fc5vwAng46m6",
      "execution_count": null,
      "outputs": [
        {
          "output_type": "execute_result",
          "data": {
            "text/plain": [
              "(26707, 80)"
            ]
          },
          "metadata": {},
          "execution_count": 51
        }
      ]
    },
    {
      "cell_type": "code",
      "metadata": {
        "colab": {
          "base_uri": "https://localhost:8080/",
          "height": 226
        },
        "id": "QHOpugte5HqU",
        "outputId": "bc5206f7-6d2c-4fb2-b55a-ff4241ebfda1"
      },
      "source": [
        "X.head()"
      ],
      "id": "QHOpugte5HqU",
      "execution_count": null,
      "outputs": [
        {
          "output_type": "execute_result",
          "data": {
            "text/html": [
              "<div>\n",
              "<style scoped>\n",
              "    .dataframe tbody tr th:only-of-type {\n",
              "        vertical-align: middle;\n",
              "    }\n",
              "\n",
              "    .dataframe tbody tr th {\n",
              "        vertical-align: top;\n",
              "    }\n",
              "\n",
              "    .dataframe thead th {\n",
              "        text-align: right;\n",
              "    }\n",
              "</style>\n",
              "<table border=\"1\" class=\"dataframe\">\n",
              "  <thead>\n",
              "    <tr style=\"text-align: right;\">\n",
              "      <th></th>\n",
              "      <th>age_bracket</th>\n",
              "      <th>qualification</th>\n",
              "      <th>race</th>\n",
              "      <th>sex</th>\n",
              "      <th>income_level</th>\n",
              "      <th>marital_status</th>\n",
              "      <th>housing_status</th>\n",
              "      <th>employment</th>\n",
              "      <th>census_msa</th>\n",
              "      <th>h1n1_worry_0.0</th>\n",
              "      <th>h1n1_worry_1.0</th>\n",
              "      <th>h1n1_worry_2.0</th>\n",
              "      <th>h1n1_worry_3.0</th>\n",
              "      <th>h1n1_awareness_0.0</th>\n",
              "      <th>h1n1_awareness_1.0</th>\n",
              "      <th>h1n1_awareness_2.0</th>\n",
              "      <th>antiviral_medication_0.0</th>\n",
              "      <th>antiviral_medication_1.0</th>\n",
              "      <th>contact_avoidance_0.0</th>\n",
              "      <th>contact_avoidance_1.0</th>\n",
              "      <th>bought_face_mask_0.0</th>\n",
              "      <th>bought_face_mask_1.0</th>\n",
              "      <th>wash_hands_frequently_0.0</th>\n",
              "      <th>wash_hands_frequently_1.0</th>\n",
              "      <th>avoid_large_gatherings_0.0</th>\n",
              "      <th>avoid_large_gatherings_1.0</th>\n",
              "      <th>reduced_outside_home_cont_0.0</th>\n",
              "      <th>reduced_outside_home_cont_1.0</th>\n",
              "      <th>avoid_touch_face_0.0</th>\n",
              "      <th>avoid_touch_face_1.0</th>\n",
              "      <th>dr_recc_h1n1_vacc_0.0</th>\n",
              "      <th>dr_recc_h1n1_vacc_1.0</th>\n",
              "      <th>dr_recc_seasonal_vacc_0.0</th>\n",
              "      <th>dr_recc_seasonal_vacc_1.0</th>\n",
              "      <th>chronic_medic_condition_0.0</th>\n",
              "      <th>chronic_medic_condition_1.0</th>\n",
              "      <th>cont_child_undr_6_mnths_0.0</th>\n",
              "      <th>cont_child_undr_6_mnths_1.0</th>\n",
              "      <th>is_health_worker_0.0</th>\n",
              "      <th>is_health_worker_1.0</th>\n",
              "      <th>has_health_insur_0.0</th>\n",
              "      <th>has_health_insur_1.0</th>\n",
              "      <th>is_h1n1_vacc_effective_1.0</th>\n",
              "      <th>is_h1n1_vacc_effective_2.0</th>\n",
              "      <th>is_h1n1_vacc_effective_3.0</th>\n",
              "      <th>is_h1n1_vacc_effective_4.0</th>\n",
              "      <th>is_h1n1_vacc_effective_5.0</th>\n",
              "      <th>is_h1n1_risky_1.0</th>\n",
              "      <th>is_h1n1_risky_2.0</th>\n",
              "      <th>is_h1n1_risky_3.0</th>\n",
              "      <th>is_h1n1_risky_4.0</th>\n",
              "      <th>is_h1n1_risky_5.0</th>\n",
              "      <th>sick_from_h1n1_vacc_1.0</th>\n",
              "      <th>sick_from_h1n1_vacc_2.0</th>\n",
              "      <th>sick_from_h1n1_vacc_3.0</th>\n",
              "      <th>sick_from_h1n1_vacc_4.0</th>\n",
              "      <th>sick_from_h1n1_vacc_5.0</th>\n",
              "      <th>is_seas_vacc_effective_1.0</th>\n",
              "      <th>is_seas_vacc_effective_2.0</th>\n",
              "      <th>is_seas_vacc_effective_3.0</th>\n",
              "      <th>is_seas_vacc_effective_4.0</th>\n",
              "      <th>is_seas_vacc_effective_5.0</th>\n",
              "      <th>is_seas_risky_1.0</th>\n",
              "      <th>is_seas_risky_2.0</th>\n",
              "      <th>is_seas_risky_3.0</th>\n",
              "      <th>is_seas_risky_4.0</th>\n",
              "      <th>is_seas_risky_5.0</th>\n",
              "      <th>sick_from_seas_vacc_1.0</th>\n",
              "      <th>sick_from_seas_vacc_2.0</th>\n",
              "      <th>sick_from_seas_vacc_3.0</th>\n",
              "      <th>sick_from_seas_vacc_4.0</th>\n",
              "      <th>sick_from_seas_vacc_5.0</th>\n",
              "      <th>no_of_adults_0.0</th>\n",
              "      <th>no_of_adults_1.0</th>\n",
              "      <th>no_of_adults_2.0</th>\n",
              "      <th>no_of_adults_3.0</th>\n",
              "      <th>no_of_children_0.0</th>\n",
              "      <th>no_of_children_1.0</th>\n",
              "      <th>no_of_children_2.0</th>\n",
              "      <th>no_of_children_3.0</th>\n",
              "    </tr>\n",
              "  </thead>\n",
              "  <tbody>\n",
              "    <tr>\n",
              "      <th>0</th>\n",
              "      <td>3</td>\n",
              "      <td>1</td>\n",
              "      <td>3</td>\n",
              "      <td>0</td>\n",
              "      <td>2</td>\n",
              "      <td>1</td>\n",
              "      <td>0</td>\n",
              "      <td>1</td>\n",
              "      <td>2</td>\n",
              "      <td>0</td>\n",
              "      <td>1</td>\n",
              "      <td>0</td>\n",
              "      <td>0</td>\n",
              "      <td>1</td>\n",
              "      <td>0</td>\n",
              "      <td>0</td>\n",
              "      <td>1</td>\n",
              "      <td>0</td>\n",
              "      <td>1</td>\n",
              "      <td>0</td>\n",
              "      <td>1</td>\n",
              "      <td>0</td>\n",
              "      <td>1</td>\n",
              "      <td>0</td>\n",
              "      <td>1</td>\n",
              "      <td>0</td>\n",
              "      <td>0</td>\n",
              "      <td>1</td>\n",
              "      <td>0</td>\n",
              "      <td>1</td>\n",
              "      <td>1</td>\n",
              "      <td>0</td>\n",
              "      <td>1</td>\n",
              "      <td>0</td>\n",
              "      <td>1</td>\n",
              "      <td>0</td>\n",
              "      <td>1</td>\n",
              "      <td>0</td>\n",
              "      <td>1</td>\n",
              "      <td>0</td>\n",
              "      <td>0</td>\n",
              "      <td>1</td>\n",
              "      <td>0</td>\n",
              "      <td>0</td>\n",
              "      <td>1</td>\n",
              "      <td>0</td>\n",
              "      <td>0</td>\n",
              "      <td>1</td>\n",
              "      <td>0</td>\n",
              "      <td>0</td>\n",
              "      <td>0</td>\n",
              "      <td>0</td>\n",
              "      <td>0</td>\n",
              "      <td>1</td>\n",
              "      <td>0</td>\n",
              "      <td>0</td>\n",
              "      <td>0</td>\n",
              "      <td>0</td>\n",
              "      <td>1</td>\n",
              "      <td>0</td>\n",
              "      <td>0</td>\n",
              "      <td>0</td>\n",
              "      <td>1</td>\n",
              "      <td>0</td>\n",
              "      <td>0</td>\n",
              "      <td>0</td>\n",
              "      <td>0</td>\n",
              "      <td>0</td>\n",
              "      <td>1</td>\n",
              "      <td>0</td>\n",
              "      <td>0</td>\n",
              "      <td>0</td>\n",
              "      <td>1</td>\n",
              "      <td>0</td>\n",
              "      <td>0</td>\n",
              "      <td>0</td>\n",
              "      <td>1</td>\n",
              "      <td>0</td>\n",
              "      <td>0</td>\n",
              "      <td>0</td>\n",
              "    </tr>\n",
              "    <tr>\n",
              "      <th>1</th>\n",
              "      <td>1</td>\n",
              "      <td>0</td>\n",
              "      <td>3</td>\n",
              "      <td>1</td>\n",
              "      <td>2</td>\n",
              "      <td>1</td>\n",
              "      <td>1</td>\n",
              "      <td>0</td>\n",
              "      <td>0</td>\n",
              "      <td>0</td>\n",
              "      <td>0</td>\n",
              "      <td>0</td>\n",
              "      <td>1</td>\n",
              "      <td>0</td>\n",
              "      <td>0</td>\n",
              "      <td>1</td>\n",
              "      <td>1</td>\n",
              "      <td>0</td>\n",
              "      <td>0</td>\n",
              "      <td>1</td>\n",
              "      <td>1</td>\n",
              "      <td>0</td>\n",
              "      <td>0</td>\n",
              "      <td>1</td>\n",
              "      <td>1</td>\n",
              "      <td>0</td>\n",
              "      <td>0</td>\n",
              "      <td>1</td>\n",
              "      <td>0</td>\n",
              "      <td>1</td>\n",
              "      <td>1</td>\n",
              "      <td>0</td>\n",
              "      <td>1</td>\n",
              "      <td>0</td>\n",
              "      <td>1</td>\n",
              "      <td>0</td>\n",
              "      <td>1</td>\n",
              "      <td>0</td>\n",
              "      <td>1</td>\n",
              "      <td>0</td>\n",
              "      <td>0</td>\n",
              "      <td>1</td>\n",
              "      <td>0</td>\n",
              "      <td>0</td>\n",
              "      <td>0</td>\n",
              "      <td>0</td>\n",
              "      <td>1</td>\n",
              "      <td>0</td>\n",
              "      <td>0</td>\n",
              "      <td>0</td>\n",
              "      <td>1</td>\n",
              "      <td>0</td>\n",
              "      <td>0</td>\n",
              "      <td>0</td>\n",
              "      <td>0</td>\n",
              "      <td>1</td>\n",
              "      <td>0</td>\n",
              "      <td>0</td>\n",
              "      <td>0</td>\n",
              "      <td>0</td>\n",
              "      <td>1</td>\n",
              "      <td>0</td>\n",
              "      <td>0</td>\n",
              "      <td>1</td>\n",
              "      <td>0</td>\n",
              "      <td>0</td>\n",
              "      <td>0</td>\n",
              "      <td>0</td>\n",
              "      <td>0</td>\n",
              "      <td>0</td>\n",
              "      <td>1</td>\n",
              "      <td>0</td>\n",
              "      <td>1</td>\n",
              "      <td>0</td>\n",
              "      <td>0</td>\n",
              "      <td>0</td>\n",
              "      <td>1</td>\n",
              "      <td>0</td>\n",
              "      <td>0</td>\n",
              "      <td>0</td>\n",
              "    </tr>\n",
              "    <tr>\n",
              "      <th>2</th>\n",
              "      <td>0</td>\n",
              "      <td>2</td>\n",
              "      <td>3</td>\n",
              "      <td>1</td>\n",
              "      <td>0</td>\n",
              "      <td>1</td>\n",
              "      <td>0</td>\n",
              "      <td>0</td>\n",
              "      <td>0</td>\n",
              "      <td>0</td>\n",
              "      <td>1</td>\n",
              "      <td>0</td>\n",
              "      <td>0</td>\n",
              "      <td>0</td>\n",
              "      <td>1</td>\n",
              "      <td>0</td>\n",
              "      <td>1</td>\n",
              "      <td>0</td>\n",
              "      <td>0</td>\n",
              "      <td>1</td>\n",
              "      <td>1</td>\n",
              "      <td>0</td>\n",
              "      <td>1</td>\n",
              "      <td>0</td>\n",
              "      <td>1</td>\n",
              "      <td>0</td>\n",
              "      <td>1</td>\n",
              "      <td>0</td>\n",
              "      <td>1</td>\n",
              "      <td>0</td>\n",
              "      <td>1</td>\n",
              "      <td>0</td>\n",
              "      <td>1</td>\n",
              "      <td>0</td>\n",
              "      <td>0</td>\n",
              "      <td>1</td>\n",
              "      <td>1</td>\n",
              "      <td>0</td>\n",
              "      <td>1</td>\n",
              "      <td>0</td>\n",
              "      <td>0</td>\n",
              "      <td>1</td>\n",
              "      <td>0</td>\n",
              "      <td>0</td>\n",
              "      <td>1</td>\n",
              "      <td>0</td>\n",
              "      <td>0</td>\n",
              "      <td>1</td>\n",
              "      <td>0</td>\n",
              "      <td>0</td>\n",
              "      <td>0</td>\n",
              "      <td>0</td>\n",
              "      <td>1</td>\n",
              "      <td>0</td>\n",
              "      <td>0</td>\n",
              "      <td>0</td>\n",
              "      <td>0</td>\n",
              "      <td>0</td>\n",
              "      <td>0</td>\n",
              "      <td>0</td>\n",
              "      <td>1</td>\n",
              "      <td>0</td>\n",
              "      <td>1</td>\n",
              "      <td>0</td>\n",
              "      <td>0</td>\n",
              "      <td>0</td>\n",
              "      <td>0</td>\n",
              "      <td>0</td>\n",
              "      <td>1</td>\n",
              "      <td>0</td>\n",
              "      <td>0</td>\n",
              "      <td>0</td>\n",
              "      <td>0</td>\n",
              "      <td>0</td>\n",
              "      <td>1</td>\n",
              "      <td>0</td>\n",
              "      <td>1</td>\n",
              "      <td>0</td>\n",
              "      <td>0</td>\n",
              "      <td>0</td>\n",
              "    </tr>\n",
              "    <tr>\n",
              "      <th>3</th>\n",
              "      <td>4</td>\n",
              "      <td>0</td>\n",
              "      <td>3</td>\n",
              "      <td>0</td>\n",
              "      <td>2</td>\n",
              "      <td>1</td>\n",
              "      <td>1</td>\n",
              "      <td>1</td>\n",
              "      <td>1</td>\n",
              "      <td>0</td>\n",
              "      <td>1</td>\n",
              "      <td>0</td>\n",
              "      <td>0</td>\n",
              "      <td>0</td>\n",
              "      <td>1</td>\n",
              "      <td>0</td>\n",
              "      <td>1</td>\n",
              "      <td>0</td>\n",
              "      <td>0</td>\n",
              "      <td>1</td>\n",
              "      <td>1</td>\n",
              "      <td>0</td>\n",
              "      <td>0</td>\n",
              "      <td>1</td>\n",
              "      <td>0</td>\n",
              "      <td>1</td>\n",
              "      <td>1</td>\n",
              "      <td>0</td>\n",
              "      <td>1</td>\n",
              "      <td>0</td>\n",
              "      <td>1</td>\n",
              "      <td>0</td>\n",
              "      <td>0</td>\n",
              "      <td>1</td>\n",
              "      <td>0</td>\n",
              "      <td>1</td>\n",
              "      <td>1</td>\n",
              "      <td>0</td>\n",
              "      <td>1</td>\n",
              "      <td>0</td>\n",
              "      <td>0</td>\n",
              "      <td>1</td>\n",
              "      <td>0</td>\n",
              "      <td>0</td>\n",
              "      <td>1</td>\n",
              "      <td>0</td>\n",
              "      <td>0</td>\n",
              "      <td>0</td>\n",
              "      <td>0</td>\n",
              "      <td>1</td>\n",
              "      <td>0</td>\n",
              "      <td>0</td>\n",
              "      <td>0</td>\n",
              "      <td>0</td>\n",
              "      <td>0</td>\n",
              "      <td>0</td>\n",
              "      <td>1</td>\n",
              "      <td>0</td>\n",
              "      <td>0</td>\n",
              "      <td>0</td>\n",
              "      <td>0</td>\n",
              "      <td>1</td>\n",
              "      <td>0</td>\n",
              "      <td>0</td>\n",
              "      <td>0</td>\n",
              "      <td>1</td>\n",
              "      <td>0</td>\n",
              "      <td>1</td>\n",
              "      <td>0</td>\n",
              "      <td>0</td>\n",
              "      <td>0</td>\n",
              "      <td>0</td>\n",
              "      <td>1</td>\n",
              "      <td>0</td>\n",
              "      <td>0</td>\n",
              "      <td>0</td>\n",
              "      <td>1</td>\n",
              "      <td>0</td>\n",
              "      <td>0</td>\n",
              "      <td>0</td>\n",
              "    </tr>\n",
              "    <tr>\n",
              "      <th>4</th>\n",
              "      <td>2</td>\n",
              "      <td>3</td>\n",
              "      <td>3</td>\n",
              "      <td>0</td>\n",
              "      <td>0</td>\n",
              "      <td>0</td>\n",
              "      <td>0</td>\n",
              "      <td>0</td>\n",
              "      <td>0</td>\n",
              "      <td>0</td>\n",
              "      <td>0</td>\n",
              "      <td>1</td>\n",
              "      <td>0</td>\n",
              "      <td>0</td>\n",
              "      <td>1</td>\n",
              "      <td>0</td>\n",
              "      <td>1</td>\n",
              "      <td>0</td>\n",
              "      <td>0</td>\n",
              "      <td>1</td>\n",
              "      <td>1</td>\n",
              "      <td>0</td>\n",
              "      <td>0</td>\n",
              "      <td>1</td>\n",
              "      <td>0</td>\n",
              "      <td>1</td>\n",
              "      <td>1</td>\n",
              "      <td>0</td>\n",
              "      <td>0</td>\n",
              "      <td>1</td>\n",
              "      <td>1</td>\n",
              "      <td>0</td>\n",
              "      <td>1</td>\n",
              "      <td>0</td>\n",
              "      <td>1</td>\n",
              "      <td>0</td>\n",
              "      <td>1</td>\n",
              "      <td>0</td>\n",
              "      <td>1</td>\n",
              "      <td>0</td>\n",
              "      <td>0</td>\n",
              "      <td>1</td>\n",
              "      <td>0</td>\n",
              "      <td>0</td>\n",
              "      <td>1</td>\n",
              "      <td>0</td>\n",
              "      <td>0</td>\n",
              "      <td>0</td>\n",
              "      <td>0</td>\n",
              "      <td>1</td>\n",
              "      <td>0</td>\n",
              "      <td>0</td>\n",
              "      <td>0</td>\n",
              "      <td>1</td>\n",
              "      <td>0</td>\n",
              "      <td>0</td>\n",
              "      <td>0</td>\n",
              "      <td>0</td>\n",
              "      <td>0</td>\n",
              "      <td>1</td>\n",
              "      <td>0</td>\n",
              "      <td>0</td>\n",
              "      <td>1</td>\n",
              "      <td>0</td>\n",
              "      <td>0</td>\n",
              "      <td>0</td>\n",
              "      <td>0</td>\n",
              "      <td>0</td>\n",
              "      <td>0</td>\n",
              "      <td>0</td>\n",
              "      <td>1</td>\n",
              "      <td>0</td>\n",
              "      <td>0</td>\n",
              "      <td>1</td>\n",
              "      <td>0</td>\n",
              "      <td>0</td>\n",
              "      <td>1</td>\n",
              "      <td>0</td>\n",
              "      <td>0</td>\n",
              "      <td>0</td>\n",
              "    </tr>\n",
              "  </tbody>\n",
              "</table>\n",
              "</div>"
            ],
            "text/plain": [
              "   age_bracket  qualification  ...  no_of_children_2.0  no_of_children_3.0\n",
              "0            3              1  ...                   0                   0\n",
              "1            1              0  ...                   0                   0\n",
              "2            0              2  ...                   0                   0\n",
              "3            4              0  ...                   0                   0\n",
              "4            2              3  ...                   0                   0\n",
              "\n",
              "[5 rows x 80 columns]"
            ]
          },
          "metadata": {},
          "execution_count": 52
        }
      ]
    },
    {
      "cell_type": "code",
      "metadata": {
        "colab": {
          "base_uri": "https://localhost:8080/",
          "height": 426
        },
        "id": "Qe99P7_F5mZF",
        "outputId": "8e33a3d2-b3bf-4a99-c988-33d56eebabd2"
      },
      "source": [
        "sns.heatmap(X)"
      ],
      "id": "Qe99P7_F5mZF",
      "execution_count": null,
      "outputs": [
        {
          "output_type": "execute_result",
          "data": {
            "text/plain": [
              "<matplotlib.axes._subplots.AxesSubplot at 0x7f50176ed050>"
            ]
          },
          "metadata": {},
          "execution_count": 53
        },
        {
          "output_type": "display_data",
          "data": {
            "image/png": "[encoded data removed]",
            "text/plain": [
              "<Figure size 432x288 with 2 Axes>"
            ]
          },
          "metadata": {
            "needs_background": "light"
          }
        }
      ]
    },
    {
      "cell_type": "code",
      "metadata": {
        "id": "87ca1438"
      },
      "source": [
        "covid = pd.concat([X,y],axis=1)"
      ],
      "id": "87ca1438",
      "execution_count": null,
      "outputs": []
    },
    {
      "cell_type": "code",
      "metadata": {
        "colab": {
          "base_uri": "https://localhost:8080/",
          "height": 255
        },
        "id": "7b6dc20b",
        "outputId": "2bc60d8b-66f2-4cd2-9aca-640b645537a6"
      },
      "source": [
        "covid.head()"
      ],
      "id": "7b6dc20b",
      "execution_count": null,
      "outputs": [
        {
          "output_type": "execute_result",
          "data": {
            "text/html": [
              "<div>\n",
              "<style scoped>\n",
              "    .dataframe tbody tr th:only-of-type {\n",
              "        vertical-align: middle;\n",
              "    }\n",
              "\n",
              "    .dataframe tbody tr th {\n",
              "        vertical-align: top;\n",
              "    }\n",
              "\n",
              "    .dataframe thead th {\n",
              "        text-align: right;\n",
              "    }\n",
              "</style>\n",
              "<table border=\"1\" class=\"dataframe\">\n",
              "  <thead>\n",
              "    <tr style=\"text-align: right;\">\n",
              "      <th></th>\n",
              "      <th>age_bracket</th>\n",
              "      <th>qualification</th>\n",
              "      <th>race</th>\n",
              "      <th>sex</th>\n",
              "      <th>income_level</th>\n",
              "      <th>marital_status</th>\n",
              "      <th>housing_status</th>\n",
              "      <th>employment</th>\n",
              "      <th>census_msa</th>\n",
              "      <th>h1n1_worry_0.0</th>\n",
              "      <th>h1n1_worry_1.0</th>\n",
              "      <th>h1n1_worry_2.0</th>\n",
              "      <th>h1n1_worry_3.0</th>\n",
              "      <th>h1n1_awareness_0.0</th>\n",
              "      <th>h1n1_awareness_1.0</th>\n",
              "      <th>h1n1_awareness_2.0</th>\n",
              "      <th>antiviral_medication_0.0</th>\n",
              "      <th>antiviral_medication_1.0</th>\n",
              "      <th>contact_avoidance_0.0</th>\n",
              "      <th>contact_avoidance_1.0</th>\n",
              "      <th>bought_face_mask_0.0</th>\n",
              "      <th>bought_face_mask_1.0</th>\n",
              "      <th>wash_hands_frequently_0.0</th>\n",
              "      <th>wash_hands_frequently_1.0</th>\n",
              "      <th>avoid_large_gatherings_0.0</th>\n",
              "      <th>avoid_large_gatherings_1.0</th>\n",
              "      <th>reduced_outside_home_cont_0.0</th>\n",
              "      <th>reduced_outside_home_cont_1.0</th>\n",
              "      <th>avoid_touch_face_0.0</th>\n",
              "      <th>avoid_touch_face_1.0</th>\n",
              "      <th>dr_recc_h1n1_vacc_0.0</th>\n",
              "      <th>dr_recc_h1n1_vacc_1.0</th>\n",
              "      <th>dr_recc_seasonal_vacc_0.0</th>\n",
              "      <th>dr_recc_seasonal_vacc_1.0</th>\n",
              "      <th>chronic_medic_condition_0.0</th>\n",
              "      <th>chronic_medic_condition_1.0</th>\n",
              "      <th>cont_child_undr_6_mnths_0.0</th>\n",
              "      <th>cont_child_undr_6_mnths_1.0</th>\n",
              "      <th>is_health_worker_0.0</th>\n",
              "      <th>is_health_worker_1.0</th>\n",
              "      <th>...</th>\n",
              "      <th>has_health_insur_1.0</th>\n",
              "      <th>is_h1n1_vacc_effective_1.0</th>\n",
              "      <th>is_h1n1_vacc_effective_2.0</th>\n",
              "      <th>is_h1n1_vacc_effective_3.0</th>\n",
              "      <th>is_h1n1_vacc_effective_4.0</th>\n",
              "      <th>is_h1n1_vacc_effective_5.0</th>\n",
              "      <th>is_h1n1_risky_1.0</th>\n",
              "      <th>is_h1n1_risky_2.0</th>\n",
              "      <th>is_h1n1_risky_3.0</th>\n",
              "      <th>is_h1n1_risky_4.0</th>\n",
              "      <th>is_h1n1_risky_5.0</th>\n",
              "      <th>sick_from_h1n1_vacc_1.0</th>\n",
              "      <th>sick_from_h1n1_vacc_2.0</th>\n",
              "      <th>sick_from_h1n1_vacc_3.0</th>\n",
              "      <th>sick_from_h1n1_vacc_4.0</th>\n",
              "      <th>sick_from_h1n1_vacc_5.0</th>\n",
              "      <th>is_seas_vacc_effective_1.0</th>\n",
              "      <th>is_seas_vacc_effective_2.0</th>\n",
              "      <th>is_seas_vacc_effective_3.0</th>\n",
              "      <th>is_seas_vacc_effective_4.0</th>\n",
              "      <th>is_seas_vacc_effective_5.0</th>\n",
              "      <th>is_seas_risky_1.0</th>\n",
              "      <th>is_seas_risky_2.0</th>\n",
              "      <th>is_seas_risky_3.0</th>\n",
              "      <th>is_seas_risky_4.0</th>\n",
              "      <th>is_seas_risky_5.0</th>\n",
              "      <th>sick_from_seas_vacc_1.0</th>\n",
              "      <th>sick_from_seas_vacc_2.0</th>\n",
              "      <th>sick_from_seas_vacc_3.0</th>\n",
              "      <th>sick_from_seas_vacc_4.0</th>\n",
              "      <th>sick_from_seas_vacc_5.0</th>\n",
              "      <th>no_of_adults_0.0</th>\n",
              "      <th>no_of_adults_1.0</th>\n",
              "      <th>no_of_adults_2.0</th>\n",
              "      <th>no_of_adults_3.0</th>\n",
              "      <th>no_of_children_0.0</th>\n",
              "      <th>no_of_children_1.0</th>\n",
              "      <th>no_of_children_2.0</th>\n",
              "      <th>no_of_children_3.0</th>\n",
              "      <th>h1n1_vaccine</th>\n",
              "    </tr>\n",
              "  </thead>\n",
              "  <tbody>\n",
              "    <tr>\n",
              "      <th>0</th>\n",
              "      <td>3</td>\n",
              "      <td>1</td>\n",
              "      <td>3</td>\n",
              "      <td>0</td>\n",
              "      <td>2</td>\n",
              "      <td>1</td>\n",
              "      <td>0</td>\n",
              "      <td>1</td>\n",
              "      <td>2</td>\n",
              "      <td>0</td>\n",
              "      <td>1</td>\n",
              "      <td>0</td>\n",
              "      <td>0</td>\n",
              "      <td>1</td>\n",
              "      <td>0</td>\n",
              "      <td>0</td>\n",
              "      <td>1</td>\n",
              "      <td>0</td>\n",
              "      <td>1</td>\n",
              "      <td>0</td>\n",
              "      <td>1</td>\n",
              "      <td>0</td>\n",
              "      <td>1</td>\n",
              "      <td>0</td>\n",
              "      <td>1</td>\n",
              "      <td>0</td>\n",
              "      <td>0</td>\n",
              "      <td>1</td>\n",
              "      <td>0</td>\n",
              "      <td>1</td>\n",
              "      <td>1</td>\n",
              "      <td>0</td>\n",
              "      <td>1</td>\n",
              "      <td>0</td>\n",
              "      <td>1</td>\n",
              "      <td>0</td>\n",
              "      <td>1</td>\n",
              "      <td>0</td>\n",
              "      <td>1</td>\n",
              "      <td>0</td>\n",
              "      <td>...</td>\n",
              "      <td>1</td>\n",
              "      <td>0</td>\n",
              "      <td>0</td>\n",
              "      <td>1</td>\n",
              "      <td>0</td>\n",
              "      <td>0</td>\n",
              "      <td>1</td>\n",
              "      <td>0</td>\n",
              "      <td>0</td>\n",
              "      <td>0</td>\n",
              "      <td>0</td>\n",
              "      <td>0</td>\n",
              "      <td>1</td>\n",
              "      <td>0</td>\n",
              "      <td>0</td>\n",
              "      <td>0</td>\n",
              "      <td>0</td>\n",
              "      <td>1</td>\n",
              "      <td>0</td>\n",
              "      <td>0</td>\n",
              "      <td>0</td>\n",
              "      <td>1</td>\n",
              "      <td>0</td>\n",
              "      <td>0</td>\n",
              "      <td>0</td>\n",
              "      <td>0</td>\n",
              "      <td>0</td>\n",
              "      <td>1</td>\n",
              "      <td>0</td>\n",
              "      <td>0</td>\n",
              "      <td>0</td>\n",
              "      <td>1</td>\n",
              "      <td>0</td>\n",
              "      <td>0</td>\n",
              "      <td>0</td>\n",
              "      <td>1</td>\n",
              "      <td>0</td>\n",
              "      <td>0</td>\n",
              "      <td>0</td>\n",
              "      <td>0</td>\n",
              "    </tr>\n",
              "    <tr>\n",
              "      <th>1</th>\n",
              "      <td>1</td>\n",
              "      <td>0</td>\n",
              "      <td>3</td>\n",
              "      <td>1</td>\n",
              "      <td>2</td>\n",
              "      <td>1</td>\n",
              "      <td>1</td>\n",
              "      <td>0</td>\n",
              "      <td>0</td>\n",
              "      <td>0</td>\n",
              "      <td>0</td>\n",
              "      <td>0</td>\n",
              "      <td>1</td>\n",
              "      <td>0</td>\n",
              "      <td>0</td>\n",
              "      <td>1</td>\n",
              "      <td>1</td>\n",
              "      <td>0</td>\n",
              "      <td>0</td>\n",
              "      <td>1</td>\n",
              "      <td>1</td>\n",
              "      <td>0</td>\n",
              "      <td>0</td>\n",
              "      <td>1</td>\n",
              "      <td>1</td>\n",
              "      <td>0</td>\n",
              "      <td>0</td>\n",
              "      <td>1</td>\n",
              "      <td>0</td>\n",
              "      <td>1</td>\n",
              "      <td>1</td>\n",
              "      <td>0</td>\n",
              "      <td>1</td>\n",
              "      <td>0</td>\n",
              "      <td>1</td>\n",
              "      <td>0</td>\n",
              "      <td>1</td>\n",
              "      <td>0</td>\n",
              "      <td>1</td>\n",
              "      <td>0</td>\n",
              "      <td>...</td>\n",
              "      <td>1</td>\n",
              "      <td>0</td>\n",
              "      <td>0</td>\n",
              "      <td>0</td>\n",
              "      <td>0</td>\n",
              "      <td>1</td>\n",
              "      <td>0</td>\n",
              "      <td>0</td>\n",
              "      <td>0</td>\n",
              "      <td>1</td>\n",
              "      <td>0</td>\n",
              "      <td>0</td>\n",
              "      <td>0</td>\n",
              "      <td>0</td>\n",
              "      <td>1</td>\n",
              "      <td>0</td>\n",
              "      <td>0</td>\n",
              "      <td>0</td>\n",
              "      <td>0</td>\n",
              "      <td>1</td>\n",
              "      <td>0</td>\n",
              "      <td>0</td>\n",
              "      <td>1</td>\n",
              "      <td>0</td>\n",
              "      <td>0</td>\n",
              "      <td>0</td>\n",
              "      <td>0</td>\n",
              "      <td>0</td>\n",
              "      <td>0</td>\n",
              "      <td>1</td>\n",
              "      <td>0</td>\n",
              "      <td>1</td>\n",
              "      <td>0</td>\n",
              "      <td>0</td>\n",
              "      <td>0</td>\n",
              "      <td>1</td>\n",
              "      <td>0</td>\n",
              "      <td>0</td>\n",
              "      <td>0</td>\n",
              "      <td>0</td>\n",
              "    </tr>\n",
              "    <tr>\n",
              "      <th>2</th>\n",
              "      <td>0</td>\n",
              "      <td>2</td>\n",
              "      <td>3</td>\n",
              "      <td>1</td>\n",
              "      <td>0</td>\n",
              "      <td>1</td>\n",
              "      <td>0</td>\n",
              "      <td>0</td>\n",
              "      <td>0</td>\n",
              "      <td>0</td>\n",
              "      <td>1</td>\n",
              "      <td>0</td>\n",
              "      <td>0</td>\n",
              "      <td>0</td>\n",
              "      <td>1</td>\n",
              "      <td>0</td>\n",
              "      <td>1</td>\n",
              "      <td>0</td>\n",
              "      <td>0</td>\n",
              "      <td>1</td>\n",
              "      <td>1</td>\n",
              "      <td>0</td>\n",
              "      <td>1</td>\n",
              "      <td>0</td>\n",
              "      <td>1</td>\n",
              "      <td>0</td>\n",
              "      <td>1</td>\n",
              "      <td>0</td>\n",
              "      <td>1</td>\n",
              "      <td>0</td>\n",
              "      <td>1</td>\n",
              "      <td>0</td>\n",
              "      <td>1</td>\n",
              "      <td>0</td>\n",
              "      <td>0</td>\n",
              "      <td>1</td>\n",
              "      <td>1</td>\n",
              "      <td>0</td>\n",
              "      <td>1</td>\n",
              "      <td>0</td>\n",
              "      <td>...</td>\n",
              "      <td>1</td>\n",
              "      <td>0</td>\n",
              "      <td>0</td>\n",
              "      <td>1</td>\n",
              "      <td>0</td>\n",
              "      <td>0</td>\n",
              "      <td>1</td>\n",
              "      <td>0</td>\n",
              "      <td>0</td>\n",
              "      <td>0</td>\n",
              "      <td>0</td>\n",
              "      <td>1</td>\n",
              "      <td>0</td>\n",
              "      <td>0</td>\n",
              "      <td>0</td>\n",
              "      <td>0</td>\n",
              "      <td>0</td>\n",
              "      <td>0</td>\n",
              "      <td>0</td>\n",
              "      <td>1</td>\n",
              "      <td>0</td>\n",
              "      <td>1</td>\n",
              "      <td>0</td>\n",
              "      <td>0</td>\n",
              "      <td>0</td>\n",
              "      <td>0</td>\n",
              "      <td>0</td>\n",
              "      <td>1</td>\n",
              "      <td>0</td>\n",
              "      <td>0</td>\n",
              "      <td>0</td>\n",
              "      <td>0</td>\n",
              "      <td>0</td>\n",
              "      <td>1</td>\n",
              "      <td>0</td>\n",
              "      <td>1</td>\n",
              "      <td>0</td>\n",
              "      <td>0</td>\n",
              "      <td>0</td>\n",
              "      <td>0</td>\n",
              "    </tr>\n",
              "    <tr>\n",
              "      <th>3</th>\n",
              "      <td>4</td>\n",
              "      <td>0</td>\n",
              "      <td>3</td>\n",
              "      <td>0</td>\n",
              "      <td>2</td>\n",
              "      <td>1</td>\n",
              "      <td>1</td>\n",
              "      <td>1</td>\n",
              "      <td>1</td>\n",
              "      <td>0</td>\n",
              "      <td>1</td>\n",
              "      <td>0</td>\n",
              "      <td>0</td>\n",
              "      <td>0</td>\n",
              "      <td>1</td>\n",
              "      <td>0</td>\n",
              "      <td>1</td>\n",
              "      <td>0</td>\n",
              "      <td>0</td>\n",
              "      <td>1</td>\n",
              "      <td>1</td>\n",
              "      <td>0</td>\n",
              "      <td>0</td>\n",
              "      <td>1</td>\n",
              "      <td>0</td>\n",
              "      <td>1</td>\n",
              "      <td>1</td>\n",
              "      <td>0</td>\n",
              "      <td>1</td>\n",
              "      <td>0</td>\n",
              "      <td>1</td>\n",
              "      <td>0</td>\n",
              "      <td>0</td>\n",
              "      <td>1</td>\n",
              "      <td>0</td>\n",
              "      <td>1</td>\n",
              "      <td>1</td>\n",
              "      <td>0</td>\n",
              "      <td>1</td>\n",
              "      <td>0</td>\n",
              "      <td>...</td>\n",
              "      <td>1</td>\n",
              "      <td>0</td>\n",
              "      <td>0</td>\n",
              "      <td>1</td>\n",
              "      <td>0</td>\n",
              "      <td>0</td>\n",
              "      <td>0</td>\n",
              "      <td>0</td>\n",
              "      <td>1</td>\n",
              "      <td>0</td>\n",
              "      <td>0</td>\n",
              "      <td>0</td>\n",
              "      <td>0</td>\n",
              "      <td>0</td>\n",
              "      <td>0</td>\n",
              "      <td>1</td>\n",
              "      <td>0</td>\n",
              "      <td>0</td>\n",
              "      <td>0</td>\n",
              "      <td>0</td>\n",
              "      <td>1</td>\n",
              "      <td>0</td>\n",
              "      <td>0</td>\n",
              "      <td>0</td>\n",
              "      <td>1</td>\n",
              "      <td>0</td>\n",
              "      <td>1</td>\n",
              "      <td>0</td>\n",
              "      <td>0</td>\n",
              "      <td>0</td>\n",
              "      <td>0</td>\n",
              "      <td>1</td>\n",
              "      <td>0</td>\n",
              "      <td>0</td>\n",
              "      <td>0</td>\n",
              "      <td>1</td>\n",
              "      <td>0</td>\n",
              "      <td>0</td>\n",
              "      <td>0</td>\n",
              "      <td>0</td>\n",
              "    </tr>\n",
              "    <tr>\n",
              "      <th>4</th>\n",
              "      <td>2</td>\n",
              "      <td>3</td>\n",
              "      <td>3</td>\n",
              "      <td>0</td>\n",
              "      <td>0</td>\n",
              "      <td>0</td>\n",
              "      <td>0</td>\n",
              "      <td>0</td>\n",
              "      <td>0</td>\n",
              "      <td>0</td>\n",
              "      <td>0</td>\n",
              "      <td>1</td>\n",
              "      <td>0</td>\n",
              "      <td>0</td>\n",
              "      <td>1</td>\n",
              "      <td>0</td>\n",
              "      <td>1</td>\n",
              "      <td>0</td>\n",
              "      <td>0</td>\n",
              "      <td>1</td>\n",
              "      <td>1</td>\n",
              "      <td>0</td>\n",
              "      <td>0</td>\n",
              "      <td>1</td>\n",
              "      <td>0</td>\n",
              "      <td>1</td>\n",
              "      <td>1</td>\n",
              "      <td>0</td>\n",
              "      <td>0</td>\n",
              "      <td>1</td>\n",
              "      <td>1</td>\n",
              "      <td>0</td>\n",
              "      <td>1</td>\n",
              "      <td>0</td>\n",
              "      <td>1</td>\n",
              "      <td>0</td>\n",
              "      <td>1</td>\n",
              "      <td>0</td>\n",
              "      <td>1</td>\n",
              "      <td>0</td>\n",
              "      <td>...</td>\n",
              "      <td>1</td>\n",
              "      <td>0</td>\n",
              "      <td>0</td>\n",
              "      <td>1</td>\n",
              "      <td>0</td>\n",
              "      <td>0</td>\n",
              "      <td>0</td>\n",
              "      <td>0</td>\n",
              "      <td>1</td>\n",
              "      <td>0</td>\n",
              "      <td>0</td>\n",
              "      <td>0</td>\n",
              "      <td>1</td>\n",
              "      <td>0</td>\n",
              "      <td>0</td>\n",
              "      <td>0</td>\n",
              "      <td>0</td>\n",
              "      <td>0</td>\n",
              "      <td>1</td>\n",
              "      <td>0</td>\n",
              "      <td>0</td>\n",
              "      <td>1</td>\n",
              "      <td>0</td>\n",
              "      <td>0</td>\n",
              "      <td>0</td>\n",
              "      <td>0</td>\n",
              "      <td>0</td>\n",
              "      <td>0</td>\n",
              "      <td>0</td>\n",
              "      <td>1</td>\n",
              "      <td>0</td>\n",
              "      <td>0</td>\n",
              "      <td>1</td>\n",
              "      <td>0</td>\n",
              "      <td>0</td>\n",
              "      <td>1</td>\n",
              "      <td>0</td>\n",
              "      <td>0</td>\n",
              "      <td>0</td>\n",
              "      <td>0</td>\n",
              "    </tr>\n",
              "  </tbody>\n",
              "</table>\n",
              "<p>5 rows × 81 columns</p>\n",
              "</div>"
            ],
            "text/plain": [
              "   age_bracket  qualification  ...  no_of_children_3.0  h1n1_vaccine\n",
              "0            3              1  ...                   0             0\n",
              "1            1              0  ...                   0             0\n",
              "2            0              2  ...                   0             0\n",
              "3            4              0  ...                   0             0\n",
              "4            2              3  ...                   0             0\n",
              "\n",
              "[5 rows x 81 columns]"
            ]
          },
          "metadata": {},
          "execution_count": 55
        }
      ]
    },
    {
      "cell_type": "code",
      "metadata": {
        "colab": {
          "base_uri": "https://localhost:8080/"
        },
        "id": "a9072dcd",
        "outputId": "b69414cf-30bd-4353-cbfb-4214b4e37493"
      },
      "source": [
        "type(covid)"
      ],
      "id": "a9072dcd",
      "execution_count": null,
      "outputs": [
        {
          "output_type": "execute_result",
          "data": {
            "text/plain": [
              "pandas.core.frame.DataFrame"
            ]
          },
          "metadata": {},
          "execution_count": 56
        }
      ]
    },
    {
      "cell_type": "code",
      "metadata": {
        "id": "7cefacdd"
      },
      "source": [
        "X = covid.iloc[:,:-1].values  #features\n",
        "\n",
        "y = covid.iloc[:,-1].values    #target"
      ],
      "id": "7cefacdd",
      "execution_count": null,
      "outputs": []
    },
    {
      "cell_type": "code",
      "metadata": {
        "colab": {
          "base_uri": "https://localhost:8080/"
        },
        "id": "8d39d07f",
        "outputId": "f998c351-9826-47bd-9861-6d0ad01773e3"
      },
      "source": [
        "X,y,X.shape,y.shape"
      ],
      "id": "8d39d07f",
      "execution_count": null,
      "outputs": [
        {
          "output_type": "execute_result",
          "data": {
            "text/plain": [
              "(array([[3, 1, 3, ..., 0, 0, 0],\n",
              "        [1, 0, 3, ..., 0, 0, 0],\n",
              "        [0, 2, 3, ..., 0, 0, 0],\n",
              "        ...,\n",
              "        [3, 3, 3, ..., 0, 0, 0],\n",
              "        [0, 3, 1, ..., 0, 0, 0],\n",
              "        [4, 3, 3, ..., 0, 0, 0]], dtype=int16),\n",
              " [0, 0, 0, 0, 0, ..., 0, 0, 0, 0, 0]\n",
              " Length: 26707\n",
              " Categories (2, int64): [0, 1],\n",
              " (26707, 80),\n",
              " (26707,))"
            ]
          },
          "metadata": {},
          "execution_count": 58
        }
      ]
    },
    {
      "cell_type": "code",
      "metadata": {
        "id": "86689242"
      },
      "source": [
        "from sklearn.model_selection import train_test_split\n",
        "\n",
        "Xtrain,Xtest,ytrain,ytest = train_test_split(X,y,test_size=0.2)"
      ],
      "id": "86689242",
      "execution_count": null,
      "outputs": []
    },
    {
      "cell_type": "code",
      "metadata": {
        "colab": {
          "base_uri": "https://localhost:8080/"
        },
        "id": "a9da8639",
        "outputId": "4ecfaae0-528c-417e-8be8-705ea70122f7"
      },
      "source": [
        "Xtrain.shape,Xtest.shape,ytrain.shape,ytest.shape"
      ],
      "id": "a9da8639",
      "execution_count": null,
      "outputs": [
        {
          "output_type": "execute_result",
          "data": {
            "text/plain": [
              "((21365, 80), (5342, 80), (21365,), (5342,))"
            ]
          },
          "metadata": {},
          "execution_count": 60
        }
      ]
    },
    {
      "cell_type": "code",
      "metadata": {
        "id": "9f047b3e"
      },
      "source": [
        "from sklearn.linear_model import LogisticRegression"
      ],
      "id": "9f047b3e",
      "execution_count": null,
      "outputs": []
    },
    {
      "cell_type": "code",
      "metadata": {
        "id": "Oq6XcO8D5DXJ"
      },
      "source": [
        "model = LogisticRegression()"
      ],
      "id": "Oq6XcO8D5DXJ",
      "execution_count": null,
      "outputs": []
    },
    {
      "cell_type": "code",
      "metadata": {
        "colab": {
          "base_uri": "https://localhost:8080/"
        },
        "id": "9PgIgnwt5Gip",
        "outputId": "b5ffe842-7472-4674-fa04-46889ed952d1"
      },
      "source": [
        "model"
      ],
      "id": "9PgIgnwt5Gip",
      "execution_count": null,
      "outputs": [
        {
          "output_type": "execute_result",
          "data": {
            "text/plain": [
              "LogisticRegression(C=1.0, class_weight=None, dual=False, fit_intercept=True,\n",
              "                   intercept_scaling=1, l1_ratio=None, max_iter=100,\n",
              "                   multi_class='auto', n_jobs=None, penalty='l2',\n",
              "                   random_state=None, solver='lbfgs', tol=0.0001, verbose=0,\n",
              "                   warm_start=False)"
            ]
          },
          "metadata": {},
          "execution_count": 63
        }
      ]
    },
    {
      "cell_type": "code",
      "metadata": {
        "colab": {
          "base_uri": "https://localhost:8080/"
        },
        "id": "YTtVktsr5JX8",
        "outputId": "3ca462ac-b0ac-4030-d1a0-fa7d84533eff"
      },
      "source": [
        "model.fit(Xtrain,ytrain)"
      ],
      "id": "YTtVktsr5JX8",
      "execution_count": null,
      "outputs": [
        {
          "output_type": "stream",
          "name": "stderr",
          "text": [
            "/usr/local/lib/python3.7/dist-packages/sklearn/linear_model/_logistic.py:940: ConvergenceWarning: lbfgs failed to converge (status=1):\n",
            "STOP: TOTAL NO. of ITERATIONS REACHED LIMIT.\n",
            "\n",
            "Increase the number of iterations (max_iter) or scale the data as shown in:\n",
            "    https://scikit-learn.org/stable/modules/preprocessing.html\n",
            "Please also refer to the documentation for alternative solver options:\n",
            "    https://scikit-learn.org/stable/modules/linear_model.html#logistic-regression\n",
            "  extra_warning_msg=_LOGISTIC_SOLVER_CONVERGENCE_MSG)\n"
          ]
        },
        {
          "output_type": "execute_result",
          "data": {
            "text/plain": [
              "LogisticRegression(C=1.0, class_weight=None, dual=False, fit_intercept=True,\n",
              "                   intercept_scaling=1, l1_ratio=None, max_iter=100,\n",
              "                   multi_class='auto', n_jobs=None, penalty='l2',\n",
              "                   random_state=None, solver='lbfgs', tol=0.0001, verbose=0,\n",
              "                   warm_start=False)"
            ]
          },
          "metadata": {},
          "execution_count": 64
        }
      ]
    },
    {
      "cell_type": "code",
      "metadata": {
        "id": "xaJowcvb5NYI"
      },
      "source": [
        "ypred=model.predict(Xtest)"
      ],
      "id": "xaJowcvb5NYI",
      "execution_count": null,
      "outputs": []
    },
    {
      "cell_type": "code",
      "metadata": {
        "colab": {
          "base_uri": "https://localhost:8080/"
        },
        "id": "guQgT7tI5QXE",
        "outputId": "efc5fa59-9da4-468a-f3ca-3102b88f095e"
      },
      "source": [
        "ytest"
      ],
      "id": "guQgT7tI5QXE",
      "execution_count": null,
      "outputs": [
        {
          "output_type": "execute_result",
          "data": {
            "text/plain": [
              "[1, 0, 0, 0, 0, ..., 0, 0, 0, 0, 0]\n",
              "Length: 5342\n",
              "Categories (2, int64): [0, 1]"
            ]
          },
          "metadata": {},
          "execution_count": 66
        }
      ]
    },
    {
      "cell_type": "code",
      "metadata": {
        "colab": {
          "base_uri": "https://localhost:8080/"
        },
        "id": "aZgdiEpi5SwR",
        "outputId": "c60c1a99-b96b-429f-a024-5c286b11a895"
      },
      "source": [
        "ypred"
      ],
      "id": "aZgdiEpi5SwR",
      "execution_count": null,
      "outputs": [
        {
          "output_type": "execute_result",
          "data": {
            "text/plain": [
              "array([0, 0, 1, ..., 0, 0, 0])"
            ]
          },
          "metadata": {},
          "execution_count": 67
        }
      ]
    },
    {
      "cell_type": "code",
      "metadata": {
        "id": "455b4226"
      },
      "source": [
        "from sklearn import model_selection \n",
        " \n",
        "from sklearn.metrics import classification_report \n",
        "from sklearn.metrics import confusion_matrix \n",
        "from sklearn.metrics import accuracy_score"
      ],
      "id": "455b4226",
      "execution_count": null,
      "outputs": []
    },
    {
      "cell_type": "code",
      "metadata": {
        "colab": {
          "base_uri": "https://localhost:8080/"
        },
        "id": "042224f5",
        "outputId": "d06e1983-a296-4869-e36f-ce61a19fe466"
      },
      "source": [
        "print(sklearn.metrics.accuracy_score(ytest,ypred))"
      ],
      "id": "042224f5",
      "execution_count": null,
      "outputs": [
        {
          "output_type": "stream",
          "name": "stdout",
          "text": [
            "0.8412579558217896\n"
          ]
        }
      ]
    },
    {
      "cell_type": "code",
      "metadata": {
        "colab": {
          "base_uri": "https://localhost:8080/"
        },
        "id": "PL8jfbVy5Z1U",
        "outputId": "6c0194ee-e131-44b5-86a3-e6bb498ac64b"
      },
      "source": [
        "print(sklearn.metrics.classification_report(ytest,ypred))"
      ],
      "id": "PL8jfbVy5Z1U",
      "execution_count": null,
      "outputs": [
        {
          "output_type": "stream",
          "name": "stdout",
          "text": [
            "              precision    recall  f1-score   support\n",
            "\n",
            "           0       0.86      0.95      0.90      4189\n",
            "           1       0.70      0.46      0.55      1153\n",
            "\n",
            "    accuracy                           0.84      5342\n",
            "   macro avg       0.78      0.70      0.73      5342\n",
            "weighted avg       0.83      0.84      0.83      5342\n",
            "\n"
          ]
        }
      ]
    },
    {
      "cell_type": "code",
      "metadata": {
        "colab": {
          "base_uri": "https://localhost:8080/"
        },
        "id": "_q7TQQXC5dem",
        "outputId": "e8f030b3-a941-480e-87fe-3b270f9b7446"
      },
      "source": [
        "print(sklearn.metrics.confusion_matrix(ytest,ypred))"
      ],
      "id": "_q7TQQXC5dem",
      "execution_count": null,
      "outputs": [
        {
          "output_type": "stream",
          "name": "stdout",
          "text": [
            "[[3968  221]\n",
            " [ 627  526]]\n"
          ]
        }
      ]
    },
    {
      "cell_type": "code",
      "metadata": {
        "colab": {
          "base_uri": "https://localhost:8080/"
        },
        "id": "LhgY0h3w5vLO",
        "outputId": "2b768eb4-35c0-4671-fe17-570c12d2a281"
      },
      "source": [
        "(3993+451) / (3993+212+676+451)"
      ],
      "id": "LhgY0h3w5vLO",
      "execution_count": null,
      "outputs": [
        {
          "output_type": "execute_result",
          "data": {
            "text/plain": [
              "0.8334583645911477"
            ]
          },
          "metadata": {},
          "execution_count": 72
        }
      ]
    },
    {
      "cell_type": "code",
      "metadata": {
        "colab": {
          "base_uri": "https://localhost:8080/"
        },
        "id": "ewd9cKZ46f_r",
        "outputId": "c569531c-1d8f-487f-bc07-d84bb8e9b4e5"
      },
      "source": [
        "model.coef_   #Weights or coefficient"
      ],
      "id": "ewd9cKZ46f_r",
      "execution_count": null,
      "outputs": [
        {
          "output_type": "execute_result",
          "data": {
            "text/plain": [
              "array([[ 0.11213873,  0.03504538,  0.05911011,  0.16128915,  0.02193965,\n",
              "        -0.14342905, -0.07032688,  0.02698029,  0.0575333 ,  0.07405833,\n",
              "         0.01344303, -0.04621883, -0.20498087, -0.10560449, -0.10949341,\n",
              "         0.05139956, -0.21210155,  0.04840321, -0.05371327, -0.10998506,\n",
              "        -0.17886086,  0.01516252, -0.08845569, -0.07524265,  0.01817193,\n",
              "        -0.18187027, -0.04938249, -0.11431584, -0.11351298, -0.05018536,\n",
              "        -1.09175106,  0.92805272,  0.15131806, -0.3150164 , -0.12467106,\n",
              "        -0.03902728, -0.18542437,  0.02172603, -0.48278997,  0.31909164,\n",
              "        -0.16188316, -0.00181517, -0.49523061, -0.69257105, -0.28227106,\n",
              "         0.25859141,  1.04778297, -0.76684119, -0.30356348, -0.07770985,\n",
              "         0.36941536,  0.61500083,  0.19576643, -0.03818458, -0.49204861,\n",
              "         0.08963033,  0.0811381 , -0.18321112, -0.32664401,  0.31895154,\n",
              "        -0.05007612,  0.07728138, -0.52004248, -0.11347828,  0.23852493,\n",
              "         0.07811175,  0.15318574,  0.19861394,  0.08091397, -0.39838054,\n",
              "         0.07968182, -0.12452752, -0.03536182,  0.0216905 , -0.02265543,\n",
              "        -0.12737159,  0.00346534,  0.04908803, -0.10249144, -0.11376027]])"
            ]
          },
          "metadata": {},
          "execution_count": 73
        }
      ]
    },
    {
      "cell_type": "code",
      "metadata": {
        "colab": {
          "base_uri": "https://localhost:8080/"
        },
        "id": "t5LJxfNo6qOX",
        "outputId": "c05a38ea-d3f9-402d-c5e3-c981d49740fb"
      },
      "source": [
        "model.intercept_"
      ],
      "id": "t5LJxfNo6qOX",
      "execution_count": null,
      "outputs": [
        {
          "output_type": "execute_result",
          "data": {
            "text/plain": [
              "array([-0.19105624])"
            ]
          },
          "metadata": {},
          "execution_count": 74
        }
      ]
    },
    {
      "cell_type": "code",
      "metadata": {
        "colab": {
          "base_uri": "https://localhost:8080/"
        },
        "id": "uXs3gu9I7QgE",
        "outputId": "efc2b648-0617-4244-ead9-f6e732b56359"
      },
      "source": [
        "Vaccinators = pd.DataFrame(ypred)\n",
        "Vaccinators.value_counts()"
      ],
      "id": "uXs3gu9I7QgE",
      "execution_count": null,
      "outputs": [
        {
          "output_type": "execute_result",
          "data": {
            "text/plain": [
              "0    4595\n",
              "1     747\n",
              "dtype: int64"
            ]
          },
          "metadata": {},
          "execution_count": 75
        }
      ]
    },
    {
      "cell_type": "code",
      "metadata": {
        "colab": {
          "base_uri": "https://localhost:8080/"
        },
        "id": "bzJOFl4HD270",
        "outputId": "0acd620b-24c7-4668-cfa8-e791bc7fb617"
      },
      "source": [
        "print('Default Logistic Regression Accuracy Training Score',model.score(Xtrain,ytrain))\n",
        "print('Default Logistic Regression Accuracy Test Score',model.score(Xtest,ytest))"
      ],
      "id": "bzJOFl4HD270",
      "execution_count": null,
      "outputs": [
        {
          "output_type": "stream",
          "name": "stdout",
          "text": [
            "Default Logistic Regression Accuracy Training Score 0.8355253919962555\n",
            "Default Logistic Regression Accuracy Test Score 0.8412579558217896\n"
          ]
        }
      ]
    },
    {
      "cell_type": "markdown",
      "metadata": {
        "id": "b480ef7f"
      },
      "source": [
        "# Logistic Regression using MLE"
      ],
      "id": "b480ef7f"
    },
    {
      "cell_type": "code",
      "metadata": {
        "id": "QrLM5eBH6JvO",
        "colab": {
          "base_uri": "https://localhost:8080/"
        },
        "outputId": "d0c9385d-13ba-4beb-a713-b5113f863d28"
      },
      "source": [
        "covid.shape  #Checking records and variables"
      ],
      "id": "QrLM5eBH6JvO",
      "execution_count": null,
      "outputs": [
        {
          "output_type": "execute_result",
          "data": {
            "text/plain": [
              "(26707, 81)"
            ]
          },
          "metadata": {},
          "execution_count": 77
        }
      ]
    },
    {
      "cell_type": "code",
      "metadata": {
        "id": "4bd0ffb8",
        "colab": {
          "base_uri": "https://localhost:8080/"
        },
        "outputId": "de4ac19e-37e4-44d4-8a79-5bac7c2fd731"
      },
      "source": [
        "import statsmodels.api as sm"
      ],
      "id": "4bd0ffb8",
      "execution_count": null,
      "outputs": [
        {
          "output_type": "stream",
          "name": "stderr",
          "text": [
            "/usr/local/lib/python3.7/dist-packages/statsmodels/tools/_testing.py:19: FutureWarning: pandas.util.testing is deprecated. Use the functions in the public API at pandas.testing instead.\n",
            "  import pandas.util.testing as tm\n"
          ]
        }
      ]
    },
    {
      "cell_type": "code",
      "metadata": {
        "id": "FiizfPDU9oL-"
      },
      "source": [
        "from statsmodels.formula.api import logit  #We want to use Logistic Regression in StatsModels"
      ],
      "id": "FiizfPDU9oL-",
      "execution_count": null,
      "outputs": []
    },
    {
      "cell_type": "code",
      "metadata": {
        "id": "312ed585"
      },
      "source": [
        "covid_float = covid.astype('float')  #statsmodels require dataset to have float values"
      ],
      "id": "312ed585",
      "execution_count": null,
      "outputs": []
    },
    {
      "cell_type": "code",
      "metadata": {
        "id": "cigADa_8th5A"
      },
      "source": [
        "X =covid_float.iloc[:,:-1]\n",
        "\n",
        "y = covid_float.iloc[:,-1]"
      ],
      "id": "cigADa_8th5A",
      "execution_count": null,
      "outputs": []
    },
    {
      "cell_type": "code",
      "metadata": {
        "id": "f6da5302",
        "colab": {
          "base_uri": "https://localhost:8080/"
        },
        "outputId": "b6079041-ad8d-4f87-9867-34c2c2968778"
      },
      "source": [
        "mle_model = logit(\"y~X\",covid_float,).fit()"
      ],
      "id": "f6da5302",
      "execution_count": null,
      "outputs": [
        {
          "output_type": "stream",
          "name": "stdout",
          "text": [
            "Warning: Maximum number of iterations has been exceeded.\n",
            "         Current function value: 0.382266\n",
            "         Iterations: 35\n"
          ]
        },
        {
          "output_type": "stream",
          "name": "stderr",
          "text": [
            "/usr/local/lib/python3.7/dist-packages/statsmodels/base/model.py:512: ConvergenceWarning: Maximum Likelihood optimization failed to converge. Check mle_retvals\n",
            "  \"Check mle_retvals\", ConvergenceWarning)\n"
          ]
        }
      ]
    },
    {
      "cell_type": "code",
      "metadata": {
        "id": "d90ae315",
        "colab": {
          "base_uri": "https://localhost:8080/"
        },
        "outputId": "df462092-c3ef-403b-9b00-3713d47c01b1"
      },
      "source": [
        "print(mle_model.summary())"
      ],
      "id": "d90ae315",
      "execution_count": null,
      "outputs": [
        {
          "output_type": "stream",
          "name": "stdout",
          "text": [
            "                           Logit Regression Results                           \n",
            "==============================================================================\n",
            "Dep. Variable:                      y   No. Observations:                26707\n",
            "Model:                          Logit   Df Residuals:                    26649\n",
            "Method:                           MLE   Df Model:                           57\n",
            "Date:                Wed, 29 Sep 2021   Pseudo R-squ.:                  0.2609\n",
            "Time:                        14:19:08   Log-Likelihood:                -10209.\n",
            "converged:                      False   LL-Null:                       -13813.\n",
            "Covariance Type:            nonrobust   LLR p-value:                     0.000\n",
            "==============================================================================\n",
            "                 coef    std err          z      P>|z|      [0.025      0.975]\n",
            "------------------------------------------------------------------------------\n",
            "Intercept     -0.1726        nan        nan        nan         nan         nan\n",
            "X[0]           0.1107      0.017      6.708      0.000       0.078       0.143\n",
            "X[1]           0.0232      0.018      1.320      0.187      -0.011       0.058\n",
            "X[2]           0.0664      0.022      3.002      0.003       0.023       0.110\n",
            "X[3]           0.1639      0.038      4.326      0.000       0.090       0.238\n",
            "X[4]           0.0060      0.028      0.216      0.829      -0.049       0.061\n",
            "X[5]          -0.1435      0.050     -2.881      0.004      -0.241      -0.046\n",
            "X[6]          -0.0601      0.049     -1.226      0.220      -0.156       0.036\n",
            "X[7]           0.0312      0.034      0.932      0.351      -0.034       0.097\n",
            "X[8]           0.0382      0.022      1.754      0.079      -0.004       0.081\n",
            "X[9]           0.1049   4.13e+05   2.54e-07      1.000   -8.09e+05    8.09e+05\n",
            "X[10]          0.0214   4.08e+05   5.23e-08      1.000      -8e+05       8e+05\n",
            "X[11]         -0.0703    4.9e+05  -1.43e-07      1.000   -9.61e+05    9.61e+05\n",
            "X[12]         -0.2285      3e+05  -7.62e-07      1.000   -5.88e+05    5.88e+05\n",
            "X[13]         -0.1305   8.88e+04  -1.47e-06      1.000   -1.74e+05    1.74e+05\n",
            "X[14]         -0.1018   2.44e+05  -4.18e-07      1.000   -4.77e+05    4.77e+05\n",
            "X[15]          0.0597        nan        nan        nan         nan         nan\n",
            "X[16]         -0.1891   7.12e+05  -2.66e-07      1.000   -1.39e+06    1.39e+06\n",
            "X[17]          0.0164   8.07e+05   2.04e-08      1.000   -1.58e+06    1.58e+06\n",
            "X[18]         -0.0640        nan        nan        nan         nan         nan\n",
            "X[19]         -0.1086        nan        nan        nan         nan         nan\n",
            "X[20]         -0.1906   6.76e+05  -2.82e-07      1.000   -1.32e+06    1.32e+06\n",
            "X[21]          0.0179   6.27e+05   2.86e-08      1.000   -1.23e+06    1.23e+06\n",
            "X[22]         -0.1020        nan        nan        nan         nan         nan\n",
            "X[23]         -0.0706        nan        nan        nan         nan         nan\n",
            "X[24]          0.0142    2.2e+06   6.46e-09      1.000   -4.31e+06    4.31e+06\n",
            "X[25]         -0.1869   2.22e+06  -8.42e-08      1.000   -4.35e+06    4.35e+06\n",
            "X[26]         -0.0645        nan        nan        nan         nan         nan\n",
            "X[27]         -0.1082        nan        nan        nan         nan         nan\n",
            "X[28]         -0.1113        nan        nan        nan         nan         nan\n",
            "X[29]         -0.0613        nan        nan        nan         nan         nan\n",
            "X[30]         -1.0919   2.97e+06  -3.68e-07      1.000   -5.82e+06    5.82e+06\n",
            "X[31]          0.9193   2.95e+06   3.11e-07      1.000   -5.79e+06    5.79e+06\n",
            "X[32]          0.1440   2.74e+06   5.25e-08      1.000   -5.38e+06    5.38e+06\n",
            "X[33]         -0.3166   2.59e+06  -1.22e-07      1.000   -5.08e+06    5.08e+06\n",
            "X[34]         -0.1267        nan        nan        nan         nan         nan\n",
            "X[35]         -0.0460        nan        nan        nan         nan         nan\n",
            "X[36]         -0.2137   1.13e+06   -1.9e-07      1.000   -2.21e+06    2.21e+06\n",
            "X[37]          0.0411    1.1e+06   3.74e-08      1.000   -2.15e+06    2.15e+06\n",
            "X[38]         -0.4933   1.26e+06  -3.91e-07      1.000   -2.47e+06    2.47e+06\n",
            "X[39]          0.3207   1.25e+06   2.57e-07      1.000   -2.45e+06    2.45e+06\n",
            "X[40]         -0.1873   1.91e+04  -9.82e-06      1.000   -3.74e+04    3.74e+04\n",
            "X[41]          0.0146   6.92e+04   2.12e-07      1.000   -1.36e+05    1.36e+05\n",
            "X[42]         -0.5981   1.98e+06  -3.02e-07      1.000   -3.89e+06    3.89e+06\n",
            "X[43]         -0.7278   2.02e+06  -3.61e-07      1.000   -3.95e+06    3.95e+06\n",
            "X[44]         -0.2283   2.01e+06  -1.13e-07      1.000   -3.95e+06    3.95e+06\n",
            "X[45]          0.2811   1.97e+06   1.43e-07      1.000   -3.86e+06    3.86e+06\n",
            "X[46]          1.1005   1.98e+06   5.57e-07      1.000   -3.87e+06    3.87e+06\n",
            "X[47]         -0.8078        nan        nan        nan         nan         nan\n",
            "X[48]         -0.3057        nan        nan        nan         nan         nan\n",
            "X[49]         -0.0470        nan        nan        nan         nan         nan\n",
            "X[50]          0.3598        nan        nan        nan         nan         nan\n",
            "X[51]          0.6281        nan        nan        nan         nan         nan\n",
            "X[52]          0.1993    2.4e+06    8.3e-08      1.000   -4.71e+06    4.71e+06\n",
            "X[53]         -0.0720   2.42e+06  -2.98e-08      1.000   -4.74e+06    4.74e+06\n",
            "X[54]         -0.5418    2.4e+06  -2.26e-07      1.000   -4.71e+06    4.71e+06\n",
            "X[55]          0.1170   2.44e+06   4.79e-08      1.000   -4.78e+06    4.78e+06\n",
            "X[56]          0.1249   2.41e+06   5.18e-08      1.000   -4.73e+06    4.73e+06\n",
            "X[57]         -0.2389        nan        nan        nan         nan         nan\n",
            "X[58]         -0.2964        nan        nan        nan         nan         nan\n",
            "X[59]          0.3222        nan        nan        nan         nan         nan\n",
            "X[60]         -0.0277        nan        nan        nan         nan         nan\n",
            "X[61]          0.0681        nan        nan        nan         nan         nan\n",
            "X[62]         -0.5354   1.81e+06  -2.96e-07      1.000   -3.55e+06    3.55e+06\n",
            "X[63]         -0.1167   1.83e+06  -6.36e-08      1.000    -3.6e+06     3.6e+06\n",
            "X[64]          0.2275   1.78e+06   1.28e-07      1.000   -3.49e+06    3.49e+06\n",
            "X[65]          0.0903   1.83e+06   4.93e-08      1.000   -3.59e+06    3.59e+06\n",
            "X[66]          0.1617   1.85e+06   8.76e-08      1.000   -3.62e+06    3.62e+06\n",
            "X[67]          0.2443        nan        nan        nan         nan         nan\n",
            "X[68]          0.1189        nan        nan        nan         nan         nan\n",
            "X[69]         -0.4454        nan        nan        nan         nan         nan\n",
            "X[70]          0.0643        nan        nan        nan         nan         nan\n",
            "X[71]         -0.1548        nan        nan        nan         nan         nan\n",
            "X[72]         -0.0355   2.66e+06  -1.34e-08      1.000   -5.21e+06    5.21e+06\n",
            "X[73]         -0.0042   2.65e+06  -1.59e-09      1.000   -5.19e+06    5.19e+06\n",
            "X[74]         -0.0512   2.63e+06  -1.94e-08      1.000   -5.16e+06    5.16e+06\n",
            "X[75]         -0.0817   2.64e+06  -3.09e-08      1.000   -5.18e+06    5.18e+06\n",
            "X[76]          0.0049        nan        nan        nan         nan         nan\n",
            "X[77]          0.0177        nan        nan        nan         nan         nan\n",
            "X[78]         -0.0832        nan        nan        nan         nan         nan\n",
            "X[79]         -0.1120        nan        nan        nan         nan         nan\n",
            "==============================================================================\n"
          ]
        },
        {
          "output_type": "stream",
          "name": "stderr",
          "text": [
            "/usr/local/lib/python3.7/dist-packages/statsmodels/base/model.py:1286: RuntimeWarning: invalid value encountered in sqrt\n",
            "  bse_ = np.sqrt(np.diag(self.cov_params()))\n"
          ]
        }
      ]
    },
    {
      "cell_type": "code",
      "metadata": {
        "colab": {
          "base_uri": "https://localhost:8080/"
        },
        "id": "2ppiKDl1GbJV",
        "outputId": "85ecc6f7-2f7a-43ef-878e-f3b19cd3198c"
      },
      "source": [
        "print(mle_model.summary2())"
      ],
      "id": "2ppiKDl1GbJV",
      "execution_count": null,
      "outputs": [
        {
          "output_type": "stream",
          "name": "stdout",
          "text": [
            "                             Results: Logit\n",
            "========================================================================\n",
            "Model:                 Logit              Pseudo R-squared:   0.261     \n",
            "Dependent Variable:    y                  AIC:                20534.3752\n",
            "Date:                  2021-09-29 14:19   BIC:                21009.5507\n",
            "No. Observations:      26707              Log-Likelihood:     -10209.   \n",
            "Df Model:              57                 LL-Null:            -13813.   \n",
            "Df Residuals:          26649              LLR p-value:        0.0000    \n",
            "Converged:             0.0000             Scale:              1.0000    \n",
            "No. Iterations:        35.0000                                          \n",
            "------------------------------------------------------------------------\n",
            "           Coef.    Std.Err.      z    P>|z|      [0.025       0.975]   \n",
            "------------------------------------------------------------------------\n",
            "Intercept -0.1726          nan     nan    nan           nan          nan\n",
            "X[0]       0.1107       0.0165  6.7083 0.0000        0.0783       0.1430\n",
            "X[1]       0.0232       0.0175  1.3200 0.1868       -0.0112       0.0575\n",
            "X[2]       0.0664       0.0221  3.0018 0.0027        0.0231       0.1098\n",
            "X[3]       0.1639       0.0379  4.3262 0.0000        0.0897       0.2382\n",
            "X[4]       0.0060       0.0280  0.2161 0.8289       -0.0488       0.0609\n",
            "X[5]      -0.1435       0.0498 -2.8808 0.0040       -0.2411      -0.0459\n",
            "X[6]      -0.0601       0.0490 -1.2265 0.2200       -0.1561       0.0359\n",
            "X[7]       0.0312       0.0335  0.9320 0.3513       -0.0344       0.0969\n",
            "X[8]       0.0382       0.0218  1.7537 0.0795       -0.0045       0.0808\n",
            "X[9]       0.1049  412747.4899  0.0000 1.0000  -808970.1101  808970.3199\n",
            "X[10]      0.0214  408260.8537  0.0000 1.0000  -800176.5482  800176.5909\n",
            "X[11]     -0.0703  490270.1019 -0.0000 1.0000  -960911.8128  960911.6721\n",
            "X[12]     -0.2285  299821.3758 -0.0000 1.0000  -587639.3268  587638.8698\n",
            "X[13]     -0.1305   88799.6752 -0.0000 1.0000  -174044.2958  174044.0347\n",
            "X[14]     -0.1018  243549.0292 -0.0000 1.0000  -477347.4276  477347.2240\n",
            "X[15]      0.0597          nan     nan    nan           nan          nan\n",
            "X[16]     -0.1891  711609.9123 -0.0000 1.0000 -1394729.9882 1394729.6101\n",
            "X[17]      0.0164  807281.1096  0.0000 1.0000 -1582241.8838 1582241.9167\n",
            "X[18]     -0.0640          nan     nan    nan           nan          nan\n",
            "X[19]     -0.1086          nan     nan    nan           nan          nan\n",
            "X[20]     -0.1906  675766.7503 -0.0000 1.0000 -1324478.6831 1324478.3020\n",
            "X[21]      0.0179  627479.2287  0.0000 1.0000 -1229836.6713 1229836.7071\n",
            "X[22]     -0.1020          nan     nan    nan           nan          nan\n",
            "X[23]     -0.0706          nan     nan    nan           nan          nan\n",
            "X[24]      0.0142 2201330.3288  0.0000 1.0000 -4314528.1482 4314528.1767\n",
            "X[25]     -0.1869 2217976.3208 -0.0000 1.0000 -4347153.8941 4347153.5204\n",
            "X[26]     -0.0645          nan     nan    nan           nan          nan\n",
            "X[27]     -0.1082          nan     nan    nan           nan          nan\n",
            "X[28]     -0.1113          nan     nan    nan           nan          nan\n",
            "X[29]     -0.0613          nan     nan    nan           nan          nan\n",
            "X[30]     -1.0919 2969300.0957 -0.0000 1.0000 -5819722.3388 5819720.1550\n",
            "X[31]      0.9193 2954286.7428  0.0000 1.0000 -5790294.6966 5790296.5351\n",
            "X[32]      0.1440 2742690.9954  0.0000 1.0000 -5375575.4277 5375575.7156\n",
            "X[33]     -0.3166 2594081.4487 -0.0000 1.0000 -5084306.5290 5084305.8959\n",
            "X[34]     -0.1267          nan     nan    nan           nan          nan\n",
            "X[35]     -0.0460          nan     nan    nan           nan          nan\n",
            "X[36]     -0.2137 1126519.0399 -0.0000 1.0000 -2207936.9599 2207936.5324\n",
            "X[37]      0.0411 1098375.8003  0.0000 1.0000 -2152776.9689 2152777.0511\n",
            "X[38]     -0.4933 1260430.3443 -0.0000 1.0000 -2470398.5732 2470397.5866\n",
            "X[39]      0.3207 1249012.2046  0.0000 1.0000 -2448018.6166 2448019.2580\n",
            "X[40]     -0.1873   19063.2379 -0.0000 1.0000   -37363.4469   37363.0724\n",
            "X[41]      0.0146   69171.1843  0.0000 1.0000  -135573.0154  135573.0446\n",
            "X[42]     -0.5981 1983477.8507 -0.0000 1.0000 -3887545.7497 3887544.5535\n",
            "X[43]     -0.7278 2015954.3264 -0.0000 1.0000 -3951198.6021 3951197.1465\n",
            "X[44]     -0.2283 2013222.9257 -0.0000 1.0000 -3945844.6556 3945844.1990\n",
            "X[45]      0.2811 1970042.8018  0.0000 1.0000 -3861212.6585 3861213.2206\n",
            "X[46]      1.1005 1975795.3104  0.0000 1.0000 -3872486.5487 3872488.7497\n",
            "X[47]     -0.8078          nan     nan    nan           nan          nan\n",
            "X[48]     -0.3057          nan     nan    nan           nan          nan\n",
            "X[49]     -0.0470          nan     nan    nan           nan          nan\n",
            "X[50]      0.3598          nan     nan    nan           nan          nan\n",
            "X[51]      0.6281          nan     nan    nan           nan          nan\n",
            "X[52]      0.1993 2401119.4824  0.0000 1.0000 -4706107.5088 4706107.9074\n",
            "X[53]     -0.0720 2419583.3946 -0.0000 1.0000 -4742296.3831 4742296.2390\n",
            "X[54]     -0.5418 2400576.5131 -0.0000 1.0000 -4705044.0496 4705042.9661\n",
            "X[55]      0.1170 2439552.5336  0.0000 1.0000 -4781434.9872 4781435.2211\n",
            "X[56]      0.1249 2412385.3411  0.0000 1.0000 -4728188.2604 4728188.5102\n",
            "X[57]     -0.2389          nan     nan    nan           nan          nan\n",
            "X[58]     -0.2964          nan     nan    nan           nan          nan\n",
            "X[59]      0.3222          nan     nan    nan           nan          nan\n",
            "X[60]     -0.0277          nan     nan    nan           nan          nan\n",
            "X[61]      0.0681          nan     nan    nan           nan          nan\n",
            "X[62]     -0.5354 1809014.0649 -0.0000 1.0000 -3545602.9501 3545601.8794\n",
            "X[63]     -0.1167 1834475.8493 -0.0000 1.0000 -3595506.7117 3595506.4784\n",
            "X[64]      0.2275 1781995.3536  0.0000 1.0000 -3492646.4863 3492646.9412\n",
            "X[65]      0.0903 1830921.5936  0.0000 1.0000 -3588540.2917 3588540.4722\n",
            "X[66]      0.1617 1845568.9900  0.0000 1.0000 -3617248.5896 3617248.9130\n",
            "X[67]      0.2443          nan     nan    nan           nan          nan\n",
            "X[68]      0.1189          nan     nan    nan           nan          nan\n",
            "X[69]     -0.4454          nan     nan    nan           nan          nan\n",
            "X[70]      0.0643          nan     nan    nan           nan          nan\n",
            "X[71]     -0.1548          nan     nan    nan           nan          nan\n",
            "X[72]     -0.0355 2659116.7675 -0.0000 1.0000 -5211773.1304 5211773.0593\n",
            "X[73]     -0.0042 2645552.2217 -0.0000 1.0000 -5185187.0779 5185187.0695\n",
            "X[74]     -0.0512 2632585.8216 -0.0000 1.0000 -5159773.4478 5159773.3454\n",
            "X[75]     -0.0817 2641884.8695 -0.0000 1.0000 -5177999.2772 5177999.1138\n",
            "X[76]      0.0049          nan     nan    nan           nan          nan\n",
            "X[77]      0.0177          nan     nan    nan           nan          nan\n",
            "X[78]     -0.0832          nan     nan    nan           nan          nan\n",
            "X[79]     -0.1120          nan     nan    nan           nan          nan\n",
            "========================================================================\n",
            "\n"
          ]
        }
      ]
    },
    {
      "cell_type": "code",
      "metadata": {
        "id": "548bb47d",
        "colab": {
          "base_uri": "https://localhost:8080/"
        },
        "outputId": "55dcf288-0c6a-4ed7-ed78-ab363e051d42"
      },
      "source": [
        "mle_model.pred_table()    #Build Confusion Matrix"
      ],
      "id": "548bb47d",
      "execution_count": null,
      "outputs": [
        {
          "output_type": "execute_result",
          "data": {
            "text/plain": [
              "array([[19942.,  1091.],\n",
              "       [ 3276.,  2398.]])"
            ]
          },
          "metadata": {},
          "execution_count": 85
        }
      ]
    },
    {
      "cell_type": "code",
      "metadata": {
        "colab": {
          "base_uri": "https://localhost:8080/"
        },
        "id": "M4eHn0Z3vP56",
        "outputId": "d14990b2-62bb-43b1-c679-8112ec7c3856"
      },
      "source": [
        "mle_model.aic"
      ],
      "id": "M4eHn0Z3vP56",
      "execution_count": null,
      "outputs": [
        {
          "output_type": "execute_result",
          "data": {
            "text/plain": [
              "20534.375217681893"
            ]
          },
          "metadata": {},
          "execution_count": 86
        }
      ]
    },
    {
      "cell_type": "code",
      "metadata": {
        "id": "dbeee852",
        "colab": {
          "base_uri": "https://localhost:8080/"
        },
        "outputId": "23185999-b3d9-435f-8fa4-09291c51208e"
      },
      "source": [
        "accuracy = (19942+2398)/(19942+1091+3276+2398)\n",
        "accuracy"
      ],
      "id": "dbeee852",
      "execution_count": null,
      "outputs": [
        {
          "output_type": "execute_result",
          "data": {
            "text/plain": [
              "0.836484816714719"
            ]
          },
          "metadata": {},
          "execution_count": 87
        }
      ]
    },
    {
      "cell_type": "markdown",
      "metadata": {
        "id": "d5adb978"
      },
      "source": [
        "# Logistic Regression using SGD Model"
      ],
      "id": "d5adb978"
    },
    {
      "cell_type": "code",
      "metadata": {
        "id": "415b17ea",
        "colab": {
          "base_uri": "https://localhost:8080/"
        },
        "outputId": "ca580646-c6d3-4ee2-e37c-363e040b9c9d"
      },
      "source": [
        "from sklearn.linear_model import SGDClassifier\n",
        "sgd_classifier = SGDClassifier()\n",
        "sgd_classifier"
      ],
      "id": "415b17ea",
      "execution_count": null,
      "outputs": [
        {
          "output_type": "execute_result",
          "data": {
            "text/plain": [
              "SGDClassifier(alpha=0.0001, average=False, class_weight=None,\n",
              "              early_stopping=False, epsilon=0.1, eta0=0.0, fit_intercept=True,\n",
              "              l1_ratio=0.15, learning_rate='optimal', loss='hinge',\n",
              "              max_iter=1000, n_iter_no_change=5, n_jobs=None, penalty='l2',\n",
              "              power_t=0.5, random_state=None, shuffle=True, tol=0.001,\n",
              "              validation_fraction=0.1, verbose=0, warm_start=False)"
            ]
          },
          "metadata": {},
          "execution_count": 88
        }
      ]
    },
    {
      "cell_type": "markdown",
      "metadata": {
        "id": "rDPCGL_KSZKX"
      },
      "source": [
        "SGDClassifier(def __init__(loss='hinge', penalty='l2', \n",
        "alpha=0.0001, \n",
        "l1_ratio=0.15, \n",
        "fit_intercept=True, \n",
        "max_iter=1000, \n",
        "tol=0.001, \n",
        "shuffle=True, \n",
        "verbose=0, \n",
        "epsilon=DEFAULT_EPSILON, \n",
        "n_jobs=None, \n",
        "random_state=None, \n",
        "learning_rate='optimal', \n",
        "eta0=0.0, \n",
        "power_t=0.5, \n",
        "early_stopping=False, \n",
        "validation_fraction=0.1, \n",
        "n_iter_no_change=5, class_weight=None, warm_start=False, average=False))"
      ],
      "id": "rDPCGL_KSZKX"
    },
    {
      "cell_type": "code",
      "metadata": {
        "id": "0ba145db"
      },
      "source": [
        "sgd_clf = SGDClassifier(loss='hinge',\n",
        "                       penalty='l2',\n",
        "                       max_iter=1000)"
      ],
      "id": "0ba145db",
      "execution_count": null,
      "outputs": []
    },
    {
      "cell_type": "code",
      "metadata": {
        "id": "0eba15ff",
        "colab": {
          "base_uri": "https://localhost:8080/"
        },
        "outputId": "f43897ff-ad75-47c8-c79d-17fa0df46a37"
      },
      "source": [
        "sgd_clf"
      ],
      "id": "0eba15ff",
      "execution_count": null,
      "outputs": [
        {
          "output_type": "execute_result",
          "data": {
            "text/plain": [
              "SGDClassifier(alpha=0.0001, average=False, class_weight=None,\n",
              "              early_stopping=False, epsilon=0.1, eta0=0.0, fit_intercept=True,\n",
              "              l1_ratio=0.15, learning_rate='optimal', loss='hinge',\n",
              "              max_iter=1000, n_iter_no_change=5, n_jobs=None, penalty='l2',\n",
              "              power_t=0.5, random_state=None, shuffle=True, tol=0.001,\n",
              "              validation_fraction=0.1, verbose=0, warm_start=False)"
            ]
          },
          "metadata": {},
          "execution_count": 90
        }
      ]
    },
    {
      "cell_type": "code",
      "metadata": {
        "id": "e35dc16e",
        "colab": {
          "base_uri": "https://localhost:8080/"
        },
        "outputId": "f06cd3e1-f3e0-44a3-cc14-222fb266baf5"
      },
      "source": [
        "sgd_clf.fit(Xtrain,ytrain)"
      ],
      "id": "e35dc16e",
      "execution_count": null,
      "outputs": [
        {
          "output_type": "execute_result",
          "data": {
            "text/plain": [
              "SGDClassifier(alpha=0.0001, average=False, class_weight=None,\n",
              "              early_stopping=False, epsilon=0.1, eta0=0.0, fit_intercept=True,\n",
              "              l1_ratio=0.15, learning_rate='optimal', loss='hinge',\n",
              "              max_iter=1000, n_iter_no_change=5, n_jobs=None, penalty='l2',\n",
              "              power_t=0.5, random_state=None, shuffle=True, tol=0.001,\n",
              "              validation_fraction=0.1, verbose=0, warm_start=False)"
            ]
          },
          "metadata": {},
          "execution_count": 91
        }
      ]
    },
    {
      "cell_type": "code",
      "metadata": {
        "colab": {
          "base_uri": "https://localhost:8080/"
        },
        "id": "JlX4WgeCCS7W",
        "outputId": "2c5ca55b-a05e-411f-fe33-f1c8761094f7"
      },
      "source": [
        "print('Training Accuracy Score',sgd_clf.score(Xtrain,ytrain))\n",
        "print('Validation Accuracy Score',sgd_clf.score(Xtest,ytest))"
      ],
      "id": "JlX4WgeCCS7W",
      "execution_count": null,
      "outputs": [
        {
          "output_type": "stream",
          "name": "stdout",
          "text": [
            "Training Accuracy Score 0.8310788673063422\n",
            "Validation Accuracy Score 0.8339573193560464\n"
          ]
        }
      ]
    },
    {
      "cell_type": "code",
      "metadata": {
        "id": "fa70e372",
        "colab": {
          "base_uri": "https://localhost:8080/"
        },
        "outputId": "27436a15-541b-43b6-e204-38e127b3c30b"
      },
      "source": [
        "sgd_clf.predict(Xtest)"
      ],
      "id": "fa70e372",
      "execution_count": null,
      "outputs": [
        {
          "output_type": "execute_result",
          "data": {
            "text/plain": [
              "array([0, 0, 0, ..., 0, 0, 0])"
            ]
          },
          "metadata": {},
          "execution_count": 93
        }
      ]
    },
    {
      "cell_type": "code",
      "metadata": {
        "id": "9c422485",
        "colab": {
          "base_uri": "https://localhost:8080/"
        },
        "outputId": "4bad7c8d-f70f-426c-c30d-24530cc8e00a"
      },
      "source": [
        "sgd_clf.coef_"
      ],
      "id": "9c422485",
      "execution_count": null,
      "outputs": [
        {
          "output_type": "execute_result",
          "data": {
            "text/plain": [
              "array([[ 7.79585767e-02, -7.79585767e-02,  1.75406798e-01,\n",
              "         7.14620287e-02, -3.24827403e-02, -1.81903346e-01,\n",
              "        -1.36427509e-01, -7.14620287e-02,  1.10441317e-01,\n",
              "         2.66358470e-01,  1.55917153e-01,  1.42924057e-01,\n",
              "        -2.59861922e-02,  6.49654806e-02,  1.94896442e-01,\n",
              "         2.79351567e-01,  1.10441317e-01,  4.28772172e-01,\n",
              "         3.11834307e-01,  2.27379182e-01,  2.07889538e-01,\n",
              "         3.31323951e-01,  4.02785980e-01,  1.36427509e-01,\n",
              "         3.83296335e-01,  1.55917153e-01,  3.18330855e-01,\n",
              "         2.20882634e-01,  2.07889538e-01,  3.31323951e-01,\n",
              "        -5.00234201e-01,  1.03944769e+00,  4.02785980e-01,\n",
              "         1.36427509e-01,  2.01392990e-01,  3.37820499e-01,\n",
              "         1.49420605e-01,  3.89792884e-01, -1.94896442e-02,\n",
              "         5.58703133e-01,  2.27379182e-01,  3.11834307e-01,\n",
              "        -1.42924057e-01, -3.44317047e-01, -6.49654806e-03,\n",
              "         2.20882634e-01,  8.12068507e-01, -3.96289432e-01,\n",
              "        -1.03944769e-01,  4.54758364e-02,  3.76799787e-01,\n",
              "         6.17172066e-01,  2.40372278e-01, -1.29930961e-02,\n",
              "        -3.24827403e-02,  1.75406798e-01,  1.68910250e-01,\n",
              "        -2.59861922e-02, -7.79585767e-02,  3.96289432e-01,\n",
              "         9.09516728e-02,  1.55917153e-01, -2.59861922e-01,\n",
              "        -6.49654806e-03,  2.59861922e-01,  2.33875730e-01,\n",
              "         3.11834307e-01,  2.33875730e-01,  1.29930961e-01,\n",
              "        -1.03944769e-01,  1.88399894e-01,  9.09516728e-02,\n",
              "         1.36427509e-01,  1.29930961e-01,  2.07889538e-01,\n",
              "         6.49654806e-02,  1.88399894e-01,  2.14386086e-01,\n",
              "         1.36427509e-01,  8.47355583e-16]])"
            ]
          },
          "metadata": {},
          "execution_count": 94
        }
      ]
    },
    {
      "cell_type": "code",
      "metadata": {
        "id": "a61cd0b5",
        "colab": {
          "base_uri": "https://localhost:8080/"
        },
        "outputId": "cb84e026-d937-41e9-f3e5-bc6535e96166"
      },
      "source": [
        "sgd_clf.intercept_"
      ],
      "id": "a61cd0b5",
      "execution_count": null,
      "outputs": [
        {
          "output_type": "execute_result",
          "data": {
            "text/plain": [
              "array([-6.02945491])"
            ]
          },
          "metadata": {},
          "execution_count": 95
        }
      ]
    },
    {
      "cell_type": "code",
      "metadata": {
        "id": "65127168",
        "colab": {
          "base_uri": "https://localhost:8080/"
        },
        "outputId": "17306e9d-19da-4bad-f98c-2783d9bc4ac5"
      },
      "source": [
        "sgd_clf.decision_function(Xtest)"
      ],
      "id": "65127168",
      "execution_count": null,
      "outputs": [
        {
          "output_type": "execute_result",
          "data": {
            "text/plain": [
              "array([-1.46887817, -2.74869814, -0.24752714, ..., -2.13152608,\n",
              "       -2.65774647, -2.30693287])"
            ]
          },
          "metadata": {},
          "execution_count": 96
        }
      ]
    },
    {
      "cell_type": "code",
      "metadata": {
        "colab": {
          "base_uri": "https://localhost:8080/"
        },
        "id": "4W2xXCiHFHc2",
        "outputId": "2f7ef7b8-9559-4bd1-cb89-1ac9b4d796cb"
      },
      "source": [
        "sgd_clf = SGDClassifier(alpha=0.0001, average=False, class_weight=None,\n",
        "              early_stopping=False, epsilon=0.1, eta0=0.0, fit_intercept=True,\n",
        "              l1_ratio=0.15, learning_rate='optimal', loss='log',\n",
        "              max_iter=5, n_iter_no_change=5, n_jobs=None, penalty='l2',\n",
        "              power_t=0.5, random_state=None, shuffle=True, tol=0.001,\n",
        "              validation_fraction=0.1, verbose=0, warm_start=False).fit(Xtrain,ytrain)"
      ],
      "id": "4W2xXCiHFHc2",
      "execution_count": null,
      "outputs": [
        {
          "output_type": "stream",
          "name": "stderr",
          "text": [
            "/usr/local/lib/python3.7/dist-packages/sklearn/linear_model/_stochastic_gradient.py:557: ConvergenceWarning: Maximum number of iteration reached before convergence. Consider increasing max_iter to improve the fit.\n",
            "  ConvergenceWarning)\n"
          ]
        }
      ]
    },
    {
      "cell_type": "code",
      "metadata": {
        "id": "b6dae5e0"
      },
      "source": [
        "#sgd_clf = SGDClassifier(loss='log',\n",
        "#                       max_iter=5).fit(Xtrain,ytrain)"
      ],
      "id": "b6dae5e0",
      "execution_count": null,
      "outputs": []
    },
    {
      "cell_type": "code",
      "metadata": {
        "colab": {
          "base_uri": "https://localhost:8080/"
        },
        "id": "a_hwuHVFTlmP",
        "outputId": "f8f173e6-fbe7-4dbe-c26f-79c4de99519a"
      },
      "source": [
        "sgd_clf.predict_proba(Xtest)"
      ],
      "id": "a_hwuHVFTlmP",
      "execution_count": null,
      "outputs": [
        {
          "output_type": "execute_result",
          "data": {
            "text/plain": [
              "array([[9.94134537e-01, 5.86546327e-03],\n",
              "       [9.99936980e-01, 6.30199570e-05],\n",
              "       [9.83866558e-01, 1.61334422e-02],\n",
              "       ...,\n",
              "       [9.99249643e-01, 7.50356945e-04],\n",
              "       [9.99187253e-01, 8.12747160e-04],\n",
              "       [9.99805723e-01, 1.94276696e-04]])"
            ]
          },
          "metadata": {},
          "execution_count": 99
        }
      ]
    },
    {
      "cell_type": "code",
      "metadata": {
        "id": "c0d7c51f",
        "colab": {
          "base_uri": "https://localhost:8080/"
        },
        "outputId": "a71b1773-6ca8-49de-d717-d7d3e019d950"
      },
      "source": [
        "print(sgd_clf.predict_proba(Xtest))"
      ],
      "id": "c0d7c51f",
      "execution_count": null,
      "outputs": [
        {
          "output_type": "stream",
          "name": "stdout",
          "text": [
            "[[9.94134537e-01 5.86546327e-03]\n",
            " [9.99936980e-01 6.30199570e-05]\n",
            " [9.83866558e-01 1.61334422e-02]\n",
            " ...\n",
            " [9.99249643e-01 7.50356945e-04]\n",
            " [9.99187253e-01 8.12747160e-04]\n",
            " [9.99805723e-01 1.94276696e-04]]\n"
          ]
        }
      ]
    },
    {
      "cell_type": "code",
      "metadata": {
        "id": "11675397"
      },
      "source": [
        "sgd_ypred = sgd_clf.predict(Xtest)"
      ],
      "id": "11675397",
      "execution_count": null,
      "outputs": []
    },
    {
      "cell_type": "code",
      "metadata": {
        "id": "YhQQ05iMTy_g",
        "colab": {
          "base_uri": "https://localhost:8080/"
        },
        "outputId": "91c1abf7-f961-40b6-b53e-28f469bbd317"
      },
      "source": [
        "sklearn.metrics.accuracy_score(ytest,sgd_ypred)"
      ],
      "id": "YhQQ05iMTy_g",
      "execution_count": null,
      "outputs": [
        {
          "output_type": "execute_result",
          "data": {
            "text/plain": [
              "0.7980157244477724"
            ]
          },
          "metadata": {},
          "execution_count": 102
        }
      ]
    },
    {
      "cell_type": "markdown",
      "metadata": {
        "id": "aac2f1fb"
      },
      "source": [
        "Compare Various Models"
      ],
      "id": "aac2f1fb"
    },
    {
      "cell_type": "code",
      "metadata": {
        "id": "36300d3c"
      },
      "source": [
        "#Step 5: Build models \n",
        "from sklearn.linear_model import LogisticRegression \n",
        "from sklearn.tree import DecisionTreeClassifier \n",
        "from sklearn.neighbors import KNeighborsClassifier \n",
        "from sklearn.discriminant_analysis import LinearDiscriminantAnalysis \n",
        "from sklearn.naive_bayes import GaussianNB \n",
        "from sklearn.svm import SVC  \n",
        "from sklearn.ensemble import RandomForestClassifier\n",
        "\n",
        "# Spot Check Algorithms \n",
        "models = [] \n",
        "models.append(('LR', LogisticRegression())) \n",
        "models.append(('LDA', LinearDiscriminantAnalysis())) \n",
        "models.append(('KNN', KNeighborsClassifier())) \n",
        "models.append(('CART', DecisionTreeClassifier())) \n",
        "models.append(('NB', GaussianNB())) \n",
        "models.append(('SVM', SVC()))\n",
        "models.append(('DecisionTree',DecisionTreeClassifier()))\n",
        "models.append(('Random Forest',RandomForestClassifier()))"
      ],
      "id": "36300d3c",
      "execution_count": null,
      "outputs": []
    },
    {
      "cell_type": "code",
      "metadata": {
        "id": "c957ed5d",
        "colab": {
          "base_uri": "https://localhost:8080/"
        },
        "outputId": "da7d4def-7f63-4b48-943b-ceef3b04160e"
      },
      "source": [
        "# evaluate each model in turn \n",
        "results = [] \n",
        "names = [] \n",
        "for name, model in models: \n",
        " kfold = model_selection.KFold(n_splits=10, random_state=None) \n",
        " cv_results = model_selection.cross_val_score(model, Xtrain, ytrain, cv=kfold, scoring='accuracy') \n",
        " results.append(cv_results) \n",
        " names.append(name) \n",
        " msg = \"%s: %f (%f)\" % (name, cv_results.mean(), cv_results.std()) \n",
        " print(msg) "
      ],
      "id": "c957ed5d",
      "execution_count": null,
      "outputs": [
        {
          "output_type": "stream",
          "name": "stderr",
          "text": [
            "/usr/local/lib/python3.7/dist-packages/sklearn/linear_model/_logistic.py:940: ConvergenceWarning: lbfgs failed to converge (status=1):\n",
            "STOP: TOTAL NO. of ITERATIONS REACHED LIMIT.\n",
            "\n",
            "Increase the number of iterations (max_iter) or scale the data as shown in:\n",
            "    https://scikit-learn.org/stable/modules/preprocessing.html\n",
            "Please also refer to the documentation for alternative solver options:\n",
            "    https://scikit-learn.org/stable/modules/linear_model.html#logistic-regression\n",
            "  extra_warning_msg=_LOGISTIC_SOLVER_CONVERGENCE_MSG)\n",
            "/usr/local/lib/python3.7/dist-packages/sklearn/linear_model/_logistic.py:940: ConvergenceWarning: lbfgs failed to converge (status=1):\n",
            "STOP: TOTAL NO. of ITERATIONS REACHED LIMIT.\n",
            "\n",
            "Increase the number of iterations (max_iter) or scale the data as shown in:\n",
            "    https://scikit-learn.org/stable/modules/preprocessing.html\n",
            "Please also refer to the documentation for alternative solver options:\n",
            "    https://scikit-learn.org/stable/modules/linear_model.html#logistic-regression\n",
            "  extra_warning_msg=_LOGISTIC_SOLVER_CONVERGENCE_MSG)\n",
            "/usr/local/lib/python3.7/dist-packages/sklearn/linear_model/_logistic.py:940: ConvergenceWarning: lbfgs failed to converge (status=1):\n",
            "STOP: TOTAL NO. of ITERATIONS REACHED LIMIT.\n",
            "\n",
            "Increase the number of iterations (max_iter) or scale the data as shown in:\n",
            "    https://scikit-learn.org/stable/modules/preprocessing.html\n",
            "Please also refer to the documentation for alternative solver options:\n",
            "    https://scikit-learn.org/stable/modules/linear_model.html#logistic-regression\n",
            "  extra_warning_msg=_LOGISTIC_SOLVER_CONVERGENCE_MSG)\n",
            "/usr/local/lib/python3.7/dist-packages/sklearn/linear_model/_logistic.py:940: ConvergenceWarning: lbfgs failed to converge (status=1):\n",
            "STOP: TOTAL NO. of ITERATIONS REACHED LIMIT.\n",
            "\n",
            "Increase the number of iterations (max_iter) or scale the data as shown in:\n",
            "    https://scikit-learn.org/stable/modules/preprocessing.html\n",
            "Please also refer to the documentation for alternative solver options:\n",
            "    https://scikit-learn.org/stable/modules/linear_model.html#logistic-regression\n",
            "  extra_warning_msg=_LOGISTIC_SOLVER_CONVERGENCE_MSG)\n",
            "/usr/local/lib/python3.7/dist-packages/sklearn/linear_model/_logistic.py:940: ConvergenceWarning: lbfgs failed to converge (status=1):\n",
            "STOP: TOTAL NO. of ITERATIONS REACHED LIMIT.\n",
            "\n",
            "Increase the number of iterations (max_iter) or scale the data as shown in:\n",
            "    https://scikit-learn.org/stable/modules/preprocessing.html\n",
            "Please also refer to the documentation for alternative solver options:\n",
            "    https://scikit-learn.org/stable/modules/linear_model.html#logistic-regression\n",
            "  extra_warning_msg=_LOGISTIC_SOLVER_CONVERGENCE_MSG)\n",
            "/usr/local/lib/python3.7/dist-packages/sklearn/linear_model/_logistic.py:940: ConvergenceWarning: lbfgs failed to converge (status=1):\n",
            "STOP: TOTAL NO. of ITERATIONS REACHED LIMIT.\n",
            "\n",
            "Increase the number of iterations (max_iter) or scale the data as shown in:\n",
            "    https://scikit-learn.org/stable/modules/preprocessing.html\n",
            "Please also refer to the documentation for alternative solver options:\n",
            "    https://scikit-learn.org/stable/modules/linear_model.html#logistic-regression\n",
            "  extra_warning_msg=_LOGISTIC_SOLVER_CONVERGENCE_MSG)\n",
            "/usr/local/lib/python3.7/dist-packages/sklearn/linear_model/_logistic.py:940: ConvergenceWarning: lbfgs failed to converge (status=1):\n",
            "STOP: TOTAL NO. of ITERATIONS REACHED LIMIT.\n",
            "\n",
            "Increase the number of iterations (max_iter) or scale the data as shown in:\n",
            "    https://scikit-learn.org/stable/modules/preprocessing.html\n",
            "Please also refer to the documentation for alternative solver options:\n",
            "    https://scikit-learn.org/stable/modules/linear_model.html#logistic-regression\n",
            "  extra_warning_msg=_LOGISTIC_SOLVER_CONVERGENCE_MSG)\n",
            "/usr/local/lib/python3.7/dist-packages/sklearn/linear_model/_logistic.py:940: ConvergenceWarning: lbfgs failed to converge (status=1):\n",
            "STOP: TOTAL NO. of ITERATIONS REACHED LIMIT.\n",
            "\n",
            "Increase the number of iterations (max_iter) or scale the data as shown in:\n",
            "    https://scikit-learn.org/stable/modules/preprocessing.html\n",
            "Please also refer to the documentation for alternative solver options:\n",
            "    https://scikit-learn.org/stable/modules/linear_model.html#logistic-regression\n",
            "  extra_warning_msg=_LOGISTIC_SOLVER_CONVERGENCE_MSG)\n",
            "/usr/local/lib/python3.7/dist-packages/sklearn/linear_model/_logistic.py:940: ConvergenceWarning: lbfgs failed to converge (status=1):\n",
            "STOP: TOTAL NO. of ITERATIONS REACHED LIMIT.\n",
            "\n",
            "Increase the number of iterations (max_iter) or scale the data as shown in:\n",
            "    https://scikit-learn.org/stable/modules/preprocessing.html\n",
            "Please also refer to the documentation for alternative solver options:\n",
            "    https://scikit-learn.org/stable/modules/linear_model.html#logistic-regression\n",
            "  extra_warning_msg=_LOGISTIC_SOLVER_CONVERGENCE_MSG)\n"
          ]
        },
        {
          "output_type": "stream",
          "name": "stdout",
          "text": [
            "LR: 0.833982 (0.006850)\n",
            "LDA: 0.831688 (0.006119)\n",
            "KNN: 0.809456 (0.008149)\n",
            "CART: 0.749825 (0.008915)\n",
            "NB: 0.699743 (0.009057)\n",
            "SVM: 0.834543 (0.007286)\n",
            "DecisionTree: 0.750246 (0.009248)\n",
            "Random Forest: 0.831267 (0.008250)\n"
          ]
        }
      ]
    },
    {
      "cell_type": "code",
      "metadata": {
        "id": "b3b251aa",
        "colab": {
          "base_uri": "https://localhost:8080/"
        },
        "outputId": "12cba3e5-4fb8-4c08-f172-d3210d6d6642"
      },
      "source": [
        "#Now we can make prediction on most accurate model \n",
        "# Make predictions on validation dataset \n",
        "rf = RandomForestClassifier() \n",
        "rf.fit(Xtrain, ytrain) \n",
        "predictions = rf.predict(Xtest) \n",
        "print(accuracy_score(ytest, predictions)) \n",
        "print(confusion_matrix(ytest, predictions)) \n",
        "print(classification_report(ytest, predictions)) "
      ],
      "id": "b3b251aa",
      "execution_count": null,
      "outputs": [
        {
          "output_type": "stream",
          "name": "stdout",
          "text": [
            "0.8358292774241857\n",
            "[[3969  220]\n",
            " [ 657  496]]\n",
            "              precision    recall  f1-score   support\n",
            "\n",
            "           0       0.86      0.95      0.90      4189\n",
            "           1       0.69      0.43      0.53      1153\n",
            "\n",
            "    accuracy                           0.84      5342\n",
            "   macro avg       0.78      0.69      0.72      5342\n",
            "weighted avg       0.82      0.84      0.82      5342\n",
            "\n"
          ]
        }
      ]
    },
    {
      "cell_type": "code",
      "metadata": {
        "id": "xX7AFpmFymrc"
      },
      "source": [
        ""
      ],
      "id": "xX7AFpmFymrc",
      "execution_count": null,
      "outputs": []
    }
  ]
}